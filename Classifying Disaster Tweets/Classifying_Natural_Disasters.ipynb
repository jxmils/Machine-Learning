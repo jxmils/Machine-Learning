{
  "cells": [
    {
      "cell_type": "markdown",
      "metadata": {
        "id": "6ppVf-XuIY-c"
      },
      "source": [
        "# Classifying Natural Disasters\n",
        "\n",
        "## By Jason Miller \\& Charles Owens"
      ]
    },
    {
      "cell_type": "markdown",
      "metadata": {
        "id": "iMd9Z9Bne-U4"
      },
      "source": [
        "#### Introduction\n",
        "Twitter has emerged as a crucial platform for real-time information sharing, particularly during emergency situations. As a result, organizations such as disaster relief agencies and news outlets are increasingly interested in monitoring Twitter programmatically. However, distinguishing whether a tweet is a genuine disaster announcement or not can be a difficult task for machines, particularly when tweets contain metaphors or figures of speech. While such language may be easily understood by humans, it is challenging for machines to accurately interpret it. \n",
        "<br/>\n",
        "<br/>\n",
        "The aim of this competition is to develop a machine learning model that can accurately determine whether a tweet is related to a genuine disaster or not, using a dataset of 10,000 tweets that have been manually classified. However, this competition presents several challenges. Firstly, the dataset is relatively small, which makes it difficult to train a model accurately. One additional challenge that may be encountered in this competition is an imbalanced dataset. There may be significantly more tweets related to non-disasters than actual disasters in the dataset, which could lead to biased predictions. Furthermore, Twitter users often use different dialects and linguistic styles, which can make it challenging to capture the context of tweets accurately. Additionally, Twitter allows for open speech, which means that tweets often contain diverse textual information such as emojis, hyperlinks, URLs, and HTML. This can create a large vocabulary for most models, further complicating the training process. Tweets can be noisy and ambiguous, with many different interpretations possible. For example, a tweet that contains the word \"fire\" may be related to a real disaster or a metaphorical usage. This can make it challenging for models to accurately predict the correct label. \n",
        "<br/>\n",
        "<br/>\n",
        "This notebook outlines our efforts to create a reliable, robust, and accurate model. We first address data handling, which includes reading in the data, shuffling, and manually labeling mislabeled duplicate training examples. We also emphasize the importance of cleaning the data before model training.\n",
        "<br/>\n",
        "<br/>\n",
        "Subsequently, we developed a baseline model that predicts a disaster-related tweet based on commonly occurring disaster-related keywords. Following this, we analyzed the data to gain a better understanding of key metrics, such as common token counts, tweet lengths, and the distribution of disaster and non-disaster tweets in the dataset. \n",
        "<br/>\n",
        "<br/>\n",
        "After conducting an analysis of the dataset, we began by implementing a state-of-the-art BERT model, which proved to be our most accurate model. We then decided to revisit traditional techniques by implementing a Bag of Words model. Finally, we evaluated each model's performance using key metrics, including confusion matrices, F1 scores, and ROC curves."
      ]
    },
    {
      "cell_type": "markdown",
      "metadata": {
        "id": "uSAWZB9oIf4W"
      },
      "source": [
        "### Important Imports"
      ]
    },
    {
      "cell_type": "code",
      "execution_count": null,
      "metadata": {
        "id": "Dl3Vm6TYIibI",
        "colab": {
          "base_uri": "https://localhost:8080/"
        },
        "outputId": "419249ef-5f1d-4995-a7d9-f566fc9be5e1"
      },
      "outputs": [
        {
          "output_type": "stream",
          "name": "stdout",
          "text": [
            "\u001b[2K     \u001b[90m━━━━━━━━━━━━━━━━━━━━━━━━━━━━━━━━━━━━━━━━\u001b[0m \u001b[32m6.0/6.0 MB\u001b[0m \u001b[31m37.9 MB/s\u001b[0m eta \u001b[36m0:00:00\u001b[0m\n",
            "\u001b[2K     \u001b[90m━━━━━━━━━━━━━━━━━━━━━━━━━━━━━━━━━━━━━━━━\u001b[0m \u001b[32m2.6/2.6 MB\u001b[0m \u001b[31m28.9 MB/s\u001b[0m eta \u001b[36m0:00:00\u001b[0m\n",
            "\u001b[2K     \u001b[90m━━━━━━━━━━━━━━━━━━━━━━━━━━━━━━━━━━━━━━\u001b[0m \u001b[32m240.6/240.6 kB\u001b[0m \u001b[31m16.1 MB/s\u001b[0m eta \u001b[36m0:00:00\u001b[0m\n",
            "\u001b[2K     \u001b[90m━━━━━━━━━━━━━━━━━━━━━━━━━━━━━━━━━━━━━━━━\u001b[0m \u001b[32m43.6/43.6 kB\u001b[0m \u001b[31m3.4 MB/s\u001b[0m eta \u001b[36m0:00:00\u001b[0m\n",
            "\u001b[?25h  Preparing metadata (setup.py) ... \u001b[?25l\u001b[?25hdone\n",
            "\u001b[2K     \u001b[90m━━━━━━━━━━━━━━━━━━━━━━━━━━━━━━━━━━━━━━\u001b[0m \u001b[32m591.0/591.0 kB\u001b[0m \u001b[31m35.3 MB/s\u001b[0m eta \u001b[36m0:00:00\u001b[0m\n",
            "\u001b[2K     \u001b[90m━━━━━━━━━━━━━━━━━━━━━━━━━━━━━━━━━━━━━━━━\u001b[0m \u001b[32m1.3/1.3 MB\u001b[0m \u001b[31m39.2 MB/s\u001b[0m eta \u001b[36m0:00:00\u001b[0m\n",
            "\u001b[2K     \u001b[90m━━━━━━━━━━━━━━━━━━━━━━━━━━━━━━━━━━━━━━\u001b[0m \u001b[32m118.9/118.9 kB\u001b[0m \u001b[31m11.1 MB/s\u001b[0m eta \u001b[36m0:00:00\u001b[0m\n",
            "\u001b[2K     \u001b[90m━━━━━━━━━━━━━━━━━━━━━━━━━━━━━━━━━━━━━━\u001b[0m \u001b[32m630.1/630.1 kB\u001b[0m \u001b[31m30.9 MB/s\u001b[0m eta \u001b[36m0:00:00\u001b[0m\n",
            "\u001b[2K     \u001b[90m━━━━━━━━━━━━━━━━━━━━━━━━━━━━━━━━━━━━━━━━\u001b[0m \u001b[32m17.1/17.1 MB\u001b[0m \u001b[31m45.0 MB/s\u001b[0m eta \u001b[36m0:00:00\u001b[0m\n",
            "\u001b[?25h  Building wheel for seqeval (setup.py) ... \u001b[?25l\u001b[?25hdone\n"
          ]
        }
      ],
      "source": [
        "import numpy as np # linear algebra\n",
        "import pandas as pd # data processing, CSV file I/O (e.g. pd.read_csv)\n",
        "pd.options.mode.chained_assignment = None  # removes false positive warning\n",
        "import matplotlib.pyplot as plt\n",
        "import re # Text cleanup\n",
        "import string # Text cleanup\n",
        "import tensorflow as tf\n",
        "import sklearn.metrics\n",
        "import seaborn as sns  # for nicer plots\n",
        "sns.set(style=\"darkgrid\")  # default style\n",
        "import plotly.graph_objs as plotly  # for interactive plots\n",
        "from sklearn.metrics import confusion_matrix\n",
        "from sklearn.metrics import f1_score\n",
        "from sklearn.metrics import roc_auc_score, roc_curve\n",
        "from tensorflow.keras.utils import plot_model\n",
        "\n",
        "!pip install -q --upgrade tensorflow-hub #for BERT\n",
        "!pip install -q --upgrade tensorflow-text\n",
        "!pip install -q --upgrade tf-models-official"
      ]
    },
    {
      "cell_type": "markdown",
      "metadata": {
        "id": "NhgxKEBjOnx0"
      },
      "source": [
        "### Function which takes a dataframe and predictions and transforms it into a CSV"
      ]
    },
    {
      "cell_type": "code",
      "execution_count": null,
      "metadata": {
        "id": "zvkixDoQOsMG"
      },
      "outputs": [],
      "source": [
        "'''\n",
        "The output_kaggle_test function generates a Kaggle submission file by converting model predictions to the required format and writing them to a CSV file.\n",
        "Inputs: Dataframe and predictions\n",
        "Outputs: None\n",
        "'''\n",
        "def output_kaggle_test(df, preds):\n",
        "  kaggle_df = df[['id']].copy()\n",
        "  kaggle_df['target'] = preds.astype(int)\n",
        "  kaggle_df.to_csv('submission.csv', index = False)\n",
        "  print(kaggle_df.shape)\n",
        "  display(kaggle_df)\n"
      ]
    },
    {
      "cell_type": "markdown",
      "source": [
        "### Function to Plot Model History"
      ],
      "metadata": {
        "id": "gB1DDcFD6hrp"
      }
    },
    {
      "cell_type": "code",
      "source": [
        "def plot_history(history):\n",
        "    plt.plot(history.history['loss'], label='training')\n",
        "    plt.plot(history.history['val_loss'], label='validation')\n",
        "    plt.title('Model loss')\n",
        "    plt.ylabel('Loss')\n",
        "    plt.xlabel('Epoch')\n",
        "    plt.legend()\n",
        "    plt.show()\n"
      ],
      "metadata": {
        "id": "bASgLoAv6hYX"
      },
      "execution_count": null,
      "outputs": []
    },
    {
      "cell_type": "markdown",
      "metadata": {
        "id": "F_6AjEQqj9Vm"
      },
      "source": [
        "### Data Handling"
      ]
    },
    {
      "cell_type": "markdown",
      "metadata": {
        "id": "jnE-nggUIpth"
      },
      "source": [
        "#### Reading in the Data"
      ]
    },
    {
      "cell_type": "code",
      "execution_count": null,
      "metadata": {
        "colab": {
          "base_uri": "https://localhost:8080/"
        },
        "id": "_5eBL0vHIrbs",
        "outputId": "6816695b-5f87-4b17-f5c8-64fc01eaaa56"
      },
      "outputs": [
        {
          "output_type": "stream",
          "name": "stdout",
          "text": [
            "Mounted at /content/drive/\n",
            "Training DataFrame\n"
          ]
        },
        {
          "output_type": "display_data",
          "data": {
            "text/plain": [
              "         id keyword location  \\\n",
              "0         1     NaN      NaN   \n",
              "1         4     NaN      NaN   \n",
              "2         5     NaN      NaN   \n",
              "3         6     NaN      NaN   \n",
              "4         7     NaN      NaN   \n",
              "...     ...     ...      ...   \n",
              "7608  10869     NaN      NaN   \n",
              "7609  10870     NaN      NaN   \n",
              "7610  10871     NaN      NaN   \n",
              "7611  10872     NaN      NaN   \n",
              "7612  10873     NaN      NaN   \n",
              "\n",
              "                                                   text  target  \n",
              "0     Our Deeds are the Reason of this #earthquake M...       1  \n",
              "1                Forest fire near La Ronge Sask. Canada       1  \n",
              "2     All residents asked to 'shelter in place' are ...       1  \n",
              "3     13,000 people receive #wildfires evacuation or...       1  \n",
              "4     Just got sent this photo from Ruby #Alaska as ...       1  \n",
              "...                                                 ...     ...  \n",
              "7608  Two giant cranes holding a bridge collapse int...       1  \n",
              "7609  @aria_ahrary @TheTawniest The out of control w...       1  \n",
              "7610  M1.94 [01:04 UTC]?5km S of Volcano Hawaii. htt...       1  \n",
              "7611  Police investigating after an e-bike collided ...       1  \n",
              "7612  The Latest: More Homes Razed by Northern Calif...       1  \n",
              "\n",
              "[7613 rows x 5 columns]"
            ],
            "text/html": [
              "\n",
              "  <div id=\"df-0212df6b-78b1-4517-a043-8cf15f98306b\">\n",
              "    <div class=\"colab-df-container\">\n",
              "      <div>\n",
              "<style scoped>\n",
              "    .dataframe tbody tr th:only-of-type {\n",
              "        vertical-align: middle;\n",
              "    }\n",
              "\n",
              "    .dataframe tbody tr th {\n",
              "        vertical-align: top;\n",
              "    }\n",
              "\n",
              "    .dataframe thead th {\n",
              "        text-align: right;\n",
              "    }\n",
              "</style>\n",
              "<table border=\"1\" class=\"dataframe\">\n",
              "  <thead>\n",
              "    <tr style=\"text-align: right;\">\n",
              "      <th></th>\n",
              "      <th>id</th>\n",
              "      <th>keyword</th>\n",
              "      <th>location</th>\n",
              "      <th>text</th>\n",
              "      <th>target</th>\n",
              "    </tr>\n",
              "  </thead>\n",
              "  <tbody>\n",
              "    <tr>\n",
              "      <th>0</th>\n",
              "      <td>1</td>\n",
              "      <td>NaN</td>\n",
              "      <td>NaN</td>\n",
              "      <td>Our Deeds are the Reason of this #earthquake M...</td>\n",
              "      <td>1</td>\n",
              "    </tr>\n",
              "    <tr>\n",
              "      <th>1</th>\n",
              "      <td>4</td>\n",
              "      <td>NaN</td>\n",
              "      <td>NaN</td>\n",
              "      <td>Forest fire near La Ronge Sask. Canada</td>\n",
              "      <td>1</td>\n",
              "    </tr>\n",
              "    <tr>\n",
              "      <th>2</th>\n",
              "      <td>5</td>\n",
              "      <td>NaN</td>\n",
              "      <td>NaN</td>\n",
              "      <td>All residents asked to 'shelter in place' are ...</td>\n",
              "      <td>1</td>\n",
              "    </tr>\n",
              "    <tr>\n",
              "      <th>3</th>\n",
              "      <td>6</td>\n",
              "      <td>NaN</td>\n",
              "      <td>NaN</td>\n",
              "      <td>13,000 people receive #wildfires evacuation or...</td>\n",
              "      <td>1</td>\n",
              "    </tr>\n",
              "    <tr>\n",
              "      <th>4</th>\n",
              "      <td>7</td>\n",
              "      <td>NaN</td>\n",
              "      <td>NaN</td>\n",
              "      <td>Just got sent this photo from Ruby #Alaska as ...</td>\n",
              "      <td>1</td>\n",
              "    </tr>\n",
              "    <tr>\n",
              "      <th>...</th>\n",
              "      <td>...</td>\n",
              "      <td>...</td>\n",
              "      <td>...</td>\n",
              "      <td>...</td>\n",
              "      <td>...</td>\n",
              "    </tr>\n",
              "    <tr>\n",
              "      <th>7608</th>\n",
              "      <td>10869</td>\n",
              "      <td>NaN</td>\n",
              "      <td>NaN</td>\n",
              "      <td>Two giant cranes holding a bridge collapse int...</td>\n",
              "      <td>1</td>\n",
              "    </tr>\n",
              "    <tr>\n",
              "      <th>7609</th>\n",
              "      <td>10870</td>\n",
              "      <td>NaN</td>\n",
              "      <td>NaN</td>\n",
              "      <td>@aria_ahrary @TheTawniest The out of control w...</td>\n",
              "      <td>1</td>\n",
              "    </tr>\n",
              "    <tr>\n",
              "      <th>7610</th>\n",
              "      <td>10871</td>\n",
              "      <td>NaN</td>\n",
              "      <td>NaN</td>\n",
              "      <td>M1.94 [01:04 UTC]?5km S of Volcano Hawaii. htt...</td>\n",
              "      <td>1</td>\n",
              "    </tr>\n",
              "    <tr>\n",
              "      <th>7611</th>\n",
              "      <td>10872</td>\n",
              "      <td>NaN</td>\n",
              "      <td>NaN</td>\n",
              "      <td>Police investigating after an e-bike collided ...</td>\n",
              "      <td>1</td>\n",
              "    </tr>\n",
              "    <tr>\n",
              "      <th>7612</th>\n",
              "      <td>10873</td>\n",
              "      <td>NaN</td>\n",
              "      <td>NaN</td>\n",
              "      <td>The Latest: More Homes Razed by Northern Calif...</td>\n",
              "      <td>1</td>\n",
              "    </tr>\n",
              "  </tbody>\n",
              "</table>\n",
              "<p>7613 rows × 5 columns</p>\n",
              "</div>\n",
              "      <button class=\"colab-df-convert\" onclick=\"convertToInteractive('df-0212df6b-78b1-4517-a043-8cf15f98306b')\"\n",
              "              title=\"Convert this dataframe to an interactive table.\"\n",
              "              style=\"display:none;\">\n",
              "        \n",
              "  <svg xmlns=\"http://www.w3.org/2000/svg\" height=\"24px\"viewBox=\"0 0 24 24\"\n",
              "       width=\"24px\">\n",
              "    <path d=\"M0 0h24v24H0V0z\" fill=\"none\"/>\n",
              "    <path d=\"M18.56 5.44l.94 2.06.94-2.06 2.06-.94-2.06-.94-.94-2.06-.94 2.06-2.06.94zm-11 1L8.5 8.5l.94-2.06 2.06-.94-2.06-.94L8.5 2.5l-.94 2.06-2.06.94zm10 10l.94 2.06.94-2.06 2.06-.94-2.06-.94-.94-2.06-.94 2.06-2.06.94z\"/><path d=\"M17.41 7.96l-1.37-1.37c-.4-.4-.92-.59-1.43-.59-.52 0-1.04.2-1.43.59L10.3 9.45l-7.72 7.72c-.78.78-.78 2.05 0 2.83L4 21.41c.39.39.9.59 1.41.59.51 0 1.02-.2 1.41-.59l7.78-7.78 2.81-2.81c.8-.78.8-2.07 0-2.86zM5.41 20L4 18.59l7.72-7.72 1.47 1.35L5.41 20z\"/>\n",
              "  </svg>\n",
              "      </button>\n",
              "      \n",
              "  <style>\n",
              "    .colab-df-container {\n",
              "      display:flex;\n",
              "      flex-wrap:wrap;\n",
              "      gap: 12px;\n",
              "    }\n",
              "\n",
              "    .colab-df-convert {\n",
              "      background-color: #E8F0FE;\n",
              "      border: none;\n",
              "      border-radius: 50%;\n",
              "      cursor: pointer;\n",
              "      display: none;\n",
              "      fill: #1967D2;\n",
              "      height: 32px;\n",
              "      padding: 0 0 0 0;\n",
              "      width: 32px;\n",
              "    }\n",
              "\n",
              "    .colab-df-convert:hover {\n",
              "      background-color: #E2EBFA;\n",
              "      box-shadow: 0px 1px 2px rgba(60, 64, 67, 0.3), 0px 1px 3px 1px rgba(60, 64, 67, 0.15);\n",
              "      fill: #174EA6;\n",
              "    }\n",
              "\n",
              "    [theme=dark] .colab-df-convert {\n",
              "      background-color: #3B4455;\n",
              "      fill: #D2E3FC;\n",
              "    }\n",
              "\n",
              "    [theme=dark] .colab-df-convert:hover {\n",
              "      background-color: #434B5C;\n",
              "      box-shadow: 0px 1px 3px 1px rgba(0, 0, 0, 0.15);\n",
              "      filter: drop-shadow(0px 1px 2px rgba(0, 0, 0, 0.3));\n",
              "      fill: #FFFFFF;\n",
              "    }\n",
              "  </style>\n",
              "\n",
              "      <script>\n",
              "        const buttonEl =\n",
              "          document.querySelector('#df-0212df6b-78b1-4517-a043-8cf15f98306b button.colab-df-convert');\n",
              "        buttonEl.style.display =\n",
              "          google.colab.kernel.accessAllowed ? 'block' : 'none';\n",
              "\n",
              "        async function convertToInteractive(key) {\n",
              "          const element = document.querySelector('#df-0212df6b-78b1-4517-a043-8cf15f98306b');\n",
              "          const dataTable =\n",
              "            await google.colab.kernel.invokeFunction('convertToInteractive',\n",
              "                                                     [key], {});\n",
              "          if (!dataTable) return;\n",
              "\n",
              "          const docLinkHtml = 'Like what you see? Visit the ' +\n",
              "            '<a target=\"_blank\" href=https://colab.research.google.com/notebooks/data_table.ipynb>data table notebook</a>'\n",
              "            + ' to learn more about interactive tables.';\n",
              "          element.innerHTML = '';\n",
              "          dataTable['output_type'] = 'display_data';\n",
              "          await google.colab.output.renderOutput(dataTable, element);\n",
              "          const docLink = document.createElement('div');\n",
              "          docLink.innerHTML = docLinkHtml;\n",
              "          element.appendChild(docLink);\n",
              "        }\n",
              "      </script>\n",
              "    </div>\n",
              "  </div>\n",
              "  "
            ]
          },
          "metadata": {}
        }
      ],
      "source": [
        "# Import drive location where csvs are and mount\n",
        "from google.colab import drive\n",
        "drive.mount('/content/drive/')\n",
        "\n",
        "# Read in using pandas\n",
        "train_df = pd.read_csv('/content/drive/MyDrive/train.csv')\n",
        "test_df = pd.read_csv('/content/drive/MyDrive/test.csv')\n",
        "\n",
        "# Display\n",
        "print('Training DataFrame')\n",
        "display(train_df)"
      ]
    },
    {
      "cell_type": "markdown",
      "metadata": {
        "id": "4slIXmDbzL-Z"
      },
      "source": [
        "#### Shuffling the Indices\n",
        "Shuffling indices is important because it helps to prevent the model from memorizing the order of the data during training. If the data is presented to the model in a specific order, the model may inadvertently learn to rely on this order to make predictions, leading to overfitting and poor generalization to new, unseen data. By shuffling the indices randomly, the model is exposed to a more diverse set of examples during training, which can improve its ability to generalize to new data.\n"
      ]
    },
    {
      "cell_type": "code",
      "execution_count": null,
      "metadata": {
        "colab": {
          "base_uri": "https://localhost:8080/"
        },
        "id": "ZMRkP7e0zOrn",
        "outputId": "8d9a051c-cab4-43b5-a960-8b1eaee69813"
      },
      "outputs": [
        {
          "output_type": "stream",
          "name": "stdout",
          "text": [
            "indices: [   0    1    2 ... 7610 7611 7612] \n",
            "\n",
            "shuffled indices: [ 311 4970  527 ... 1653 2607 2732] \n",
            "\n"
          ]
        },
        {
          "output_type": "display_data",
          "data": {
            "text/plain": [
              "        id         keyword                   location  \\\n",
              "311    454      armageddon              Wrigley Field   \n",
              "4970  7086        meltdown            Two Up Two Down   \n",
              "527    762       avalanche  Score Team Goals Buying @   \n",
              "6362  9094  suicide%20bomb                   Roadside   \n",
              "800   1160          blight        Laventillemoorings    \n",
              "...    ...             ...                        ...   \n",
              "4931  7025          mayhem         Manavadar, Gujarat   \n",
              "3264  4689        engulfed                        USA   \n",
              "1653  2388       collapsed         Alexandria, Egypt.   \n",
              "2607  3742       destroyed                        USA   \n",
              "2732  3924      devastated                 Dorset, UK   \n",
              "\n",
              "                                                   text  target  \n",
              "311   @KatieKatCubs you already know how this shit g...       0  \n",
              "4970  @LeMaireLee @danharmon People Near Meltdown Co...       0  \n",
              "527   1-6 TIX Calgary Flames vs COL Avalanche Presea...       0  \n",
              "6362  If you ever think you running out of choices i...       0  \n",
              "800   If you dotish to blight your car go right ahea...       0  \n",
              "...                                                 ...     ...  \n",
              "4931  They are the real heroes... RIP Brave hearts.....       0  \n",
              "3264  Car engulfed in flames backs up traffic at Par...       1  \n",
              "1653  Great British Bake Off's back and Dorret's cho...       1  \n",
              "2607  Black Eye 9: A space battle occurred at Star O...       0  \n",
              "2732  ???????????? @MikeParrActor absolutely devasta...       0  \n",
              "\n",
              "[7613 rows x 5 columns]"
            ],
            "text/html": [
              "\n",
              "  <div id=\"df-589db70a-ea65-4d6a-88df-4f5d5858ce7d\">\n",
              "    <div class=\"colab-df-container\">\n",
              "      <div>\n",
              "<style scoped>\n",
              "    .dataframe tbody tr th:only-of-type {\n",
              "        vertical-align: middle;\n",
              "    }\n",
              "\n",
              "    .dataframe tbody tr th {\n",
              "        vertical-align: top;\n",
              "    }\n",
              "\n",
              "    .dataframe thead th {\n",
              "        text-align: right;\n",
              "    }\n",
              "</style>\n",
              "<table border=\"1\" class=\"dataframe\">\n",
              "  <thead>\n",
              "    <tr style=\"text-align: right;\">\n",
              "      <th></th>\n",
              "      <th>id</th>\n",
              "      <th>keyword</th>\n",
              "      <th>location</th>\n",
              "      <th>text</th>\n",
              "      <th>target</th>\n",
              "    </tr>\n",
              "  </thead>\n",
              "  <tbody>\n",
              "    <tr>\n",
              "      <th>311</th>\n",
              "      <td>454</td>\n",
              "      <td>armageddon</td>\n",
              "      <td>Wrigley Field</td>\n",
              "      <td>@KatieKatCubs you already know how this shit g...</td>\n",
              "      <td>0</td>\n",
              "    </tr>\n",
              "    <tr>\n",
              "      <th>4970</th>\n",
              "      <td>7086</td>\n",
              "      <td>meltdown</td>\n",
              "      <td>Two Up Two Down</td>\n",
              "      <td>@LeMaireLee @danharmon People Near Meltdown Co...</td>\n",
              "      <td>0</td>\n",
              "    </tr>\n",
              "    <tr>\n",
              "      <th>527</th>\n",
              "      <td>762</td>\n",
              "      <td>avalanche</td>\n",
              "      <td>Score Team Goals Buying @</td>\n",
              "      <td>1-6 TIX Calgary Flames vs COL Avalanche Presea...</td>\n",
              "      <td>0</td>\n",
              "    </tr>\n",
              "    <tr>\n",
              "      <th>6362</th>\n",
              "      <td>9094</td>\n",
              "      <td>suicide%20bomb</td>\n",
              "      <td>Roadside</td>\n",
              "      <td>If you ever think you running out of choices i...</td>\n",
              "      <td>0</td>\n",
              "    </tr>\n",
              "    <tr>\n",
              "      <th>800</th>\n",
              "      <td>1160</td>\n",
              "      <td>blight</td>\n",
              "      <td>Laventillemoorings</td>\n",
              "      <td>If you dotish to blight your car go right ahea...</td>\n",
              "      <td>0</td>\n",
              "    </tr>\n",
              "    <tr>\n",
              "      <th>...</th>\n",
              "      <td>...</td>\n",
              "      <td>...</td>\n",
              "      <td>...</td>\n",
              "      <td>...</td>\n",
              "      <td>...</td>\n",
              "    </tr>\n",
              "    <tr>\n",
              "      <th>4931</th>\n",
              "      <td>7025</td>\n",
              "      <td>mayhem</td>\n",
              "      <td>Manavadar, Gujarat</td>\n",
              "      <td>They are the real heroes... RIP Brave hearts.....</td>\n",
              "      <td>0</td>\n",
              "    </tr>\n",
              "    <tr>\n",
              "      <th>3264</th>\n",
              "      <td>4689</td>\n",
              "      <td>engulfed</td>\n",
              "      <td>USA</td>\n",
              "      <td>Car engulfed in flames backs up traffic at Par...</td>\n",
              "      <td>1</td>\n",
              "    </tr>\n",
              "    <tr>\n",
              "      <th>1653</th>\n",
              "      <td>2388</td>\n",
              "      <td>collapsed</td>\n",
              "      <td>Alexandria, Egypt.</td>\n",
              "      <td>Great British Bake Off's back and Dorret's cho...</td>\n",
              "      <td>1</td>\n",
              "    </tr>\n",
              "    <tr>\n",
              "      <th>2607</th>\n",
              "      <td>3742</td>\n",
              "      <td>destroyed</td>\n",
              "      <td>USA</td>\n",
              "      <td>Black Eye 9: A space battle occurred at Star O...</td>\n",
              "      <td>0</td>\n",
              "    </tr>\n",
              "    <tr>\n",
              "      <th>2732</th>\n",
              "      <td>3924</td>\n",
              "      <td>devastated</td>\n",
              "      <td>Dorset, UK</td>\n",
              "      <td>???????????? @MikeParrActor absolutely devasta...</td>\n",
              "      <td>0</td>\n",
              "    </tr>\n",
              "  </tbody>\n",
              "</table>\n",
              "<p>7613 rows × 5 columns</p>\n",
              "</div>\n",
              "      <button class=\"colab-df-convert\" onclick=\"convertToInteractive('df-589db70a-ea65-4d6a-88df-4f5d5858ce7d')\"\n",
              "              title=\"Convert this dataframe to an interactive table.\"\n",
              "              style=\"display:none;\">\n",
              "        \n",
              "  <svg xmlns=\"http://www.w3.org/2000/svg\" height=\"24px\"viewBox=\"0 0 24 24\"\n",
              "       width=\"24px\">\n",
              "    <path d=\"M0 0h24v24H0V0z\" fill=\"none\"/>\n",
              "    <path d=\"M18.56 5.44l.94 2.06.94-2.06 2.06-.94-2.06-.94-.94-2.06-.94 2.06-2.06.94zm-11 1L8.5 8.5l.94-2.06 2.06-.94-2.06-.94L8.5 2.5l-.94 2.06-2.06.94zm10 10l.94 2.06.94-2.06 2.06-.94-2.06-.94-.94-2.06-.94 2.06-2.06.94z\"/><path d=\"M17.41 7.96l-1.37-1.37c-.4-.4-.92-.59-1.43-.59-.52 0-1.04.2-1.43.59L10.3 9.45l-7.72 7.72c-.78.78-.78 2.05 0 2.83L4 21.41c.39.39.9.59 1.41.59.51 0 1.02-.2 1.41-.59l7.78-7.78 2.81-2.81c.8-.78.8-2.07 0-2.86zM5.41 20L4 18.59l7.72-7.72 1.47 1.35L5.41 20z\"/>\n",
              "  </svg>\n",
              "      </button>\n",
              "      \n",
              "  <style>\n",
              "    .colab-df-container {\n",
              "      display:flex;\n",
              "      flex-wrap:wrap;\n",
              "      gap: 12px;\n",
              "    }\n",
              "\n",
              "    .colab-df-convert {\n",
              "      background-color: #E8F0FE;\n",
              "      border: none;\n",
              "      border-radius: 50%;\n",
              "      cursor: pointer;\n",
              "      display: none;\n",
              "      fill: #1967D2;\n",
              "      height: 32px;\n",
              "      padding: 0 0 0 0;\n",
              "      width: 32px;\n",
              "    }\n",
              "\n",
              "    .colab-df-convert:hover {\n",
              "      background-color: #E2EBFA;\n",
              "      box-shadow: 0px 1px 2px rgba(60, 64, 67, 0.3), 0px 1px 3px 1px rgba(60, 64, 67, 0.15);\n",
              "      fill: #174EA6;\n",
              "    }\n",
              "\n",
              "    [theme=dark] .colab-df-convert {\n",
              "      background-color: #3B4455;\n",
              "      fill: #D2E3FC;\n",
              "    }\n",
              "\n",
              "    [theme=dark] .colab-df-convert:hover {\n",
              "      background-color: #434B5C;\n",
              "      box-shadow: 0px 1px 3px 1px rgba(0, 0, 0, 0.15);\n",
              "      filter: drop-shadow(0px 1px 2px rgba(0, 0, 0, 0.3));\n",
              "      fill: #FFFFFF;\n",
              "    }\n",
              "  </style>\n",
              "\n",
              "      <script>\n",
              "        const buttonEl =\n",
              "          document.querySelector('#df-589db70a-ea65-4d6a-88df-4f5d5858ce7d button.colab-df-convert');\n",
              "        buttonEl.style.display =\n",
              "          google.colab.kernel.accessAllowed ? 'block' : 'none';\n",
              "\n",
              "        async function convertToInteractive(key) {\n",
              "          const element = document.querySelector('#df-589db70a-ea65-4d6a-88df-4f5d5858ce7d');\n",
              "          const dataTable =\n",
              "            await google.colab.kernel.invokeFunction('convertToInteractive',\n",
              "                                                     [key], {});\n",
              "          if (!dataTable) return;\n",
              "\n",
              "          const docLinkHtml = 'Like what you see? Visit the ' +\n",
              "            '<a target=\"_blank\" href=https://colab.research.google.com/notebooks/data_table.ipynb>data table notebook</a>'\n",
              "            + ' to learn more about interactive tables.';\n",
              "          element.innerHTML = '';\n",
              "          dataTable['output_type'] = 'display_data';\n",
              "          await google.colab.output.renderOutput(dataTable, element);\n",
              "          const docLink = document.createElement('div');\n",
              "          docLink.innerHTML = docLinkHtml;\n",
              "          element.appendChild(docLink);\n",
              "        }\n",
              "      </script>\n",
              "    </div>\n",
              "  </div>\n",
              "  "
            ]
          },
          "metadata": {}
        }
      ],
      "source": [
        "# Shuffle the order of the rows without touching the columns.\n",
        "# Get a list of indices corresponding to the rows.\n",
        "indices = np.arange(train_df.shape[0])\n",
        "print('indices:', indices, '\\n')\n",
        "\n",
        "# Next, we shuffle the indices using np.random.permutation, set a random seed to get the same results each time.\n",
        "np.random.seed(0)\n",
        "shuffled_indices = np.random.permutation(indices)\n",
        "print('shuffled indices:', shuffled_indices, '\\n')\n",
        "\n",
        "# Finally, we use dataframe.reindex to change the ordering of the original\n",
        "# dataframe.\n",
        "train_df = train_df.reindex(shuffled_indices)\n",
        "display(train_df)"
      ]
    },
    {
      "cell_type": "markdown",
      "metadata": {
        "id": "fbssULKxa8aD"
      },
      "source": [
        "#### Manually labeling duplicate training examples\n",
        "During our analysis of the training data, we observed that some text values were duplicated with conflicting labels. Initially, our plan was to remove these duplicates, but this would have resulted in a reduction in the amount of available training data. To address this issue, we decided to manually label these duplicates to prevent them from harming the training process. Rather than overwriting the original `target` column, we created a new column named `manual_target` to store these updated labels."
      ]
    },
    {
      "cell_type": "code",
      "execution_count": null,
      "metadata": {
        "colab": {
          "base_uri": "https://localhost:8080/"
        },
        "id": "66z6zyxKbmNw",
        "outputId": "498f43c6-afe5-4125-ecc2-c5a48a49b3ba"
      },
      "outputs": [
        {
          "output_type": "display_data",
          "data": {
            "text/plain": [
              "        id              keyword                    location  \\\n",
              "4299  6105             hellfire  ?????? ??? ?????? ????????   \n",
              "4290  6094             hellfire    Jubail IC, Saudi Arabia.   \n",
              "4312  6123             hellfire          ?????? ???? ??????   \n",
              "4244  6031            hazardous            New Delhi, Delhi   \n",
              "4221  5996            hazardous                         NaN   \n",
              "4239  6023            hazardous           Mysore, Karnataka   \n",
              "2832  4076            displaced    Pedophile hunting ground   \n",
              "2831  4072            displaced    Pedophile hunting ground   \n",
              "2830  4068            displaced    Pedophile hunting ground   \n",
              "2833  4077            displaced    Pedophile hunting ground   \n",
              "4618  6566               injury                         NaN   \n",
              "4597  6537               injury                         NaN   \n",
              "4605  6548               injury                         NaN   \n",
              "4235  6017            hazardous                         NaN   \n",
              "4232  6012            hazardous                         NaN   \n",
              "3266  4691             engulfed                         NaN   \n",
              "3251  4672             engulfed                         NaN   \n",
              "3261  4684             engulfed                         NaN   \n",
              "3240  4656             engulfed                         NaN   \n",
              "3243  4659             engulfed                     Kuwait    \n",
              "3248  4669             engulfed                     Bahrain   \n",
              "4285  6088             hellfire                         NaN   \n",
              "4313  6125             hellfire                         NaN   \n",
              "4305  6112             hellfire                         NaN   \n",
              "4306  6113             hellfire                         NaN   \n",
              "4320  6134             hellfire                   Riyadh ')   \n",
              "1214  1752  buildings%20burning              Epic City, BB.   \n",
              "1365  1968  burning%20buildings              Epic City, BB.   \n",
              "6614  9470            terrorism        Jeddah_Saudi Arabia.   \n",
              "6616  9472            terrorism                      Riyadh   \n",
              "1331  1922  burning%20buildings      Mackay, QLD, Australia   \n",
              "1197  1723  buildings%20burning      Mackay, QLD, Australia   \n",
              "4379  6220             hijacker                   worldwide   \n",
              "4381  6223             hijacker                   worldwide   \n",
              "4284  6087             hellfire                         NaN   \n",
              "4286  6090             hellfire                      Riyadh   \n",
              "4304  6111             hellfire                         NaN   \n",
              "4309  6118             hellfire                         NaN   \n",
              "4292  6097             hellfire                         NaN   \n",
              "4318  6132             hellfire                         NaN   \n",
              "634    916         bioterrorism                         NaN   \n",
              "624    898         bioterrorism                         NaN   \n",
              "630    907         bioterrorism                         NaN   \n",
              "610    881         bioterrorism                         NaN   \n",
              "4019  5710               floods                         NaN   \n",
              "4013  5699               floods                         NaN   \n",
              "3985  5662               floods                         NaN   \n",
              "1349  1950  burning%20buildings                      dallas   \n",
              "1221  1760  buildings%20burning                      dallas   \n",
              "6094  8702              sinking                         NaN   \n",
              "6103  8714              sinking                         NaN   \n",
              "6123  8739              sinking                          MA   \n",
              "6091  8698              sinking    Every Where in the World   \n",
              "5641  8044             refugees                         NaN   \n",
              "5620  8018             refugees                         NaN   \n",
              "\n",
              "                                                   text  target  \n",
              "4299  #Allah describes piling up #wealth thinking it...       0  \n",
              "4290  #Allah describes piling up #wealth thinking it...       0  \n",
              "4312  #Allah describes piling up #wealth thinking it...       1  \n",
              "4244  #foodscare #offers2go #NestleIndia slips into ...       0  \n",
              "4221  #foodscare #offers2go #NestleIndia slips into ...       1  \n",
              "4239  #foodscare #offers2go #NestleIndia slips into ...       1  \n",
              "2832  .POTUS #StrategicPatience is a strategy for #G...       0  \n",
              "2831  .POTUS #StrategicPatience is a strategy for #G...       1  \n",
              "2830  .POTUS #StrategicPatience is a strategy for #G...       1  \n",
              "2833  .POTUS #StrategicPatience is a strategy for #G...       1  \n",
              "4618  CLEARED:incident with injury:I-495  inner loop...       0  \n",
              "4597  CLEARED:incident with injury:I-495  inner loop...       1  \n",
              "4605  CLEARED:incident with injury:I-495  inner loop...       1  \n",
              "4235  Caution: breathing may be hazardous to your he...       0  \n",
              "4232  Caution: breathing may be hazardous to your he...       1  \n",
              "3266  He came to a land which was engulfed in tribal...       0  \n",
              "3251  He came to a land which was engulfed in tribal...       0  \n",
              "3261  He came to a land which was engulfed in tribal...       0  \n",
              "3240  He came to a land which was engulfed in tribal...       0  \n",
              "3243  He came to a land which was engulfed in tribal...       1  \n",
              "3248  He came to a land which was engulfed in tribal...       1  \n",
              "4285  Hellfire is surrounded by desires so be carefu...       0  \n",
              "4313  Hellfire is surrounded by desires so be carefu...       0  \n",
              "4305  Hellfire is surrounded by desires so be carefu...       1  \n",
              "4306  Hellfire! We donÛªt even want to think about ...       0  \n",
              "4320  Hellfire! We donÛªt even want to think about ...       1  \n",
              "1214  I Pledge Allegiance To The P.O.P.E. And The Bu...       0  \n",
              "1365  I Pledge Allegiance To The P.O.P.E. And The Bu...       1  \n",
              "6614  In #islam saving a person is equal in reward t...       0  \n",
              "6616  In #islam saving a person is equal in reward t...       1  \n",
              "1331  Mmmmmm I'm burning.... I'm burning buildings I...       0  \n",
              "1197  Mmmmmm I'm burning.... I'm burning buildings I...       1  \n",
              "4379  RT NotExplained: The only known image of infam...       0  \n",
              "4381  RT NotExplained: The only known image of infam...       1  \n",
              "4284  The Prophet (peace be upon him) said 'Save you...       0  \n",
              "4286  The Prophet (peace be upon him) said 'Save you...       0  \n",
              "4304  The Prophet (peace be upon him) said 'Save you...       0  \n",
              "4309  The Prophet (peace be upon him) said 'Save you...       0  \n",
              "4292  The Prophet (peace be upon him) said 'Save you...       1  \n",
              "4318  The Prophet (peace be upon him) said 'Save you...       1  \n",
              "634                          To fight bioterrorism sir.       0  \n",
              "624                          To fight bioterrorism sir.       0  \n",
              "630                          To fight bioterrorism sir.       1  \n",
              "610                          To fight bioterrorism sir.       1  \n",
              "4019  Who is bringing the tornadoes and floods. Who ...       0  \n",
              "4013  Who is bringing the tornadoes and floods. Who ...       0  \n",
              "3985  Who is bringing the tornadoes and floods. Who ...       1  \n",
              "1349  like for the music video I want some real acti...       0  \n",
              "1221  like for the music video I want some real acti...       1  \n",
              "6094  that horrible sinking feeling when youÛªve be...       0  \n",
              "6103  that horrible sinking feeling when youÛªve be...       0  \n",
              "6123  that horrible sinking feeling when youÛªve be...       1  \n",
              "6091  that horrible sinking feeling when youÛªve be...       1  \n",
              "5641  wowo--=== 12000 Nigerian refugees repatriated ...       0  \n",
              "5620  wowo--=== 12000 Nigerian refugees repatriated ...       1  "
            ],
            "text/html": [
              "\n",
              "  <div id=\"df-ac45d527-03ca-4376-83a7-e952fdb98498\">\n",
              "    <div class=\"colab-df-container\">\n",
              "      <div>\n",
              "<style scoped>\n",
              "    .dataframe tbody tr th:only-of-type {\n",
              "        vertical-align: middle;\n",
              "    }\n",
              "\n",
              "    .dataframe tbody tr th {\n",
              "        vertical-align: top;\n",
              "    }\n",
              "\n",
              "    .dataframe thead th {\n",
              "        text-align: right;\n",
              "    }\n",
              "</style>\n",
              "<table border=\"1\" class=\"dataframe\">\n",
              "  <thead>\n",
              "    <tr style=\"text-align: right;\">\n",
              "      <th></th>\n",
              "      <th>id</th>\n",
              "      <th>keyword</th>\n",
              "      <th>location</th>\n",
              "      <th>text</th>\n",
              "      <th>target</th>\n",
              "    </tr>\n",
              "  </thead>\n",
              "  <tbody>\n",
              "    <tr>\n",
              "      <th>4299</th>\n",
              "      <td>6105</td>\n",
              "      <td>hellfire</td>\n",
              "      <td>?????? ??? ?????? ????????</td>\n",
              "      <td>#Allah describes piling up #wealth thinking it...</td>\n",
              "      <td>0</td>\n",
              "    </tr>\n",
              "    <tr>\n",
              "      <th>4290</th>\n",
              "      <td>6094</td>\n",
              "      <td>hellfire</td>\n",
              "      <td>Jubail IC, Saudi Arabia.</td>\n",
              "      <td>#Allah describes piling up #wealth thinking it...</td>\n",
              "      <td>0</td>\n",
              "    </tr>\n",
              "    <tr>\n",
              "      <th>4312</th>\n",
              "      <td>6123</td>\n",
              "      <td>hellfire</td>\n",
              "      <td>?????? ???? ??????</td>\n",
              "      <td>#Allah describes piling up #wealth thinking it...</td>\n",
              "      <td>1</td>\n",
              "    </tr>\n",
              "    <tr>\n",
              "      <th>4244</th>\n",
              "      <td>6031</td>\n",
              "      <td>hazardous</td>\n",
              "      <td>New Delhi, Delhi</td>\n",
              "      <td>#foodscare #offers2go #NestleIndia slips into ...</td>\n",
              "      <td>0</td>\n",
              "    </tr>\n",
              "    <tr>\n",
              "      <th>4221</th>\n",
              "      <td>5996</td>\n",
              "      <td>hazardous</td>\n",
              "      <td>NaN</td>\n",
              "      <td>#foodscare #offers2go #NestleIndia slips into ...</td>\n",
              "      <td>1</td>\n",
              "    </tr>\n",
              "    <tr>\n",
              "      <th>4239</th>\n",
              "      <td>6023</td>\n",
              "      <td>hazardous</td>\n",
              "      <td>Mysore, Karnataka</td>\n",
              "      <td>#foodscare #offers2go #NestleIndia slips into ...</td>\n",
              "      <td>1</td>\n",
              "    </tr>\n",
              "    <tr>\n",
              "      <th>2832</th>\n",
              "      <td>4076</td>\n",
              "      <td>displaced</td>\n",
              "      <td>Pedophile hunting ground</td>\n",
              "      <td>.POTUS #StrategicPatience is a strategy for #G...</td>\n",
              "      <td>0</td>\n",
              "    </tr>\n",
              "    <tr>\n",
              "      <th>2831</th>\n",
              "      <td>4072</td>\n",
              "      <td>displaced</td>\n",
              "      <td>Pedophile hunting ground</td>\n",
              "      <td>.POTUS #StrategicPatience is a strategy for #G...</td>\n",
              "      <td>1</td>\n",
              "    </tr>\n",
              "    <tr>\n",
              "      <th>2830</th>\n",
              "      <td>4068</td>\n",
              "      <td>displaced</td>\n",
              "      <td>Pedophile hunting ground</td>\n",
              "      <td>.POTUS #StrategicPatience is a strategy for #G...</td>\n",
              "      <td>1</td>\n",
              "    </tr>\n",
              "    <tr>\n",
              "      <th>2833</th>\n",
              "      <td>4077</td>\n",
              "      <td>displaced</td>\n",
              "      <td>Pedophile hunting ground</td>\n",
              "      <td>.POTUS #StrategicPatience is a strategy for #G...</td>\n",
              "      <td>1</td>\n",
              "    </tr>\n",
              "    <tr>\n",
              "      <th>4618</th>\n",
              "      <td>6566</td>\n",
              "      <td>injury</td>\n",
              "      <td>NaN</td>\n",
              "      <td>CLEARED:incident with injury:I-495  inner loop...</td>\n",
              "      <td>0</td>\n",
              "    </tr>\n",
              "    <tr>\n",
              "      <th>4597</th>\n",
              "      <td>6537</td>\n",
              "      <td>injury</td>\n",
              "      <td>NaN</td>\n",
              "      <td>CLEARED:incident with injury:I-495  inner loop...</td>\n",
              "      <td>1</td>\n",
              "    </tr>\n",
              "    <tr>\n",
              "      <th>4605</th>\n",
              "      <td>6548</td>\n",
              "      <td>injury</td>\n",
              "      <td>NaN</td>\n",
              "      <td>CLEARED:incident with injury:I-495  inner loop...</td>\n",
              "      <td>1</td>\n",
              "    </tr>\n",
              "    <tr>\n",
              "      <th>4235</th>\n",
              "      <td>6017</td>\n",
              "      <td>hazardous</td>\n",
              "      <td>NaN</td>\n",
              "      <td>Caution: breathing may be hazardous to your he...</td>\n",
              "      <td>0</td>\n",
              "    </tr>\n",
              "    <tr>\n",
              "      <th>4232</th>\n",
              "      <td>6012</td>\n",
              "      <td>hazardous</td>\n",
              "      <td>NaN</td>\n",
              "      <td>Caution: breathing may be hazardous to your he...</td>\n",
              "      <td>1</td>\n",
              "    </tr>\n",
              "    <tr>\n",
              "      <th>3266</th>\n",
              "      <td>4691</td>\n",
              "      <td>engulfed</td>\n",
              "      <td>NaN</td>\n",
              "      <td>He came to a land which was engulfed in tribal...</td>\n",
              "      <td>0</td>\n",
              "    </tr>\n",
              "    <tr>\n",
              "      <th>3251</th>\n",
              "      <td>4672</td>\n",
              "      <td>engulfed</td>\n",
              "      <td>NaN</td>\n",
              "      <td>He came to a land which was engulfed in tribal...</td>\n",
              "      <td>0</td>\n",
              "    </tr>\n",
              "    <tr>\n",
              "      <th>3261</th>\n",
              "      <td>4684</td>\n",
              "      <td>engulfed</td>\n",
              "      <td>NaN</td>\n",
              "      <td>He came to a land which was engulfed in tribal...</td>\n",
              "      <td>0</td>\n",
              "    </tr>\n",
              "    <tr>\n",
              "      <th>3240</th>\n",
              "      <td>4656</td>\n",
              "      <td>engulfed</td>\n",
              "      <td>NaN</td>\n",
              "      <td>He came to a land which was engulfed in tribal...</td>\n",
              "      <td>0</td>\n",
              "    </tr>\n",
              "    <tr>\n",
              "      <th>3243</th>\n",
              "      <td>4659</td>\n",
              "      <td>engulfed</td>\n",
              "      <td>Kuwait</td>\n",
              "      <td>He came to a land which was engulfed in tribal...</td>\n",
              "      <td>1</td>\n",
              "    </tr>\n",
              "    <tr>\n",
              "      <th>3248</th>\n",
              "      <td>4669</td>\n",
              "      <td>engulfed</td>\n",
              "      <td>Bahrain</td>\n",
              "      <td>He came to a land which was engulfed in tribal...</td>\n",
              "      <td>1</td>\n",
              "    </tr>\n",
              "    <tr>\n",
              "      <th>4285</th>\n",
              "      <td>6088</td>\n",
              "      <td>hellfire</td>\n",
              "      <td>NaN</td>\n",
              "      <td>Hellfire is surrounded by desires so be carefu...</td>\n",
              "      <td>0</td>\n",
              "    </tr>\n",
              "    <tr>\n",
              "      <th>4313</th>\n",
              "      <td>6125</td>\n",
              "      <td>hellfire</td>\n",
              "      <td>NaN</td>\n",
              "      <td>Hellfire is surrounded by desires so be carefu...</td>\n",
              "      <td>0</td>\n",
              "    </tr>\n",
              "    <tr>\n",
              "      <th>4305</th>\n",
              "      <td>6112</td>\n",
              "      <td>hellfire</td>\n",
              "      <td>NaN</td>\n",
              "      <td>Hellfire is surrounded by desires so be carefu...</td>\n",
              "      <td>1</td>\n",
              "    </tr>\n",
              "    <tr>\n",
              "      <th>4306</th>\n",
              "      <td>6113</td>\n",
              "      <td>hellfire</td>\n",
              "      <td>NaN</td>\n",
              "      <td>Hellfire! We donÛªt even want to think about ...</td>\n",
              "      <td>0</td>\n",
              "    </tr>\n",
              "    <tr>\n",
              "      <th>4320</th>\n",
              "      <td>6134</td>\n",
              "      <td>hellfire</td>\n",
              "      <td>Riyadh ')</td>\n",
              "      <td>Hellfire! We donÛªt even want to think about ...</td>\n",
              "      <td>1</td>\n",
              "    </tr>\n",
              "    <tr>\n",
              "      <th>1214</th>\n",
              "      <td>1752</td>\n",
              "      <td>buildings%20burning</td>\n",
              "      <td>Epic City, BB.</td>\n",
              "      <td>I Pledge Allegiance To The P.O.P.E. And The Bu...</td>\n",
              "      <td>0</td>\n",
              "    </tr>\n",
              "    <tr>\n",
              "      <th>1365</th>\n",
              "      <td>1968</td>\n",
              "      <td>burning%20buildings</td>\n",
              "      <td>Epic City, BB.</td>\n",
              "      <td>I Pledge Allegiance To The P.O.P.E. And The Bu...</td>\n",
              "      <td>1</td>\n",
              "    </tr>\n",
              "    <tr>\n",
              "      <th>6614</th>\n",
              "      <td>9470</td>\n",
              "      <td>terrorism</td>\n",
              "      <td>Jeddah_Saudi Arabia.</td>\n",
              "      <td>In #islam saving a person is equal in reward t...</td>\n",
              "      <td>0</td>\n",
              "    </tr>\n",
              "    <tr>\n",
              "      <th>6616</th>\n",
              "      <td>9472</td>\n",
              "      <td>terrorism</td>\n",
              "      <td>Riyadh</td>\n",
              "      <td>In #islam saving a person is equal in reward t...</td>\n",
              "      <td>1</td>\n",
              "    </tr>\n",
              "    <tr>\n",
              "      <th>1331</th>\n",
              "      <td>1922</td>\n",
              "      <td>burning%20buildings</td>\n",
              "      <td>Mackay, QLD, Australia</td>\n",
              "      <td>Mmmmmm I'm burning.... I'm burning buildings I...</td>\n",
              "      <td>0</td>\n",
              "    </tr>\n",
              "    <tr>\n",
              "      <th>1197</th>\n",
              "      <td>1723</td>\n",
              "      <td>buildings%20burning</td>\n",
              "      <td>Mackay, QLD, Australia</td>\n",
              "      <td>Mmmmmm I'm burning.... I'm burning buildings I...</td>\n",
              "      <td>1</td>\n",
              "    </tr>\n",
              "    <tr>\n",
              "      <th>4379</th>\n",
              "      <td>6220</td>\n",
              "      <td>hijacker</td>\n",
              "      <td>worldwide</td>\n",
              "      <td>RT NotExplained: The only known image of infam...</td>\n",
              "      <td>0</td>\n",
              "    </tr>\n",
              "    <tr>\n",
              "      <th>4381</th>\n",
              "      <td>6223</td>\n",
              "      <td>hijacker</td>\n",
              "      <td>worldwide</td>\n",
              "      <td>RT NotExplained: The only known image of infam...</td>\n",
              "      <td>1</td>\n",
              "    </tr>\n",
              "    <tr>\n",
              "      <th>4284</th>\n",
              "      <td>6087</td>\n",
              "      <td>hellfire</td>\n",
              "      <td>NaN</td>\n",
              "      <td>The Prophet (peace be upon him) said 'Save you...</td>\n",
              "      <td>0</td>\n",
              "    </tr>\n",
              "    <tr>\n",
              "      <th>4286</th>\n",
              "      <td>6090</td>\n",
              "      <td>hellfire</td>\n",
              "      <td>Riyadh</td>\n",
              "      <td>The Prophet (peace be upon him) said 'Save you...</td>\n",
              "      <td>0</td>\n",
              "    </tr>\n",
              "    <tr>\n",
              "      <th>4304</th>\n",
              "      <td>6111</td>\n",
              "      <td>hellfire</td>\n",
              "      <td>NaN</td>\n",
              "      <td>The Prophet (peace be upon him) said 'Save you...</td>\n",
              "      <td>0</td>\n",
              "    </tr>\n",
              "    <tr>\n",
              "      <th>4309</th>\n",
              "      <td>6118</td>\n",
              "      <td>hellfire</td>\n",
              "      <td>NaN</td>\n",
              "      <td>The Prophet (peace be upon him) said 'Save you...</td>\n",
              "      <td>0</td>\n",
              "    </tr>\n",
              "    <tr>\n",
              "      <th>4292</th>\n",
              "      <td>6097</td>\n",
              "      <td>hellfire</td>\n",
              "      <td>NaN</td>\n",
              "      <td>The Prophet (peace be upon him) said 'Save you...</td>\n",
              "      <td>1</td>\n",
              "    </tr>\n",
              "    <tr>\n",
              "      <th>4318</th>\n",
              "      <td>6132</td>\n",
              "      <td>hellfire</td>\n",
              "      <td>NaN</td>\n",
              "      <td>The Prophet (peace be upon him) said 'Save you...</td>\n",
              "      <td>1</td>\n",
              "    </tr>\n",
              "    <tr>\n",
              "      <th>634</th>\n",
              "      <td>916</td>\n",
              "      <td>bioterrorism</td>\n",
              "      <td>NaN</td>\n",
              "      <td>To fight bioterrorism sir.</td>\n",
              "      <td>0</td>\n",
              "    </tr>\n",
              "    <tr>\n",
              "      <th>624</th>\n",
              "      <td>898</td>\n",
              "      <td>bioterrorism</td>\n",
              "      <td>NaN</td>\n",
              "      <td>To fight bioterrorism sir.</td>\n",
              "      <td>0</td>\n",
              "    </tr>\n",
              "    <tr>\n",
              "      <th>630</th>\n",
              "      <td>907</td>\n",
              "      <td>bioterrorism</td>\n",
              "      <td>NaN</td>\n",
              "      <td>To fight bioterrorism sir.</td>\n",
              "      <td>1</td>\n",
              "    </tr>\n",
              "    <tr>\n",
              "      <th>610</th>\n",
              "      <td>881</td>\n",
              "      <td>bioterrorism</td>\n",
              "      <td>NaN</td>\n",
              "      <td>To fight bioterrorism sir.</td>\n",
              "      <td>1</td>\n",
              "    </tr>\n",
              "    <tr>\n",
              "      <th>4019</th>\n",
              "      <td>5710</td>\n",
              "      <td>floods</td>\n",
              "      <td>NaN</td>\n",
              "      <td>Who is bringing the tornadoes and floods. Who ...</td>\n",
              "      <td>0</td>\n",
              "    </tr>\n",
              "    <tr>\n",
              "      <th>4013</th>\n",
              "      <td>5699</td>\n",
              "      <td>floods</td>\n",
              "      <td>NaN</td>\n",
              "      <td>Who is bringing the tornadoes and floods. Who ...</td>\n",
              "      <td>0</td>\n",
              "    </tr>\n",
              "    <tr>\n",
              "      <th>3985</th>\n",
              "      <td>5662</td>\n",
              "      <td>floods</td>\n",
              "      <td>NaN</td>\n",
              "      <td>Who is bringing the tornadoes and floods. Who ...</td>\n",
              "      <td>1</td>\n",
              "    </tr>\n",
              "    <tr>\n",
              "      <th>1349</th>\n",
              "      <td>1950</td>\n",
              "      <td>burning%20buildings</td>\n",
              "      <td>dallas</td>\n",
              "      <td>like for the music video I want some real acti...</td>\n",
              "      <td>0</td>\n",
              "    </tr>\n",
              "    <tr>\n",
              "      <th>1221</th>\n",
              "      <td>1760</td>\n",
              "      <td>buildings%20burning</td>\n",
              "      <td>dallas</td>\n",
              "      <td>like for the music video I want some real acti...</td>\n",
              "      <td>1</td>\n",
              "    </tr>\n",
              "    <tr>\n",
              "      <th>6094</th>\n",
              "      <td>8702</td>\n",
              "      <td>sinking</td>\n",
              "      <td>NaN</td>\n",
              "      <td>that horrible sinking feeling when youÛªve be...</td>\n",
              "      <td>0</td>\n",
              "    </tr>\n",
              "    <tr>\n",
              "      <th>6103</th>\n",
              "      <td>8714</td>\n",
              "      <td>sinking</td>\n",
              "      <td>NaN</td>\n",
              "      <td>that horrible sinking feeling when youÛªve be...</td>\n",
              "      <td>0</td>\n",
              "    </tr>\n",
              "    <tr>\n",
              "      <th>6123</th>\n",
              "      <td>8739</td>\n",
              "      <td>sinking</td>\n",
              "      <td>MA</td>\n",
              "      <td>that horrible sinking feeling when youÛªve be...</td>\n",
              "      <td>1</td>\n",
              "    </tr>\n",
              "    <tr>\n",
              "      <th>6091</th>\n",
              "      <td>8698</td>\n",
              "      <td>sinking</td>\n",
              "      <td>Every Where in the World</td>\n",
              "      <td>that horrible sinking feeling when youÛªve be...</td>\n",
              "      <td>1</td>\n",
              "    </tr>\n",
              "    <tr>\n",
              "      <th>5641</th>\n",
              "      <td>8044</td>\n",
              "      <td>refugees</td>\n",
              "      <td>NaN</td>\n",
              "      <td>wowo--=== 12000 Nigerian refugees repatriated ...</td>\n",
              "      <td>0</td>\n",
              "    </tr>\n",
              "    <tr>\n",
              "      <th>5620</th>\n",
              "      <td>8018</td>\n",
              "      <td>refugees</td>\n",
              "      <td>NaN</td>\n",
              "      <td>wowo--=== 12000 Nigerian refugees repatriated ...</td>\n",
              "      <td>1</td>\n",
              "    </tr>\n",
              "  </tbody>\n",
              "</table>\n",
              "</div>\n",
              "      <button class=\"colab-df-convert\" onclick=\"convertToInteractive('df-ac45d527-03ca-4376-83a7-e952fdb98498')\"\n",
              "              title=\"Convert this dataframe to an interactive table.\"\n",
              "              style=\"display:none;\">\n",
              "        \n",
              "  <svg xmlns=\"http://www.w3.org/2000/svg\" height=\"24px\"viewBox=\"0 0 24 24\"\n",
              "       width=\"24px\">\n",
              "    <path d=\"M0 0h24v24H0V0z\" fill=\"none\"/>\n",
              "    <path d=\"M18.56 5.44l.94 2.06.94-2.06 2.06-.94-2.06-.94-.94-2.06-.94 2.06-2.06.94zm-11 1L8.5 8.5l.94-2.06 2.06-.94-2.06-.94L8.5 2.5l-.94 2.06-2.06.94zm10 10l.94 2.06.94-2.06 2.06-.94-2.06-.94-.94-2.06-.94 2.06-2.06.94z\"/><path d=\"M17.41 7.96l-1.37-1.37c-.4-.4-.92-.59-1.43-.59-.52 0-1.04.2-1.43.59L10.3 9.45l-7.72 7.72c-.78.78-.78 2.05 0 2.83L4 21.41c.39.39.9.59 1.41.59.51 0 1.02-.2 1.41-.59l7.78-7.78 2.81-2.81c.8-.78.8-2.07 0-2.86zM5.41 20L4 18.59l7.72-7.72 1.47 1.35L5.41 20z\"/>\n",
              "  </svg>\n",
              "      </button>\n",
              "      \n",
              "  <style>\n",
              "    .colab-df-container {\n",
              "      display:flex;\n",
              "      flex-wrap:wrap;\n",
              "      gap: 12px;\n",
              "    }\n",
              "\n",
              "    .colab-df-convert {\n",
              "      background-color: #E8F0FE;\n",
              "      border: none;\n",
              "      border-radius: 50%;\n",
              "      cursor: pointer;\n",
              "      display: none;\n",
              "      fill: #1967D2;\n",
              "      height: 32px;\n",
              "      padding: 0 0 0 0;\n",
              "      width: 32px;\n",
              "    }\n",
              "\n",
              "    .colab-df-convert:hover {\n",
              "      background-color: #E2EBFA;\n",
              "      box-shadow: 0px 1px 2px rgba(60, 64, 67, 0.3), 0px 1px 3px 1px rgba(60, 64, 67, 0.15);\n",
              "      fill: #174EA6;\n",
              "    }\n",
              "\n",
              "    [theme=dark] .colab-df-convert {\n",
              "      background-color: #3B4455;\n",
              "      fill: #D2E3FC;\n",
              "    }\n",
              "\n",
              "    [theme=dark] .colab-df-convert:hover {\n",
              "      background-color: #434B5C;\n",
              "      box-shadow: 0px 1px 3px 1px rgba(0, 0, 0, 0.15);\n",
              "      filter: drop-shadow(0px 1px 2px rgba(0, 0, 0, 0.3));\n",
              "      fill: #FFFFFF;\n",
              "    }\n",
              "  </style>\n",
              "\n",
              "      <script>\n",
              "        const buttonEl =\n",
              "          document.querySelector('#df-ac45d527-03ca-4376-83a7-e952fdb98498 button.colab-df-convert');\n",
              "        buttonEl.style.display =\n",
              "          google.colab.kernel.accessAllowed ? 'block' : 'none';\n",
              "\n",
              "        async function convertToInteractive(key) {\n",
              "          const element = document.querySelector('#df-ac45d527-03ca-4376-83a7-e952fdb98498');\n",
              "          const dataTable =\n",
              "            await google.colab.kernel.invokeFunction('convertToInteractive',\n",
              "                                                     [key], {});\n",
              "          if (!dataTable) return;\n",
              "\n",
              "          const docLinkHtml = 'Like what you see? Visit the ' +\n",
              "            '<a target=\"_blank\" href=https://colab.research.google.com/notebooks/data_table.ipynb>data table notebook</a>'\n",
              "            + ' to learn more about interactive tables.';\n",
              "          element.innerHTML = '';\n",
              "          dataTable['output_type'] = 'display_data';\n",
              "          await google.colab.output.renderOutput(dataTable, element);\n",
              "          const docLink = document.createElement('div');\n",
              "          docLink.innerHTML = docLinkHtml;\n",
              "          element.appendChild(docLink);\n",
              "        }\n",
              "      </script>\n",
              "    </div>\n",
              "  </div>\n",
              "  "
            ]
          },
          "metadata": {}
        }
      ],
      "source": [
        "# Find duplicates in the 'text' column the keep is set to False in order to create a boolean mask\n",
        "duplicates = train_df.duplicated(subset = ['text'], keep = False)\n",
        "\n",
        "# Keep only rows with duplicates\n",
        "duplicates_df = train_df[duplicates]\n",
        "\n",
        "# This counts the number of unique values in the target column for each of the duplicates and creates a boolean mask \n",
        "# for the ones with differening labels\n",
        "mislabeled = duplicates_df.groupby('text')['target'].nunique() > 1\n",
        "\n",
        "# Then sort them so its easier to identify which the conflicting labels\n",
        "conflicting_labels = duplicates_df[duplicates_df['text'].isin(mislabeled[mislabeled].index)].sort_values(by=['text', 'target'])\n",
        "\n",
        "# display the 'text' and 'target' columns of the filtered DataFrame\n",
        "display(conflicting_labels)"
      ]
    },
    {
      "cell_type": "code",
      "execution_count": null,
      "metadata": {
        "id": "RUOLYCsRv4H4"
      },
      "outputs": [],
      "source": [
        "# Creating a new column and copy over the old targets\n",
        "train_df['manual_relabeled'] = train_df['target'].copy()\n",
        "\n",
        "# Manually re label\n",
        "train_df.loc[train_df['text'] == '#Allah describes piling up #wealth thinking it would last #forever as the description of the people of #Hellfire in Surah Humaza. #Reflect', 'manual_relabeled'] = 0\n",
        "train_df.loc[train_df['text'] == '#foodscare #offers2go #NestleIndia slips into loss after #Magginoodle #ban unsafe and hazardous for #humanconsumption', 'manual_relabeled'] = 0\n",
        "train_df.loc[train_df['text'] == '.POTUS #StrategicPatience is a strategy for #Genocide; refugees; IDP Internally displaced people; horror; etc. https://t.co/rqWuoy1fm4', 'manual_relabeled'] = 1\n",
        "train_df.loc[train_df['text'] == 'CLEARED:incident with injury:I-495  inner loop Exit 31 - MD 97/Georgia Ave Silver Spring', 'manual_relabeled'] = 1\n",
        "train_df.loc[train_df['text'] == \"Caution: breathing may be hazardous to your health.\", 'manual_relabeled'] = 1\n",
        "train_df.loc[train_df['text'] == \"He came to a land which was engulfed in tribal war and turned it into a land of peace i.e. Madinah. #ProphetMuhammad #islam\", 'manual_relabeled'] = 0\n",
        "train_df.loc[train_df['text'] == 'Hellfire is surrounded by desires so be careful and donÛªt let your desires control you! #Afterlife', 'manual_relabeled'] = 0\n",
        "train_df.loc[train_df['text'] == \"Hellfire! We donÛªt even want to think about it or mention it so letÛªs not do anything that leads to it #islam!\", 'manual_relabeled'] = 0\n",
        "train_df.loc[train_df['text'] == \"I Pledge Allegiance To The P.O.P.E. And The Burning Buildings of Epic City. ??????\", 'manual_relabeled'] = 0\n",
        "train_df.loc[train_df['text'] == 'In #islam saving a person is equal in reward to saving all humans! Islam is the opposite of terrorism!', 'manual_relabeled'] = 0\n",
        "train_df.loc[train_df['text'] == \"Mmmmmm I'm burning.... I'm burning buildings I'm building.... Oooooohhhh oooh ooh...\", 'manual_relabeled'] = 0\n",
        "train_df.loc[train_df['text'] == 'RT NotExplained: The only known image of infamous hijacker D.B. Cooper. http://t.co/JlzK2HdeTG', 'manual_relabeled'] = 1\n",
        "train_df.loc[train_df['text'] == \"The Prophet (peace be upon him) said 'Save yourself from Hellfire even if it is by giving half a date in charity.'\", 'manual_relabeled'] = 0\n",
        "train_df.loc[train_df['text'] == 'To fight bioterrorism sir.', 'manual_relabeled'] = 0\n",
        "train_df.loc[train_df['text'] == 'Who is bringing the tornadoes and floods. Who is bringing the climate change. God is after America He is plaguing her\\n \\n#FARRAKHAN #QUOTE', 'manual_relabeled'] = 1\n",
        "train_df.loc[train_df['text'] == 'like for the music video I want some real action shit like burning buildings and police chases not some weak ben winston shit', 'manual_relabeled'] = 0\n",
        "train_df.loc[train_df['text'] == \"that horrible sinking feeling when youÛªve been at home on your phone for a while and you realise its been on 3G this whole time\", 'manual_relabeled'] = 0\n",
        "train_df.loc[train_df['text'] == \"wowo--=== 12000 Nigerian refugees repatriated from Cameroon\", 'manual_relabeled'] = 0"
      ]
    },
    {
      "cell_type": "markdown",
      "metadata": {
        "id": "gE0avbcoTeA3"
      },
      "source": [
        "#### Clean the Data\n",
        "Our text cleaning involved removing noise and irrelevant information from the text data, which helped to improve the quality of the model's predictions. Noise could come in many forms, including emojis, URLs, HTML tags, usernames, punctuation, and digits. Removing these elements from the text could reduce the vocabulary size and complexity of the data, making it easier for the model to extract meaningful information from it. This could improve the accuracy of the model and reduce the risk of overfitting to irrelevant information. In summary, cleaning the text data was an essential step in preparing the data for use in machine learning models, especially those that relied on textual data such as Bag of Words and BERT."
      ]
    },
    {
      "cell_type": "code",
      "execution_count": null,
      "metadata": {
        "id": "rBRwuQlDTg2n",
        "colab": {
          "base_uri": "https://localhost:8080/"
        },
        "outputId": "f708c8ea-4fc6-4883-e8fe-4e6d7e2d3a13"
      },
      "outputs": [
        {
          "output_type": "stream",
          "name": "stdout",
          "text": [
            "Training DataFrame\n"
          ]
        },
        {
          "output_type": "display_data",
          "data": {
            "text/plain": [
              "        id         keyword                   location  \\\n",
              "311    454      armageddon              Wrigley Field   \n",
              "4970  7086        meltdown            Two Up Two Down   \n",
              "527    762       avalanche  Score Team Goals Buying @   \n",
              "6362  9094  suicide%20bomb                   Roadside   \n",
              "800   1160          blight        Laventillemoorings    \n",
              "...    ...             ...                        ...   \n",
              "4931  7025          mayhem         Manavadar, Gujarat   \n",
              "3264  4689        engulfed                        USA   \n",
              "1653  2388       collapsed         Alexandria, Egypt.   \n",
              "2607  3742       destroyed                        USA   \n",
              "2732  3924      devastated                 Dorset, UK   \n",
              "\n",
              "                                                   text  target  \\\n",
              "311    you already know how this shit goes world ser...       0   \n",
              "4970    people near meltdown comics who have free ti...       0   \n",
              "527    tix calgary flames vs col avalanche preseason...       0   \n",
              "6362  if you ever think you running out of choices i...       0   \n",
              "800   if you dotish to blight your car go right ahea...       0   \n",
              "...                                                 ...     ...   \n",
              "4931         they are the real heroes rip brave hearts        0   \n",
              "3264  car engulfed in flames backs up traffic at par...       1   \n",
              "1653  great british bake offs back and dorrets choco...       1   \n",
              "2607  black eye  a space battle occurred at star o i...       0   \n",
              "2732    absolutely devastated what an actor will mis...       0   \n",
              "\n",
              "      manual_relabeled  \n",
              "311                  0  \n",
              "4970                 0  \n",
              "527                  0  \n",
              "6362                 0  \n",
              "800                  0  \n",
              "...                ...  \n",
              "4931                 0  \n",
              "3264                 1  \n",
              "1653                 1  \n",
              "2607                 0  \n",
              "2732                 0  \n",
              "\n",
              "[7613 rows x 6 columns]"
            ],
            "text/html": [
              "\n",
              "  <div id=\"df-5795b941-7cd2-4613-b4f3-ed2ab0e9da26\">\n",
              "    <div class=\"colab-df-container\">\n",
              "      <div>\n",
              "<style scoped>\n",
              "    .dataframe tbody tr th:only-of-type {\n",
              "        vertical-align: middle;\n",
              "    }\n",
              "\n",
              "    .dataframe tbody tr th {\n",
              "        vertical-align: top;\n",
              "    }\n",
              "\n",
              "    .dataframe thead th {\n",
              "        text-align: right;\n",
              "    }\n",
              "</style>\n",
              "<table border=\"1\" class=\"dataframe\">\n",
              "  <thead>\n",
              "    <tr style=\"text-align: right;\">\n",
              "      <th></th>\n",
              "      <th>id</th>\n",
              "      <th>keyword</th>\n",
              "      <th>location</th>\n",
              "      <th>text</th>\n",
              "      <th>target</th>\n",
              "      <th>manual_relabeled</th>\n",
              "    </tr>\n",
              "  </thead>\n",
              "  <tbody>\n",
              "    <tr>\n",
              "      <th>311</th>\n",
              "      <td>454</td>\n",
              "      <td>armageddon</td>\n",
              "      <td>Wrigley Field</td>\n",
              "      <td>you already know how this shit goes world ser...</td>\n",
              "      <td>0</td>\n",
              "      <td>0</td>\n",
              "    </tr>\n",
              "    <tr>\n",
              "      <th>4970</th>\n",
              "      <td>7086</td>\n",
              "      <td>meltdown</td>\n",
              "      <td>Two Up Two Down</td>\n",
              "      <td>people near meltdown comics who have free ti...</td>\n",
              "      <td>0</td>\n",
              "      <td>0</td>\n",
              "    </tr>\n",
              "    <tr>\n",
              "      <th>527</th>\n",
              "      <td>762</td>\n",
              "      <td>avalanche</td>\n",
              "      <td>Score Team Goals Buying @</td>\n",
              "      <td>tix calgary flames vs col avalanche preseason...</td>\n",
              "      <td>0</td>\n",
              "      <td>0</td>\n",
              "    </tr>\n",
              "    <tr>\n",
              "      <th>6362</th>\n",
              "      <td>9094</td>\n",
              "      <td>suicide%20bomb</td>\n",
              "      <td>Roadside</td>\n",
              "      <td>if you ever think you running out of choices i...</td>\n",
              "      <td>0</td>\n",
              "      <td>0</td>\n",
              "    </tr>\n",
              "    <tr>\n",
              "      <th>800</th>\n",
              "      <td>1160</td>\n",
              "      <td>blight</td>\n",
              "      <td>Laventillemoorings</td>\n",
              "      <td>if you dotish to blight your car go right ahea...</td>\n",
              "      <td>0</td>\n",
              "      <td>0</td>\n",
              "    </tr>\n",
              "    <tr>\n",
              "      <th>...</th>\n",
              "      <td>...</td>\n",
              "      <td>...</td>\n",
              "      <td>...</td>\n",
              "      <td>...</td>\n",
              "      <td>...</td>\n",
              "      <td>...</td>\n",
              "    </tr>\n",
              "    <tr>\n",
              "      <th>4931</th>\n",
              "      <td>7025</td>\n",
              "      <td>mayhem</td>\n",
              "      <td>Manavadar, Gujarat</td>\n",
              "      <td>they are the real heroes rip brave hearts</td>\n",
              "      <td>0</td>\n",
              "      <td>0</td>\n",
              "    </tr>\n",
              "    <tr>\n",
              "      <th>3264</th>\n",
              "      <td>4689</td>\n",
              "      <td>engulfed</td>\n",
              "      <td>USA</td>\n",
              "      <td>car engulfed in flames backs up traffic at par...</td>\n",
              "      <td>1</td>\n",
              "      <td>1</td>\n",
              "    </tr>\n",
              "    <tr>\n",
              "      <th>1653</th>\n",
              "      <td>2388</td>\n",
              "      <td>collapsed</td>\n",
              "      <td>Alexandria, Egypt.</td>\n",
              "      <td>great british bake offs back and dorrets choco...</td>\n",
              "      <td>1</td>\n",
              "      <td>1</td>\n",
              "    </tr>\n",
              "    <tr>\n",
              "      <th>2607</th>\n",
              "      <td>3742</td>\n",
              "      <td>destroyed</td>\n",
              "      <td>USA</td>\n",
              "      <td>black eye  a space battle occurred at star o i...</td>\n",
              "      <td>0</td>\n",
              "      <td>0</td>\n",
              "    </tr>\n",
              "    <tr>\n",
              "      <th>2732</th>\n",
              "      <td>3924</td>\n",
              "      <td>devastated</td>\n",
              "      <td>Dorset, UK</td>\n",
              "      <td>absolutely devastated what an actor will mis...</td>\n",
              "      <td>0</td>\n",
              "      <td>0</td>\n",
              "    </tr>\n",
              "  </tbody>\n",
              "</table>\n",
              "<p>7613 rows × 6 columns</p>\n",
              "</div>\n",
              "      <button class=\"colab-df-convert\" onclick=\"convertToInteractive('df-5795b941-7cd2-4613-b4f3-ed2ab0e9da26')\"\n",
              "              title=\"Convert this dataframe to an interactive table.\"\n",
              "              style=\"display:none;\">\n",
              "        \n",
              "  <svg xmlns=\"http://www.w3.org/2000/svg\" height=\"24px\"viewBox=\"0 0 24 24\"\n",
              "       width=\"24px\">\n",
              "    <path d=\"M0 0h24v24H0V0z\" fill=\"none\"/>\n",
              "    <path d=\"M18.56 5.44l.94 2.06.94-2.06 2.06-.94-2.06-.94-.94-2.06-.94 2.06-2.06.94zm-11 1L8.5 8.5l.94-2.06 2.06-.94-2.06-.94L8.5 2.5l-.94 2.06-2.06.94zm10 10l.94 2.06.94-2.06 2.06-.94-2.06-.94-.94-2.06-.94 2.06-2.06.94z\"/><path d=\"M17.41 7.96l-1.37-1.37c-.4-.4-.92-.59-1.43-.59-.52 0-1.04.2-1.43.59L10.3 9.45l-7.72 7.72c-.78.78-.78 2.05 0 2.83L4 21.41c.39.39.9.59 1.41.59.51 0 1.02-.2 1.41-.59l7.78-7.78 2.81-2.81c.8-.78.8-2.07 0-2.86zM5.41 20L4 18.59l7.72-7.72 1.47 1.35L5.41 20z\"/>\n",
              "  </svg>\n",
              "      </button>\n",
              "      \n",
              "  <style>\n",
              "    .colab-df-container {\n",
              "      display:flex;\n",
              "      flex-wrap:wrap;\n",
              "      gap: 12px;\n",
              "    }\n",
              "\n",
              "    .colab-df-convert {\n",
              "      background-color: #E8F0FE;\n",
              "      border: none;\n",
              "      border-radius: 50%;\n",
              "      cursor: pointer;\n",
              "      display: none;\n",
              "      fill: #1967D2;\n",
              "      height: 32px;\n",
              "      padding: 0 0 0 0;\n",
              "      width: 32px;\n",
              "    }\n",
              "\n",
              "    .colab-df-convert:hover {\n",
              "      background-color: #E2EBFA;\n",
              "      box-shadow: 0px 1px 2px rgba(60, 64, 67, 0.3), 0px 1px 3px 1px rgba(60, 64, 67, 0.15);\n",
              "      fill: #174EA6;\n",
              "    }\n",
              "\n",
              "    [theme=dark] .colab-df-convert {\n",
              "      background-color: #3B4455;\n",
              "      fill: #D2E3FC;\n",
              "    }\n",
              "\n",
              "    [theme=dark] .colab-df-convert:hover {\n",
              "      background-color: #434B5C;\n",
              "      box-shadow: 0px 1px 3px 1px rgba(0, 0, 0, 0.15);\n",
              "      filter: drop-shadow(0px 1px 2px rgba(0, 0, 0, 0.3));\n",
              "      fill: #FFFFFF;\n",
              "    }\n",
              "  </style>\n",
              "\n",
              "      <script>\n",
              "        const buttonEl =\n",
              "          document.querySelector('#df-5795b941-7cd2-4613-b4f3-ed2ab0e9da26 button.colab-df-convert');\n",
              "        buttonEl.style.display =\n",
              "          google.colab.kernel.accessAllowed ? 'block' : 'none';\n",
              "\n",
              "        async function convertToInteractive(key) {\n",
              "          const element = document.querySelector('#df-5795b941-7cd2-4613-b4f3-ed2ab0e9da26');\n",
              "          const dataTable =\n",
              "            await google.colab.kernel.invokeFunction('convertToInteractive',\n",
              "                                                     [key], {});\n",
              "          if (!dataTable) return;\n",
              "\n",
              "          const docLinkHtml = 'Like what you see? Visit the ' +\n",
              "            '<a target=\"_blank\" href=https://colab.research.google.com/notebooks/data_table.ipynb>data table notebook</a>'\n",
              "            + ' to learn more about interactive tables.';\n",
              "          element.innerHTML = '';\n",
              "          dataTable['output_type'] = 'display_data';\n",
              "          await google.colab.output.renderOutput(dataTable, element);\n",
              "          const docLink = document.createElement('div');\n",
              "          docLink.innerHTML = docLinkHtml;\n",
              "          element.appendChild(docLink);\n",
              "        }\n",
              "      </script>\n",
              "    </div>\n",
              "  </div>\n",
              "  "
            ]
          },
          "metadata": {}
        }
      ],
      "source": [
        "def clean_text(text):\n",
        "    # Lowercase\n",
        "    text = text.lower()\n",
        "\n",
        "    # Remove emojis\n",
        "    emoji_pattern = re.compile(\n",
        "        '['\n",
        "        u'\\U0001F600-\\U0001F64F'\n",
        "        u'\\U0001F300-\\U0001F5FF'  \n",
        "        u'\\U0001F680-\\U0001F6FF'  \n",
        "        u'\\U0001F1E0-\\U0001F1FF'  \n",
        "        u'\\U00002702-\\U000027B0'\n",
        "        u'\\U000024C2-\\U0001F251'\n",
        "        ']+',\n",
        "        flags=re.UNICODE)\n",
        "    text = emoji_pattern.sub(r'', text)\n",
        "\n",
        "    \n",
        "    # Remove digits\n",
        "    text = re.sub(r'\\d+', '', text) \n",
        "\n",
        "    # Remove URLs\n",
        "    text = re.sub(r'https?://\\S+|www\\.\\S+', '', text)\n",
        "\n",
        "    # Remove HTML tags\n",
        "    text = re.sub(r'<.*?>', '', text)\n",
        "\n",
        "    # Remove usernames\n",
        "    text = re.sub(r'@[\\w]+', '', text)\n",
        "\n",
        "    # Remove punctuation\n",
        "    text = text.translate(str.maketrans('', '', string.punctuation))\n",
        "\n",
        "    return text\n",
        "\n",
        "# Clean the dataframe text column\n",
        "train_df.loc[:, 'text'] = train_df['text'].apply(clean_text)\n",
        "test_df.loc[:, 'text'] = test_df['text'].apply(clean_text)\n",
        "\n",
        "# Display after cleaning\n",
        "print('Training DataFrame')\n",
        "display(train_df)"
      ]
    },
    {
      "cell_type": "markdown",
      "metadata": {
        "id": "aLBtTQ4iL5U3"
      },
      "source": [
        "#### Split the Data\n"
      ]
    },
    {
      "cell_type": "code",
      "execution_count": null,
      "metadata": {
        "id": "CXk4jQWvMQ46"
      },
      "outputs": [],
      "source": [
        "# Split the training data 90% training and 10% validation\n",
        "train_df_split = train_df[:int(0.9*len(train_df))]\n",
        "train_df_split_labels = train_df_split['manual_relabeled']\n",
        "validation_df = train_df[int(0.9*len(train_df)):]\n",
        "validation_labels = np.array(validation_df['manual_relabeled'])"
      ]
    },
    {
      "cell_type": "markdown",
      "metadata": {
        "id": "V0skqP37Msj3"
      },
      "source": [
        "### Baseline System"
      ]
    },
    {
      "cell_type": "code",
      "execution_count": null,
      "metadata": {
        "id": "obRKiTMNMwJ8"
      },
      "outputs": [],
      "source": [
        "# baseline system which checks if the tweet contains a disaster keyword and returns 1 if true else false\n",
        "# Inputs: Dataframe\n",
        "# Outputs: Predictions\n",
        "def baseline(df):\n",
        "\n",
        "  # Define a set to hold keywords\n",
        "  disaster_keywords = set(['earthquake', 'tsunami', 'hurricane', 'flood', 'tornado', 'wildfire', \n",
        "                         'volcano', 'cyclone', 'landslide', 'avalanche', 'blizzard', 'thunderstorm', \n",
        "                         'hailstorm', 'drought', 'heatwave', 'cold wave', 'epidemic', 'pandemic', \n",
        "                         'terrorist attack', 'explosion', 'chemical spill', 'gas leak', 'nuclear accident', \n",
        "                         'industrial accident', 'plane crash', 'train derailment', 'shipwreck', 'building collapse', \n",
        "                         'riot', 'civil unrest', 'ablaze', 'fire', 'waves', 'flooding', 'forest', 'evacuation', 'typhoon'\n",
        "                         'apocolypse', 'derailment', 'emergency', 'crash', 'aftershock', 'airplane', 'killed', 'dying', 'drunk',\n",
        "                         'annihilation', 'arson', 'fallout', 'attack', 'dies', 'accident', 'fight', 'fighting', 'torches', \n",
        "                         'arsonist', 'bioterror', 'bioterrorism', 'blown', 'suicide', 'bombed', 'flames', 'burned', 'burning', 'collapsed'])\n",
        "  predictions = np.array([])\n",
        "\n",
        "  # Iterate over text column in dataframe\n",
        "  for text in df['text']:\n",
        "\n",
        "      # Remove whitespace and split each text\n",
        "      text_words = [word.strip() for word in text.split()]\n",
        "      found = False\n",
        "      for word in text_words:\n",
        "          if word in disaster_keywords: \n",
        "              predictions = np.append(predictions, 1)\n",
        "              found = True\n",
        "              break\n",
        "      if not found:\n",
        "          predictions = np.append(predictions, 0)\n",
        "  return predictions"
      ]
    },
    {
      "cell_type": "markdown",
      "metadata": {
        "id": "007InXozsKMy"
      },
      "source": [
        "#### Baseline Validation and Test Predictions"
      ]
    },
    {
      "cell_type": "code",
      "execution_count": null,
      "metadata": {
        "id": "2zV1bOvUOUaY",
        "colab": {
          "base_uri": "https://localhost:8080/"
        },
        "outputId": "d70b063e-67d9-4362-d0bd-e722b5153009"
      },
      "outputs": [
        {
          "output_type": "stream",
          "name": "stdout",
          "text": [
            "(3263, 2)\n"
          ]
        },
        {
          "output_type": "display_data",
          "data": {
            "text/plain": [
              "         id  target\n",
              "0         0       1\n",
              "1         2       1\n",
              "2         3       1\n",
              "3         9       0\n",
              "4        11       0\n",
              "...     ...     ...\n",
              "3258  10861       1\n",
              "3259  10865       1\n",
              "3260  10868       1\n",
              "3261  10874       0\n",
              "3262  10875       1\n",
              "\n",
              "[3263 rows x 2 columns]"
            ],
            "text/html": [
              "\n",
              "  <div id=\"df-564a2207-2b7a-4e47-9afe-41c6963cf4c5\">\n",
              "    <div class=\"colab-df-container\">\n",
              "      <div>\n",
              "<style scoped>\n",
              "    .dataframe tbody tr th:only-of-type {\n",
              "        vertical-align: middle;\n",
              "    }\n",
              "\n",
              "    .dataframe tbody tr th {\n",
              "        vertical-align: top;\n",
              "    }\n",
              "\n",
              "    .dataframe thead th {\n",
              "        text-align: right;\n",
              "    }\n",
              "</style>\n",
              "<table border=\"1\" class=\"dataframe\">\n",
              "  <thead>\n",
              "    <tr style=\"text-align: right;\">\n",
              "      <th></th>\n",
              "      <th>id</th>\n",
              "      <th>target</th>\n",
              "    </tr>\n",
              "  </thead>\n",
              "  <tbody>\n",
              "    <tr>\n",
              "      <th>0</th>\n",
              "      <td>0</td>\n",
              "      <td>1</td>\n",
              "    </tr>\n",
              "    <tr>\n",
              "      <th>1</th>\n",
              "      <td>2</td>\n",
              "      <td>1</td>\n",
              "    </tr>\n",
              "    <tr>\n",
              "      <th>2</th>\n",
              "      <td>3</td>\n",
              "      <td>1</td>\n",
              "    </tr>\n",
              "    <tr>\n",
              "      <th>3</th>\n",
              "      <td>9</td>\n",
              "      <td>0</td>\n",
              "    </tr>\n",
              "    <tr>\n",
              "      <th>4</th>\n",
              "      <td>11</td>\n",
              "      <td>0</td>\n",
              "    </tr>\n",
              "    <tr>\n",
              "      <th>...</th>\n",
              "      <td>...</td>\n",
              "      <td>...</td>\n",
              "    </tr>\n",
              "    <tr>\n",
              "      <th>3258</th>\n",
              "      <td>10861</td>\n",
              "      <td>1</td>\n",
              "    </tr>\n",
              "    <tr>\n",
              "      <th>3259</th>\n",
              "      <td>10865</td>\n",
              "      <td>1</td>\n",
              "    </tr>\n",
              "    <tr>\n",
              "      <th>3260</th>\n",
              "      <td>10868</td>\n",
              "      <td>1</td>\n",
              "    </tr>\n",
              "    <tr>\n",
              "      <th>3261</th>\n",
              "      <td>10874</td>\n",
              "      <td>0</td>\n",
              "    </tr>\n",
              "    <tr>\n",
              "      <th>3262</th>\n",
              "      <td>10875</td>\n",
              "      <td>1</td>\n",
              "    </tr>\n",
              "  </tbody>\n",
              "</table>\n",
              "<p>3263 rows × 2 columns</p>\n",
              "</div>\n",
              "      <button class=\"colab-df-convert\" onclick=\"convertToInteractive('df-564a2207-2b7a-4e47-9afe-41c6963cf4c5')\"\n",
              "              title=\"Convert this dataframe to an interactive table.\"\n",
              "              style=\"display:none;\">\n",
              "        \n",
              "  <svg xmlns=\"http://www.w3.org/2000/svg\" height=\"24px\"viewBox=\"0 0 24 24\"\n",
              "       width=\"24px\">\n",
              "    <path d=\"M0 0h24v24H0V0z\" fill=\"none\"/>\n",
              "    <path d=\"M18.56 5.44l.94 2.06.94-2.06 2.06-.94-2.06-.94-.94-2.06-.94 2.06-2.06.94zm-11 1L8.5 8.5l.94-2.06 2.06-.94-2.06-.94L8.5 2.5l-.94 2.06-2.06.94zm10 10l.94 2.06.94-2.06 2.06-.94-2.06-.94-.94-2.06-.94 2.06-2.06.94z\"/><path d=\"M17.41 7.96l-1.37-1.37c-.4-.4-.92-.59-1.43-.59-.52 0-1.04.2-1.43.59L10.3 9.45l-7.72 7.72c-.78.78-.78 2.05 0 2.83L4 21.41c.39.39.9.59 1.41.59.51 0 1.02-.2 1.41-.59l7.78-7.78 2.81-2.81c.8-.78.8-2.07 0-2.86zM5.41 20L4 18.59l7.72-7.72 1.47 1.35L5.41 20z\"/>\n",
              "  </svg>\n",
              "      </button>\n",
              "      \n",
              "  <style>\n",
              "    .colab-df-container {\n",
              "      display:flex;\n",
              "      flex-wrap:wrap;\n",
              "      gap: 12px;\n",
              "    }\n",
              "\n",
              "    .colab-df-convert {\n",
              "      background-color: #E8F0FE;\n",
              "      border: none;\n",
              "      border-radius: 50%;\n",
              "      cursor: pointer;\n",
              "      display: none;\n",
              "      fill: #1967D2;\n",
              "      height: 32px;\n",
              "      padding: 0 0 0 0;\n",
              "      width: 32px;\n",
              "    }\n",
              "\n",
              "    .colab-df-convert:hover {\n",
              "      background-color: #E2EBFA;\n",
              "      box-shadow: 0px 1px 2px rgba(60, 64, 67, 0.3), 0px 1px 3px 1px rgba(60, 64, 67, 0.15);\n",
              "      fill: #174EA6;\n",
              "    }\n",
              "\n",
              "    [theme=dark] .colab-df-convert {\n",
              "      background-color: #3B4455;\n",
              "      fill: #D2E3FC;\n",
              "    }\n",
              "\n",
              "    [theme=dark] .colab-df-convert:hover {\n",
              "      background-color: #434B5C;\n",
              "      box-shadow: 0px 1px 3px 1px rgba(0, 0, 0, 0.15);\n",
              "      filter: drop-shadow(0px 1px 2px rgba(0, 0, 0, 0.3));\n",
              "      fill: #FFFFFF;\n",
              "    }\n",
              "  </style>\n",
              "\n",
              "      <script>\n",
              "        const buttonEl =\n",
              "          document.querySelector('#df-564a2207-2b7a-4e47-9afe-41c6963cf4c5 button.colab-df-convert');\n",
              "        buttonEl.style.display =\n",
              "          google.colab.kernel.accessAllowed ? 'block' : 'none';\n",
              "\n",
              "        async function convertToInteractive(key) {\n",
              "          const element = document.querySelector('#df-564a2207-2b7a-4e47-9afe-41c6963cf4c5');\n",
              "          const dataTable =\n",
              "            await google.colab.kernel.invokeFunction('convertToInteractive',\n",
              "                                                     [key], {});\n",
              "          if (!dataTable) return;\n",
              "\n",
              "          const docLinkHtml = 'Like what you see? Visit the ' +\n",
              "            '<a target=\"_blank\" href=https://colab.research.google.com/notebooks/data_table.ipynb>data table notebook</a>'\n",
              "            + ' to learn more about interactive tables.';\n",
              "          element.innerHTML = '';\n",
              "          dataTable['output_type'] = 'display_data';\n",
              "          await google.colab.output.renderOutput(dataTable, element);\n",
              "          const docLink = document.createElement('div');\n",
              "          docLink.innerHTML = docLinkHtml;\n",
              "          element.appendChild(docLink);\n",
              "        }\n",
              "      </script>\n",
              "    </div>\n",
              "  </div>\n",
              "  "
            ]
          },
          "metadata": {}
        }
      ],
      "source": [
        "# Get the predictions for the validation set\n",
        "validation_predictions = baseline(validation_df)\n",
        "\n",
        "# Give the baseline input\n",
        "test_predictions = baseline(test_df)\n",
        "\n",
        "# Output to kaggle csv\n",
        "output_kaggle_test(test_df, test_predictions)"
      ]
    },
    {
      "cell_type": "markdown",
      "metadata": {
        "id": "X5Rzhep_WX7d"
      },
      "source": [
        "### Calculating the F1 score\n",
        "**Precision** is the proportion of positive predictions that were actually correct:\n",
        "\n",
        "\\begin{equation}\n",
        "Precision = \\frac{TP}{TP + FP}\n",
        "\\end{equation}\n",
        "\n",
        "**Recall** is the proportion of actual positives that were predicted correctly:\n",
        "\n",
        "\\begin{equation}\n",
        "Recall = \\frac{TP}{TP + FN}\n",
        "\\end{equation}\n",
        "\n",
        "**F1** is generally described as the harmonic mean of the two. Harmonic mean is just another way to calculate an “average” of values:\n",
        "\n",
        "\\begin{equation}\n",
        "F1 = 2 \\times \\frac{Precision \\times Recall}{Precision + Recall}\n",
        "\\end{equation}"
      ]
    },
    {
      "cell_type": "markdown",
      "metadata": {
        "id": "h7yAzJUDspg8"
      },
      "source": [
        "### F1 Score Function"
      ]
    },
    {
      "cell_type": "code",
      "execution_count": null,
      "metadata": {
        "id": "s5_5Vd37sngk"
      },
      "outputs": [],
      "source": [
        "# Function expects both prediction and label vectors and returns the F1 score.\n",
        "def calc_F1(predictions, labels):\n",
        "\n",
        "  # Calculate True Positives, True Negatives, False Positives, False Negatives \n",
        "  tp = sum([1 for i in range(len(predictions)) if predictions[i] == 1 and labels[i] == 1])\n",
        "  tn = sum([1 for i in range(len(predictions)) if predictions[i] == 0 and labels[i] == 0])\n",
        "  fp = sum([1 for i in range(len(predictions)) if predictions[i] == 1 and labels[i] == 0])\n",
        "  fn = sum([1 for i in range(len(predictions)) if predictions[i] == 0 and labels[i] == 1])\n",
        "\n",
        "  # Find Accuracy, Precision, Recall, and F1 score\n",
        "  accuracy = (tp + tn) / (tp + tn + fp + fn)\n",
        "  precision = tp / (tp + fp)\n",
        "  recall = tp / (tp + fn)\n",
        "  f1 = 2 * ((precision * recall)/(precision + recall))\n",
        "\n",
        "  print('Accuracy:', accuracy)\n",
        "  print('Precision:', precision)\n",
        "  print('Recall:', recall)\n",
        "  print('\\n')\n",
        "  print('F1:', f1)\n",
        "\n",
        "  return f1"
      ]
    },
    {
      "cell_type": "markdown",
      "metadata": {
        "id": "Kj5nt9Ggta9Q"
      },
      "source": [
        "#### Baseline F1 Scores"
      ]
    },
    {
      "cell_type": "code",
      "execution_count": null,
      "metadata": {
        "id": "ZuvwanKdteGB",
        "colab": {
          "base_uri": "https://localhost:8080/"
        },
        "outputId": "b3ce16b7-8e0e-404b-d35a-c02e81832d85"
      },
      "outputs": [
        {
          "output_type": "stream",
          "name": "stdout",
          "text": [
            "For the validation set:\n",
            "Accuracy: 0.6902887139107612\n",
            "Precision: 0.7340425531914894\n",
            "Recall: 0.42592592592592593\n",
            "\n",
            "\n",
            "F1: 0.5390625\n",
            "\n",
            "The Kaggle test F1 score : 0.6307\n"
          ]
        }
      ],
      "source": [
        "# Find the validation set F1\n",
        "print('For the validation set:')\n",
        "validation_f1 = calc_F1(validation_predictions, validation_labels)\n",
        "print()\n",
        "\n",
        "# Display the kaggle F1\n",
        "print('The Kaggle test F1 score : 0.6307')"
      ]
    },
    {
      "cell_type": "markdown",
      "metadata": {
        "id": "IMhQUq8at1WA"
      },
      "source": [
        "### Understanding the Data"
      ]
    },
    {
      "cell_type": "markdown",
      "metadata": {
        "id": "ZKZjJUTBoJcS"
      },
      "source": [
        "#### Disaster/Non-Disaster Count"
      ]
    },
    {
      "cell_type": "code",
      "execution_count": null,
      "metadata": {
        "id": "FkvG5J6qtb_Y",
        "colab": {
          "base_uri": "https://localhost:8080/",
          "height": 498
        },
        "outputId": "65ee849d-6336-484b-933c-f6ccebb51a65"
      },
      "outputs": [
        {
          "output_type": "execute_result",
          "data": {
            "text/plain": [
              "Text(0.5, 1.0, 'Training Set Count of Disaster and Non-Disaster Tweets')"
            ]
          },
          "metadata": {},
          "execution_count": 14
        },
        {
          "output_type": "display_data",
          "data": {
            "text/plain": [
              "<Figure size 640x480 with 1 Axes>"
            ],
            "image/png": "[encoded data removed]"
          },
          "metadata": {}
        }
      ],
      "source": [
        "# Count the number of non-disaster and disaster tweets\n",
        "disaster_count = (train_df['target'] == 1).sum()\n",
        "non_disaster_count = (train_df['target'] == 0).sum()\n",
        "\n",
        "# Plot a bar chart of the counts\n",
        "labels = ['Disaster', 'Non-Disaster']\n",
        "counts = [disaster_count, non_disaster_count]\n",
        "plt.bar(labels, counts)\n",
        "plt.xlabel('Classification')\n",
        "plt.ylabel('Count')\n",
        "plt.title('Training Set Count of Disaster and Non-Disaster Tweets')"
      ]
    },
    {
      "cell_type": "markdown",
      "metadata": {
        "id": "bUJn3mvUrhrE"
      },
      "source": [
        "#### Common Token Count\n",
        "At first, we attempted finding the frequency of all words and displaying the top ten most frequent. Although, as expected this resulted in very common tokens being displayed such as: `the`, `a`, `and`, etc..."
      ]
    },
    {
      "cell_type": "code",
      "execution_count": null,
      "metadata": {
        "id": "OmTK5SMfrn0k",
        "colab": {
          "base_uri": "https://localhost:8080/"
        },
        "outputId": "9a364bf1-053e-4eb5-a8fa-e92eae76911e"
      },
      "outputs": [
        {
          "output_type": "stream",
          "name": "stdout",
          "text": [
            "Top 10 most frequent words in disaster tweets:\n",
            "the 1358\n",
            "in 1159\n",
            "a 931\n",
            "of 922\n",
            "to 757\n",
            "and 501\n",
            "on 417\n",
            "for 399\n",
            "is 349\n",
            "i 321\n",
            "\n",
            "Top 10 most frequent words in non-disaster tweets:\n",
            "the 1903\n",
            "a 1257\n",
            "to 1188\n",
            "i 1077\n",
            "and 917\n",
            "of 901\n",
            "in 818\n",
            "you 664\n",
            "is 595\n",
            "my 544\n"
          ]
        }
      ],
      "source": [
        "# Define two empty dictionaries to store the word frequencies\n",
        "dis_tweet_words = {}\n",
        "non_dis_tweet_words = {}\n",
        "\n",
        "# Iterate over the disaster and non-disaster tweets and count the frequency of all words\n",
        "for index, row in train_df.iterrows():\n",
        "    tweet = row['text'].split()\n",
        "    for word in tweet:\n",
        "        if row['target'] == 1:\n",
        "            if word in dis_tweet_words:\n",
        "                dis_tweet_words[word] += 1\n",
        "            else:\n",
        "                dis_tweet_words[word] = 1\n",
        "        else:\n",
        "            if word in non_dis_tweet_words:\n",
        "                non_dis_tweet_words[word] += 1\n",
        "            else:\n",
        "                non_dis_tweet_words[word] = 1\n",
        "\n",
        "# Sort the word frequencies in descending order\n",
        "sorted_dis_tweet_words = sorted(dis_tweet_words.items(), key=lambda x: x[1], reverse=True)\n",
        "sorted_non_dis_tweet_words = sorted(non_dis_tweet_words.items(), key=lambda x: x[1], reverse=True)     \n",
        "\n",
        "# Print the top 10 most frequent words in each category\n",
        "print(\"Top 10 most frequent words in disaster tweets:\")\n",
        "for i in range(10):\n",
        "    print(sorted_dis_tweet_words[i][0], sorted_dis_tweet_words[i][1])\n",
        "print()\n",
        "print(\"Top 10 most frequent words in non-disaster tweets:\")\n",
        "for i in range(10):\n",
        "    print(sorted_non_dis_tweet_words[i][0], sorted_non_dis_tweet_words[i][1])"
      ]
    },
    {
      "cell_type": "markdown",
      "metadata": {
        "id": "MZIPPTYTuMY5"
      },
      "source": [
        "#### Specified Token Count\n",
        "Due to the results in the previous subsection, we decided to specify certain disaster keywords and find their token counts in disaster/non-disaster tweets. Additionally, we decided to add removing stopwords to our text cleaning function. \\\\\n",
        "Note: the tokens chosen were found in the baseline function and corresponded to disaster keywords."
      ]
    },
    {
      "cell_type": "code",
      "execution_count": null,
      "metadata": {
        "id": "B-3doQ3yuZGu",
        "colab": {
          "base_uri": "https://localhost:8080/"
        },
        "outputId": "31172f85-2d64-4680-d4c0-4df382a81d5d"
      },
      "outputs": [
        {
          "output_type": "stream",
          "name": "stdout",
          "text": [
            "Top 10 tokens in disaster tweets:\n",
            "fire: 161\n",
            "suicide: 104\n",
            "killed: 90\n",
            "crash: 76\n",
            "emergency: 74\n",
            "wildfire: 69\n",
            "accident: 66\n",
            "burning: 63\n",
            "attack: 62\n",
            "forest: 46\n",
            "\n",
            "Top 10 tokens in non-disaster tweets:\n",
            "emergency: 77\n",
            "fire: 68\n",
            "burning: 54\n",
            "crash: 30\n",
            "attack: 29\n",
            "burned: 28\n",
            "flames: 28\n",
            "blown: 28\n",
            "riot: 25\n",
            "collapsed: 22\n"
          ]
        }
      ],
      "source": [
        "disaster_keywords = set(['earthquake', 'tsunami', 'hurricane', 'flood', 'tornado', 'wildfire', \n",
        "                         'volcano', 'cyclone', 'landslide', 'avalanche', 'blizzard', 'thunderstorm', \n",
        "                         'hailstorm', 'drought', 'heatwave', 'cold wave', 'epidemic', 'pandemic', \n",
        "                         'terrorist attack', 'explosion', 'chemical spill', 'gas leak', 'nuclear accident', \n",
        "                         'industrial accident', 'plane crash', 'train derailment', 'shipwreck', 'building collapse', \n",
        "                         'riot', 'civil unrest', 'ablaze', 'fire', 'waves', 'flooding', 'forest', 'evacuation', 'typhoon',\n",
        "                         'apocolypse', 'derailment', 'emergency', 'crash', 'aftershock', 'airplane', 'killed', 'dying', 'drunk',\n",
        "                         'annihilation', 'arson', 'fallout', 'attack', 'dies', 'accident', 'fight', 'fighting', 'torches', \n",
        "                         'arsonist', 'bioterror', 'bioterrorism', 'blown', 'suicide', 'bombed', 'flames', 'burned', 'burning', 'collapsed'])\n",
        "\n",
        "\n",
        "# Initialize counters for disaster and non-disaster tweets\n",
        "dis_counts = {token: 0 for token in disaster_keywords}\n",
        "non_dis_counts = {token: 0 for token in disaster_keywords}\n",
        "\n",
        "# Count the number of disaster and non-disaster tweets that include each token\n",
        "for index, row in train_df.iterrows():\n",
        "    tweet = row['text']\n",
        "    for token in disaster_keywords:\n",
        "        if f\" {token} \" in f\" {tweet} \":\n",
        "            if row['target'] == 1:\n",
        "                dis_counts[token] += 1\n",
        "            else:\n",
        "                non_dis_counts[token] += 1\n",
        "\n",
        "# Get the top 10 tokens for disaster and non-disaster tweets\n",
        "top_dis_tokens = sorted(dis_counts, key=dis_counts.get, reverse=True)[:10]\n",
        "top_non_dis_tokens = sorted(non_dis_counts, key=non_dis_counts.get, reverse=True)[:10]\n",
        "\n",
        "# Print the top 10 tokens for disaster and non-disaster tweets\n",
        "print(\"Top 10 tokens in disaster tweets:\")\n",
        "for token in top_dis_tokens:\n",
        "    print(f\"{token}: {dis_counts[token]}\")\n",
        "print()\n",
        "print(\"Top 10 tokens in non-disaster tweets:\")\n",
        "for token in top_non_dis_tokens:\n",
        "    print(f\"{token}: {non_dis_counts[token]}\")"
      ]
    },
    {
      "cell_type": "markdown",
      "metadata": {
        "id": "77cis2NSflG_"
      },
      "source": [
        "#### Plotting the token counts\n",
        "Let's visualize the counts of the list of tokens we just produced. \\\\\n",
        "Notice how some key words are among the highest occurring in both disaster and non-disaster tweets."
      ]
    },
    {
      "cell_type": "code",
      "execution_count": null,
      "metadata": {
        "id": "l0DtSM2CEzOl",
        "colab": {
          "base_uri": "https://localhost:8080/",
          "height": 470
        },
        "outputId": "c054e797-20f5-4c5b-846b-0fbdf3adaf28"
      },
      "outputs": [
        {
          "output_type": "display_data",
          "data": {
            "text/plain": [
              "<Figure size 1500x600 with 1 Axes>"
            ],
            "image/png": "[encoded data removed]"
          },
          "metadata": {}
        }
      ],
      "source": [
        "def plot_top_tokens(top_dis_tokens, top_non_dis_tokens, sort_by_disaster=True):\n",
        "  set_dis = set(top_dis_tokens)\n",
        "  set_non_dis = set(top_non_dis_tokens)\n",
        "  top_tokens = list(set_dis.union(set_non_dis))\n",
        "  top_dis_freqs = [dis_counts[token] for token in top_tokens]\n",
        "  top_non_dis_freqs = [non_dis_counts[token] for token in top_tokens]\n",
        "\n",
        "  counts = [(token, dis_freq, non_dis_freq) for token, dis_freq, non_dis_freq in zip(top_tokens, top_dis_freqs, top_non_dis_freqs)]\n",
        "\n",
        "  if sort_by_disaster:\n",
        "  # Define a combined sorting key that first sorts by decreasing disaster count, then by decreasing non-disaster count\n",
        "    sorting_key = lambda x: (-x[1], -x[2])\n",
        "    sorted_by = '(Sorted in descending order by Disaster count)'\n",
        "  else:\n",
        "    sorting_key = lambda x: (-x[2], -x[1])\n",
        "    sorted_by = '(Sorted in descending order by Non-disaster count)'\n",
        "\n",
        "  # Sort the counts list using the sorting key\n",
        "  counts.sort(key=sorting_key)\n",
        "\n",
        "  # Extract the sorted tokens and counts into separate lists\n",
        "  sorted_tokens, sorted_dis_freqs, sorted_non_dis_freqs = zip(*counts)\n",
        "\n",
        "  # Set up bar chart\n",
        "  fig, ax = plt.subplots(figsize=(15,6))\n",
        "  ax.set_xlabel('Keywords')\n",
        "  ax.set_ylabel('Frequency')\n",
        "  ax.set_title('Top Disaster and Non-Disaster Keyword Frequency ' + sorted_by)\n",
        "  ax.set_xticks(range(len(sorted_tokens)))\n",
        "\n",
        "  # Set the x-axis tick labels to the keyword strings\n",
        "  ax.set_xticks(np.arange(len(sorted_tokens)))\n",
        "  ax.set_xticklabels(sorted_tokens)\n",
        "\n",
        "  bar_width = 0.4\n",
        "  # Plot the bars side by side\n",
        "  disaster_bars = ax.bar(np.arange(len(sorted_tokens)) - bar_width/2, sorted_dis_freqs, width=bar_width, align='center', label='Disaster Count', color='blue')\n",
        "  non_disaster_bars = ax.bar(np.arange(len(sorted_tokens)) + bar_width/2, sorted_non_dis_freqs, width=bar_width, align='center', label='Non-Disaster Count', color='orange')\n",
        "\n",
        "  # Add the legend\n",
        "  ax.legend()\n",
        "\n",
        "  # Add labels for the values of each bar\n",
        "  for nd_bar, nd_value in zip(disaster_bars, sorted_dis_freqs):\n",
        "      ax.annotate(str(nd_value), xy=(nd_bar.get_x() + nd_bar.get_width() / 2, nd_value), xytext=(0, 3), textcoords='offset points', ha='center', va='bottom')\n",
        "  for nond_bar, nond_value in zip(non_disaster_bars, sorted_non_dis_freqs):\n",
        "      ax.annotate(str(nond_value), xy=(nond_bar.get_x() + nond_bar.get_width() / 2, nond_value), xytext=(0, 3), textcoords='offset points', ha='center', va='bottom')\n",
        "\n",
        "  # Show the plot\n",
        "  plt.show()\n",
        "\n",
        "# Plot the tokens frequency sorted by disaster count\n",
        "plot_top_tokens(top_dis_tokens, top_non_dis_tokens)"
      ]
    },
    {
      "cell_type": "code",
      "execution_count": null,
      "metadata": {
        "id": "5lmSqZUCu-fD",
        "colab": {
          "base_uri": "https://localhost:8080/",
          "height": 470
        },
        "outputId": "cabdef55-dd53-453e-99b5-4bf6e4ed7d47"
      },
      "outputs": [
        {
          "output_type": "display_data",
          "data": {
            "text/plain": [
              "<Figure size 1500x600 with 1 Axes>"
            ],
            "image/png": "[encoded data removed]"
          },
          "metadata": {}
        }
      ],
      "source": [
        "# Plotting the tokens but sorted by non-disaster count\n",
        "plot_top_tokens(top_dis_tokens, top_non_dis_tokens, False)"
      ]
    },
    {
      "cell_type": "markdown",
      "metadata": {
        "id": "cPPAataUPhFZ"
      },
      "source": [
        "#### Finding Tweet Lengths\n",
        "We want to find the lengths of the tweets to compare if there is a difference between disaster and non-disaster tweet lengths. "
      ]
    },
    {
      "cell_type": "code",
      "execution_count": null,
      "metadata": {
        "id": "9LSHWj7dPtYG",
        "colab": {
          "base_uri": "https://localhost:8080/",
          "height": 494
        },
        "outputId": "c5cdc8f0-3e84-464d-eea1-bef0a494bad4"
      },
      "outputs": [
        {
          "output_type": "display_data",
          "data": {
            "text/plain": [
              "<Figure size 640x480 with 1 Axes>"
            ],
            "image/png": "[encoded data removed]"
          },
          "metadata": {}
        },
        {
          "output_type": "stream",
          "name": "stdout",
          "text": [
            "Longest disaster tweet: 145\n",
            "Longest non-disaster tweet: 142\n"
          ]
        }
      ],
      "source": [
        "# Create a list of lengths for the tweet training examples with a disaster label\n",
        "tweet_lengths_disaster = [len(x) for (i, x) in enumerate(train_df['text']) if train_df['manual_relabeled'][i]]\n",
        "\n",
        "# Create a list of lengths for the tweet training examples with a non-disaster label\n",
        "tweet_lengths_non_disaster = [len(x) for (i, x) in enumerate(train_df['text']) if not train_df['manual_relabeled'][i]]\n",
        "\n",
        "# Create a histogram\n",
        "plt.hist([tweet_lengths_disaster, tweet_lengths_non_disaster], bins=20, range=(0, 1000),\n",
        "         label=['Disaster', 'Non-disaster'])\n",
        "plt.xlabel('Length')\n",
        "plt.ylabel('Count')\n",
        "plt.legend()\n",
        "plt.show()\n",
        "\n",
        "# Check the lengths of the disaster and non-disaster tweets\n",
        "print('Longest disaster tweet:', max(tweet_lengths_disaster))\n",
        "print('Longest non-disaster tweet:', max(tweet_lengths_non_disaster))\n",
        "\n"
      ]
    },
    {
      "cell_type": "markdown",
      "metadata": {
        "id": "vwmMQD1Jn8YH"
      },
      "source": [
        "#### Discussion\n",
        "\n",
        "Our analysis of the dataset revealed that it contained more non-disaster tweets than disaster tweets, indicating a class imbalance. The bar plot visualizing this distribution provided a clear illustration of this imbalance. Furthermore, our results demonstrated that some commonly known disaster-related keywords, such as \"emergency,\" \"fire,\" \"burning,\" \"crash,\" and \"blown,\" were also present in non-disaster tweets, making it more difficult for the model to distinguish between the two classes. In a high-dimensional space, such as the ~20k dimensional space of our BERT model, the data may be linearly separable. However, to better classify our predictions, we may need to consider additional features such as location, keywords, or other methods. In addition, the analysis of tweet lengths revealed a slight difference in length between disaster and non-disaster tweets, with non-disaster tweets being slightly longer."
      ]
    },
    {
      "cell_type": "markdown",
      "metadata": {
        "id": "is4QqMWC0gev"
      },
      "source": [
        "### Implementing a BERT Model"
      ]
    },
    {
      "cell_type": "code",
      "execution_count": null,
      "metadata": {
        "id": "et9BQdwy1m2f",
        "colab": {
          "base_uri": "https://localhost:8080/"
        },
        "outputId": "484b03f5-eeda-4516-d29c-75075d070862"
      },
      "outputs": [
        {
          "output_type": "stream",
          "name": "stderr",
          "text": [
            "/usr/local/lib/python3.9/dist-packages/tensorflow_addons/utils/tfa_eol_msg.py:23: UserWarning: \n",
            "\n",
            "TensorFlow Addons (TFA) has ended development and introduction of new features.\n",
            "TFA has entered a minimal maintenance and release mode until a planned end of life in May 2024.\n",
            "Please modify downstream libraries to take dependencies from other repositories in our TensorFlow community (e.g. Keras, Keras-CV, and Keras-NLP). \n",
            "\n",
            "For more information see: https://github.com/tensorflow/addons/issues/2807 \n",
            "\n",
            "  warnings.warn(\n"
          ]
        }
      ],
      "source": [
        "import tensorflow_hub as hub\n",
        "import tensorflow_text as text\n",
        "from official.nlp import optimization  # to create AdamW optimizer\n",
        "from tensorflow.keras import regularizers # for the L2 regularization\n",
        "from tensorflow.keras.callbacks import EarlyStopping # for early stopping"
      ]
    },
    {
      "cell_type": "markdown",
      "source": [
        "We made the decision to incorporate a BERT model into our project based on its status as a state-of-the-art model, which reflects its exceptional capabilities and potential for high performance. By incorporating this cutting-edge technology into our work, we sought to not only achieve strong results, but also to explore and take advantage of the latest advancements in machine learning."
      ],
      "metadata": {
        "id": "6HRL_H7u6ahL"
      }
    },
    {
      "cell_type": "markdown",
      "metadata": {
        "id": "MjdEA6l--rty"
      },
      "source": [
        "#### Which BERT Model to Fine-Tune?\n",
        "After researching the BERT model, we discovered there are many options for which submodel to choose from: [List of Models](https://tfhub.dev/google/collections/experts/bert/1). We felt that the `sst2` model was the closest match. It was trained on a dataset primarily used for sentiment analysis. We believed that the emotions expressed in disaster-related tweets could be a useful feature for identifying them.\n",
        "<br/>\n",
        "<br/>\n",
        "Later on in the project, we felt that it was too specialized toward a specific NLP task and wanted to fine tune a more generalized model and therefore switched to an uncased BERT model to better adapt it to our disaster tweet classification problem."
      ]
    },
    {
      "cell_type": "code",
      "execution_count": null,
      "metadata": {
        "id": "odXpTwPx-mVq"
      },
      "outputs": [],
      "source": [
        "# Load the BERT-large preprocessing model\n",
        "preprocess = hub.load('https://tfhub.dev/tensorflow/bert_en_uncased_preprocess/3')\n",
        "\n",
        "# Load the BERT-large encoder model\n",
        "bert = hub.load('https://tfhub.dev/tensorflow/bert_en_uncased_L-24_H-1024_A-16/4')"
      ]
    },
    {
      "cell_type": "code",
      "source": [
        "#bert = hub.load('https://tfhub.dev/tensorflow/small_bert/bert_en_uncased_L-4_H-512_A-8/1')\n",
        "#preprocess = hub.load('https://tfhub.dev/tensorflow/bert_en_uncased_preprocess/3')"
      ],
      "metadata": {
        "id": "qNVdqzMS7SFJ"
      },
      "execution_count": null,
      "outputs": []
    },
    {
      "cell_type": "markdown",
      "metadata": {
        "id": "3O92Pi-bAAc9"
      },
      "source": [
        "#### BERT Preprocessing\n"
      ]
    },
    {
      "cell_type": "code",
      "execution_count": null,
      "metadata": {
        "id": "eUQBkXtKADKO",
        "colab": {
          "base_uri": "https://localhost:8080/"
        },
        "outputId": "15d17b10-4d48-4fe1-9814-dadf5a406895"
      },
      "outputs": [
        {
          "output_type": "stream",
          "name": "stdout",
          "text": [
            "Keys       : ['input_word_ids', 'input_type_ids', 'input_mask']\n",
            "Shape      : (1, 128)\n",
            "Word Ids   : [ 101 2393 2033 1010 2045 2003 1037 5920 9472  999  102    0]\n",
            "Input Mask : [1 1 1 1 1 1 1 1 1 1 1 0]\n",
            "Type Ids   : [0 0 0 0 0 0 0 0 0 0 0 0]\n"
          ]
        }
      ],
      "source": [
        "test_tweet = ['Help me, there is a suicide bomber!']\n",
        "text_preprocessed = preprocess(test_tweet)\n",
        "\n",
        "print(f'Keys       : {list(text_preprocessed.keys())}')\n",
        "print(f'Shape      : {text_preprocessed[\"input_word_ids\"].shape}')\n",
        "print(f'Word Ids   : {text_preprocessed[\"input_word_ids\"][0, :12]}')\n",
        "print(f'Input Mask : {text_preprocessed[\"input_mask\"][0, :12]}')\n",
        "print(f'Type Ids   : {text_preprocessed[\"input_type_ids\"][0, :12]}')"
      ]
    },
    {
      "cell_type": "markdown",
      "metadata": {
        "id": "vIoBzE5yAWOB"
      },
      "source": [
        "##### What does this output mean?\n",
        "The BERT model uses three keys in its preprocesses: `input_mask`, `input_type_ids`, `input_word_ids`. The `input_mask` is used to differentiate between the actual sentence content and padding, noticeably it has a `1` in the position where content is seen and a `0` for padding. The `input_word_ids` designates which sentence it is a part of, here we see `0`'s because there is only one sentence. Lastly, `input_word_ids` contains the word ids, although it is important to note that the BERT model uses subword tokenization, which means that some words are split into smaller subwords called \"wordpieces\" to improve the coverage of the vocabulary. This explains why the length differs from the word count in the sentence. Additionally, the shape of `input_word_ids` is `(1, 128)`, demonstrating a maximum vocabulary length. This may be changed in the future for fine tuning.\n",
        "\n",
        "\n"
      ]
    },
    {
      "cell_type": "markdown",
      "metadata": {
        "id": "dDk8dcVUE3w5"
      },
      "source": [
        "#### Example Input/Output"
      ]
    },
    {
      "cell_type": "code",
      "execution_count": null,
      "metadata": {
        "id": "J0OizDB9E5iT",
        "colab": {
          "base_uri": "https://localhost:8080/"
        },
        "outputId": "bd6e1d89-b1fe-4208-c98c-13654fadae6e"
      },
      "outputs": [
        {
          "output_type": "stream",
          "name": "stdout",
          "text": [
            "\n",
            "Sentences:\n",
            "['Help me, there is a suicide bomber!']\n",
            "Pooled Outputs Shape:(1, 1024)\n",
            "Pooled Outputs Values:[-0.92568094 -0.9534138   0.99997354 -0.99493843 -0.9991948   0.52450126\n",
            " -0.99974513  0.99976504  0.99170136 -0.99545044 -0.9990165   0.99999005]\n",
            "Sequence Outputs Shape:(1, 128, 1024)\n",
            "Sequence Outputs Values:[[-0.41657466  0.05974571 -1.0191381  ... -0.3925488   0.19406554\n",
            "   0.09850413]\n",
            " [-0.29896674  0.05847688  0.02050369 ... -0.1452515   0.05997223\n",
            "  -0.32201397]\n",
            " [-0.4416933  -0.15672632 -0.35585976 ...  0.23527172  0.57104975\n",
            "   0.0344888 ]\n",
            " ...\n",
            " [-0.58496004  0.11645052 -0.34727442 ...  0.17048723 -0.19120865\n",
            "   0.18094337]\n",
            " [-0.8341009  -0.28618482 -0.664979   ... -0.6442312   0.10628946\n",
            "   0.40088147]\n",
            " [ 0.19040167  0.2493123  -0.8199258  ...  0.17754799 -0.54601544\n",
            "  -0.17241457]]\n"
          ]
        }
      ],
      "source": [
        "# Preprocess the example tweet\n",
        "bert_inputs = preprocess(test_tweet)\n",
        "\n",
        "# Feed the inputs to the model\n",
        "bert_results = bert(bert_inputs)\n",
        "\n",
        "# Evaluate\n",
        "print('\\nSentences:')\n",
        "print(test_tweet)\n",
        "print(f'Pooled Outputs Shape:{bert_results[\"pooled_output\"].shape}')\n",
        "print(f'Pooled Outputs Values:{bert_results[\"pooled_output\"][0, :12]}')\n",
        "print(f'Sequence Outputs Shape:{bert_results[\"sequence_output\"].shape}')\n",
        "print(f'Sequence Outputs Values:{bert_results[\"sequence_output\"][0, :12]}')"
      ]
    },
    {
      "cell_type": "markdown",
      "metadata": {
        "id": "gkWTwavcGzHl"
      },
      "source": [
        "##### What does this output mean?\n",
        "This is a lot to digest. The `pooled_output` represents the input tweet as a whole. It has shape `[batch size, H]` where `H` represents the hidden size or dimensionality of the output vectors in each Transformer block, in this case `1024` (chosen as a hyperparameter during the training process).\n",
        "\n",
        "The `sequence_output` represents each input token in the tweet with shape `[batch_size, seq_length, H]` the documentation refers to this as a contextual embedding for every token in the tweet.\n",
        "\n",
        "To explain `encoder_outputs` we must first look at the BERT model on a higher viewpoint. The BERT model has multiple layers called `Transformer blocks`[1], and the encoder outputs are the results of the computations performed in each of these blocks. The outputs `[\"encoder_outputs\"][i]` represents the output of the `i-th` Transformer block, where `i` is a number between `0` and `L-1` (L is the total number of Transformer blocks). It has a shape of `[batch_size, seq_length, 1024]`, which means that for each input sequence in the batch. The last value of this list is equal to `sequence output`. \n",
        "\n",
        "##### Keywords / Important Information\n",
        "1. A Transformer block is composed of two main sub-blocks: the self-attention mechanism and the feedforward neural network. The self-attention mechanism allows the network to selectively attend to different parts of the input sequence, while the feedforward network applies non-linear transformations to each input element. By stacking multiple Transformer blocks together, a neural network can learn complex relationships between input sequences and their corresponding outputs."
      ]
    },
    {
      "cell_type": "markdown",
      "metadata": {
        "id": "_idKegBSJiHk"
      },
      "source": [
        "#### Building the Classifier Model\n",
        "This is a basic BERT model which includes an input, preprocessing, encoder, dropout and a dense layer with a sigmoid activation function. After training for a certain number of epochs, we realized the model began to overfit. We decided to then include a `regularization` layer to penalize overfitting as suggested by the TAs. Why did we choose `L2` instead of `L1`? We found out that `L2` is the square of the model's weights, multiplied by a regularization factor. This penalty term penalizes large weights but does not make them so close to `0` as `L1` regularization does, resulting in more evenly distributed weights across the model's features. The goal was to create a more generalized and robust model."
      ]
    },
    {
      "cell_type": "code",
      "execution_count": null,
      "metadata": {
        "id": "R5Y-AOV2JkTG"
      },
      "outputs": [],
      "source": [
        "def build_classifier_model():\n",
        "    text_input = tf.keras.layers.Input(shape=(), dtype=tf.string, name='tweet')\n",
        "    preprocessing_layer = hub.KerasLayer(preprocess, name='preprocessing')\n",
        "    encoder_inputs = preprocessing_layer(text_input)\n",
        "    encoder = hub.KerasLayer(bert, trainable=True, name='BERT_encoder')\n",
        "    outputs = encoder(encoder_inputs)\n",
        "    net = outputs['pooled_output']\n",
        "    net = tf.keras.layers.Dropout(0.2)(net) \n",
        "    net = tf.keras.layers.Dense(1, activation='sigmoid', name='classifier',\n",
        "                                kernel_regularizer=regularizers.l2(0.01))(net) \n",
        "    return tf.keras.Model(text_input, net)"
      ]
    },
    {
      "cell_type": "markdown",
      "source": [
        "Furthermore, we discovered that while dropout layers can help to prevent overfitting, a smaller dropout rate proved to be most effective in achieving optimal results for our model."
      ],
      "metadata": {
        "id": "zER3nzUJGdhk"
      }
    },
    {
      "cell_type": "markdown",
      "metadata": {
        "id": "AJ_t5s2TJqNS"
      },
      "source": [
        "#### Example Tweet Test\n",
        "This test was quite meaningless since our model has not been trained but essential to ensure that it is functioning correctly."
      ]
    },
    {
      "cell_type": "code",
      "execution_count": null,
      "metadata": {
        "id": "96nbsWLrJucF",
        "colab": {
          "base_uri": "https://localhost:8080/"
        },
        "outputId": "4ba0296e-52f8-42be-ff52-28b1e1309240"
      },
      "outputs": [
        {
          "output_type": "stream",
          "name": "stdout",
          "text": [
            "tf.Tensor([[0.6324848]], shape=(1, 1), dtype=float32)\n"
          ]
        }
      ],
      "source": [
        "classifier_model = build_classifier_model()\n",
        "bert_raw_result = classifier_model(tf.constant(test_tweet))\n",
        "print(bert_raw_result)"
      ]
    },
    {
      "cell_type": "markdown",
      "metadata": {
        "id": "iVL9BYB2LGGg"
      },
      "source": [
        "#### Plotting the Model"
      ]
    },
    {
      "cell_type": "code",
      "execution_count": null,
      "metadata": {
        "id": "ZhZKpwLPLD4k",
        "colab": {
          "base_uri": "https://localhost:8080/",
          "height": 466
        },
        "outputId": "ac63a58e-085e-48d6-bb46-19d9be18ac19"
      },
      "outputs": [
        {
          "output_type": "execute_result",
          "data": {
            "image/png": "[encoded data removed]",
            "text/plain": [
              "<IPython.core.display.Image object>"
            ]
          },
          "metadata": {},
          "execution_count": 27
        }
      ],
      "source": [
        "# Plot the model\n",
        "tf.keras.utils.plot_model(classifier_model)"
      ]
    },
    {
      "cell_type": "markdown",
      "source": [
        "After observing the large number of trainable parameters in the model, we chose not to increase its complexity further. Doing so would increase the risk of overfitting the model on the limited test data available."
      ],
      "metadata": {
        "id": "TvWaGJaDFzLH"
      }
    },
    {
      "cell_type": "code",
      "source": [
        "# Print the summary of the model to show the number of parameters per layer\n",
        "classifier_model.summary()"
      ],
      "metadata": {
        "id": "q2KZrHJdFxjP",
        "colab": {
          "base_uri": "https://localhost:8080/"
        },
        "outputId": "3a0c187b-87da-4330-eac1-24d5d724f559"
      },
      "execution_count": null,
      "outputs": [
        {
          "output_type": "stream",
          "name": "stdout",
          "text": [
            "Model: \"model\"\n",
            "__________________________________________________________________________________________________\n",
            " Layer (type)                   Output Shape         Param #     Connected to                     \n",
            "==================================================================================================\n",
            " tweet (InputLayer)             [(None,)]            0           []                               \n",
            "                                                                                                  \n",
            " preprocessing (KerasLayer)     {'input_word_ids':   0           ['tweet[0][0]']                  \n",
            "                                (None, 128),                                                      \n",
            "                                 'input_type_ids':                                                \n",
            "                                (None, 128),                                                      \n",
            "                                 'input_mask': (Non                                               \n",
            "                                e, 128)}                                                          \n",
            "                                                                                                  \n",
            " BERT_encoder (KerasLayer)      {'default': (None,   335141889   ['preprocessing[0][0]',          \n",
            "                                1024),                            'preprocessing[0][1]',          \n",
            "                                 'encoder_outputs':               'preprocessing[0][2]']          \n",
            "                                 [(None, 128, 1024)                                               \n",
            "                                , (None, 128, 1024)                                               \n",
            "                                , (None, 128, 1024)                                               \n",
            "                                , (None, 128, 1024)                                               \n",
            "                                , (None, 128, 1024)                                               \n",
            "                                , (None, 128, 1024)                                               \n",
            "                                , (None, 128, 1024)                                               \n",
            "                                , (None, 128, 1024)                                               \n",
            "                                , (None, 128, 1024)                                               \n",
            "                                , (None, 128, 1024)                                               \n",
            "                                , (None, 128, 1024)                                               \n",
            "                                , (None, 128, 1024)                                               \n",
            "                                , (None, 128, 1024)                                               \n",
            "                                , (None, 128, 1024)                                               \n",
            "                                , (None, 128, 1024)                                               \n",
            "                                , (None, 128, 1024)                                               \n",
            "                                , (None, 128, 1024)                                               \n",
            "                                , (None, 128, 1024)                                               \n",
            "                                , (None, 128, 1024)                                               \n",
            "                                , (None, 128, 1024)                                               \n",
            "                                , (None, 128, 1024)                                               \n",
            "                                , (None, 128, 1024)                                               \n",
            "                                , (None, 128, 1024)                                               \n",
            "                                , (None, 128, 1024)                                               \n",
            "                                ],                                                                \n",
            "                                 'pooled_output': (                                               \n",
            "                                None, 1024),                                                      \n",
            "                                 'sequence_output':                                               \n",
            "                                 (None, 128, 1024)}                                               \n",
            "                                                                                                  \n",
            " dropout (Dropout)              (None, 1024)         0           ['BERT_encoder[0][25]']          \n",
            "                                                                                                  \n",
            " classifier (Dense)             (None, 1)            1025        ['dropout[0][0]']                \n",
            "                                                                                                  \n",
            "==================================================================================================\n",
            "Total params: 335,142,914\n",
            "Trainable params: 335,142,913\n",
            "Non-trainable params: 1\n",
            "__________________________________________________________________________________________________\n"
          ]
        }
      ]
    },
    {
      "cell_type": "markdown",
      "source": [
        "The large BERT model's impressive performance can be attributed to its vast number of trainable parameters, which enable it to capture intricate patterns in the input data. With $335,142,913$ parameters, the model has a greater capacity to learn from the training data, making it a excellent tool for accurate prediction. Additionally, this also implies that the model requires a considerable amount of computational resources and may take a longer time to train than smaller models."
      ],
      "metadata": {
        "id": "wAI_4-r2FZ-h"
      }
    },
    {
      "cell_type": "markdown",
      "metadata": {
        "id": "2QcEhoFoNre8"
      },
      "source": [
        "#### Model Training\n",
        "Given the large number of parameters in BERT, it was crucial to be vigilant about the risk of overfitting the training data. Fine-tuning the model was therefore a crucial task, one that required careful attention, as exceeding the RAM limit was a distinct possibility. While BERT comes equipped with its own preprocessor, we opted to input clean data, as this approach yielded higher F1 scores.\n",
        "\n",
        "Furthermore, because of the complexity of the BERT model, we also experimented with various hyperparameters such as batch size, learning rate, and the number of epochs to ensure the model was appropriately tuned to our data. This approach enabled us to train the model to produce accurate predictions, while preventing overfitting to the training data."
      ]
    },
    {
      "cell_type": "markdown",
      "metadata": {
        "id": "tMumc7s-OJeH"
      },
      "source": [
        "##### Loss Function\n",
        "As this is a binary classification problem, we utilized binary cross-entropy as our loss function. We modified the BERT model to output probabilities instead of logits, which required us to set the `from_logits` parameter to `False`."
      ]
    },
    {
      "cell_type": "code",
      "execution_count": null,
      "metadata": {
        "id": "mZBZzS2wNz0V"
      },
      "outputs": [],
      "source": [
        "loss = tf.keras.losses.BinaryCrossentropy(from_logits=False)\n",
        "metrics = tf.metrics.BinaryAccuracy()"
      ]
    },
    {
      "cell_type": "markdown",
      "metadata": {
        "id": "S9DdtlZ4OS_t"
      },
      "source": [
        "##### Optimizer\n",
        "First, we split the clean training dataframe into a training and validation set. Then, I defined a `batch_size`, which was chosen experimentally. Next, we had to convert the train and validation dataframes into something the BERT TensorFlow model needs , we used `tf.data.Dataset.from_tensor_slices` and then zipped the text and labels into the final datasets to feed it into the model. \n",
        "\n",
        "This code sets up an optimizer for a machine learning model using TensorFlow's `optimization` module. We set the number of epochs for training emperically. Next, we calculated the number of steps per epoch based on the size of the training dataset using `tf.data.experimental.cardinality()`. The total number of training steps is then calculated as the product of steps per epoch and the number of epochs. A warm-up period is also included by computing the number of warm-up steps as 10% of the total number of training steps. \n",
        "\n",
        "Finally, an AdamW optimizer is created using the specified initial learning rate, the number of training steps, the number of warm-up steps, and the optimizer type.\n"
      ]
    },
    {
      "cell_type": "code",
      "execution_count": null,
      "metadata": {
        "id": "jcOgVIPtOnOA"
      },
      "outputs": [],
      "source": [
        "batch_size = 8 # was 16 but ran out of memory\n",
        "train_split_ds = tf.data.Dataset.from_tensor_slices(train_df_split['text'].values)\n",
        "train_split_labels = tf.data.Dataset.from_tensor_slices(train_df_split['manual_relabeled'].values)\n",
        "\n",
        "validation_ds = tf.data.Dataset.from_tensor_slices(validation_df['text'].values)\n",
        "validation_ds_labels = tf.data.Dataset.from_tensor_slices(validation_df['manual_relabeled'].values)\n",
        "train_ds = tf.data.Dataset.zip((train_split_ds, train_split_labels)).batch(batch_size)\n",
        "val_ds = tf.data.Dataset.zip((validation_ds, validation_ds_labels)).batch(batch_size)\n",
        "\n",
        "epochs = 1 # Set to 1 to avoid overfitting\n",
        "steps_per_epoch = tf.data.experimental.cardinality(train_ds).numpy()\n",
        "num_train_steps = steps_per_epoch * epochs\n",
        "num_warmup_steps = int(0.1*num_train_steps)\n",
        "\n",
        "init_lr = 2e-5 # Learning rates like 1e-3 are too large??\n",
        "optimizer = optimization.create_optimizer(init_lr=init_lr,\n",
        "                                          num_train_steps=num_train_steps,\n",
        "                                          num_warmup_steps=num_warmup_steps,\n",
        "                                          optimizer_type='adamw')                                      "
      ]
    },
    {
      "cell_type": "markdown",
      "source": [
        "Learning Rates: <br/>\n",
        "To fine-tune our large BERT model, we experimented with different initial learning rates and leveraged the smaller BERT model to save time, given the extensive training time required for the larger model.\n",
        "\n",
        "| Initial Learning Rate | Batch Size | Max Validation Accuracy |\n",
        "| :---: | :----------------: |:----------------:\n",
        "| $1e^{-6}$ |16|      0.7283       | \n",
        "| $2e^{-5}$ |16|      0.8228       | \n",
        "| $1e^{-5}$ |16|      0.8241       | \n",
        "| $1e^{-4}$ |16|      0.8215       | \n",
        "| $1e^{-3}$ |16|      0.5748       | \n",
        "\n",
        "Based on our experimentation, we found that a learning rate of $2e^{-5}$ provided the best results."
      ],
      "metadata": {
        "id": "bsvkXYJ39kXd"
      }
    },
    {
      "cell_type": "markdown",
      "metadata": {
        "id": "2W5HYLlpuX29"
      },
      "source": [
        "##### Compiling"
      ]
    },
    {
      "cell_type": "code",
      "execution_count": null,
      "metadata": {
        "id": "Hpl6syWpPO5E"
      },
      "outputs": [],
      "source": [
        "classifier_model.compile(optimizer=optimizer,\n",
        "                         loss=loss,\n",
        "                         metrics=metrics)"
      ]
    },
    {
      "cell_type": "markdown",
      "metadata": {
        "id": "P9XElOUQKYyi"
      },
      "source": [
        "##### Training\n",
        "We implemented early stopping as this model was very easy to overfit given its large parameter count and wanted to maximize its validation accuracy. The patience parameter means the model will stop training after the given `i-th` consecutive argument without an increasing `val_binary_accuracy`, we also set `restore_best_weights` to true to restore its best weight values. This was imperitive to our fine-tuning process.\n",
        "\n",
        "Furthermore, we observed that the validation loss was increasing even as the validation accuracy was improving, which is indicative of overfitting. Therefore, in order to prevent further overfitting, we made the decision to limit the training of this model to only one epoch."
      ]
    },
    {
      "cell_type": "code",
      "execution_count": null,
      "metadata": {
        "id": "qNG4ecNdPRbh",
        "colab": {
          "base_uri": "https://localhost:8080/"
        },
        "outputId": "6136abec-eaf8-49b6-9cbe-44ede1bb1d0d"
      },
      "outputs": [
        {
          "output_type": "stream",
          "name": "stdout",
          "text": [
            "857/857 [==============================] - 294s 294ms/step - loss: 0.4788 - binary_accuracy: 0.8065 - val_loss: 0.4389 - val_binary_accuracy: 0.8412\n"
          ]
        }
      ],
      "source": [
        "# Implemented early stopping\n",
        "early_stopping = EarlyStopping(monitor='val_binary_accuracy', patience=2, mode='max', restore_best_weights=True)\n",
        "\n",
        "# Fit the model\n",
        "history = classifier_model.fit(x=train_ds,\n",
        "                               validation_data=val_ds,\n",
        "                               epochs=epochs,\n",
        "                               callbacks=[early_stopping])"
      ]
    },
    {
      "cell_type": "markdown",
      "metadata": {
        "id": "u-7L9jNsKd-u"
      },
      "source": [
        "#### Test Predictions"
      ]
    },
    {
      "cell_type": "code",
      "execution_count": null,
      "metadata": {
        "id": "5tsodNoAQagF",
        "colab": {
          "base_uri": "https://localhost:8080/"
        },
        "outputId": "1b3cf72b-d586-4b97-a521-5433765a9139"
      },
      "outputs": [
        {
          "output_type": "stream",
          "name": "stdout",
          "text": [
            "408/408 [==============================] - 37s 86ms/step\n"
          ]
        }
      ],
      "source": [
        "test_ds = tf.data.Dataset.from_tensor_slices(test_df['text'].values).batch(batch_size)\n",
        "predictions = classifier_model.predict(test_ds)"
      ]
    },
    {
      "cell_type": "markdown",
      "metadata": {
        "id": "75HKPF2RKktj"
      },
      "source": [
        "##### Thresholding and Outputting to Kaggle\n",
        "The last layer of our model was an output sigmoid layer, therefore have to threshold in order to convert them into binary outputs."
      ]
    },
    {
      "cell_type": "code",
      "execution_count": null,
      "metadata": {
        "id": "zUSO5ZhhIsfo",
        "colab": {
          "base_uri": "https://localhost:8080/",
          "height": 442
        },
        "outputId": "48ea2d6c-afa2-4b6d-8e11-3d1cd94b2e91"
      },
      "outputs": [
        {
          "output_type": "stream",
          "name": "stdout",
          "text": [
            "(3263, 2)\n"
          ]
        },
        {
          "output_type": "display_data",
          "data": {
            "text/plain": [
              "         id  target\n",
              "0         0       1\n",
              "1         2       1\n",
              "2         3       1\n",
              "3         9       1\n",
              "4        11       1\n",
              "...     ...     ...\n",
              "3258  10861       1\n",
              "3259  10865       1\n",
              "3260  10868       1\n",
              "3261  10874       1\n",
              "3262  10875       1\n",
              "\n",
              "[3263 rows x 2 columns]"
            ],
            "text/html": [
              "\n",
              "  <div id=\"df-7809603a-818f-45e9-8205-b8dd81a605cc\">\n",
              "    <div class=\"colab-df-container\">\n",
              "      <div>\n",
              "<style scoped>\n",
              "    .dataframe tbody tr th:only-of-type {\n",
              "        vertical-align: middle;\n",
              "    }\n",
              "\n",
              "    .dataframe tbody tr th {\n",
              "        vertical-align: top;\n",
              "    }\n",
              "\n",
              "    .dataframe thead th {\n",
              "        text-align: right;\n",
              "    }\n",
              "</style>\n",
              "<table border=\"1\" class=\"dataframe\">\n",
              "  <thead>\n",
              "    <tr style=\"text-align: right;\">\n",
              "      <th></th>\n",
              "      <th>id</th>\n",
              "      <th>target</th>\n",
              "    </tr>\n",
              "  </thead>\n",
              "  <tbody>\n",
              "    <tr>\n",
              "      <th>0</th>\n",
              "      <td>0</td>\n",
              "      <td>1</td>\n",
              "    </tr>\n",
              "    <tr>\n",
              "      <th>1</th>\n",
              "      <td>2</td>\n",
              "      <td>1</td>\n",
              "    </tr>\n",
              "    <tr>\n",
              "      <th>2</th>\n",
              "      <td>3</td>\n",
              "      <td>1</td>\n",
              "    </tr>\n",
              "    <tr>\n",
              "      <th>3</th>\n",
              "      <td>9</td>\n",
              "      <td>1</td>\n",
              "    </tr>\n",
              "    <tr>\n",
              "      <th>4</th>\n",
              "      <td>11</td>\n",
              "      <td>1</td>\n",
              "    </tr>\n",
              "    <tr>\n",
              "      <th>...</th>\n",
              "      <td>...</td>\n",
              "      <td>...</td>\n",
              "    </tr>\n",
              "    <tr>\n",
              "      <th>3258</th>\n",
              "      <td>10861</td>\n",
              "      <td>1</td>\n",
              "    </tr>\n",
              "    <tr>\n",
              "      <th>3259</th>\n",
              "      <td>10865</td>\n",
              "      <td>1</td>\n",
              "    </tr>\n",
              "    <tr>\n",
              "      <th>3260</th>\n",
              "      <td>10868</td>\n",
              "      <td>1</td>\n",
              "    </tr>\n",
              "    <tr>\n",
              "      <th>3261</th>\n",
              "      <td>10874</td>\n",
              "      <td>1</td>\n",
              "    </tr>\n",
              "    <tr>\n",
              "      <th>3262</th>\n",
              "      <td>10875</td>\n",
              "      <td>1</td>\n",
              "    </tr>\n",
              "  </tbody>\n",
              "</table>\n",
              "<p>3263 rows × 2 columns</p>\n",
              "</div>\n",
              "      <button class=\"colab-df-convert\" onclick=\"convertToInteractive('df-7809603a-818f-45e9-8205-b8dd81a605cc')\"\n",
              "              title=\"Convert this dataframe to an interactive table.\"\n",
              "              style=\"display:none;\">\n",
              "        \n",
              "  <svg xmlns=\"http://www.w3.org/2000/svg\" height=\"24px\"viewBox=\"0 0 24 24\"\n",
              "       width=\"24px\">\n",
              "    <path d=\"M0 0h24v24H0V0z\" fill=\"none\"/>\n",
              "    <path d=\"M18.56 5.44l.94 2.06.94-2.06 2.06-.94-2.06-.94-.94-2.06-.94 2.06-2.06.94zm-11 1L8.5 8.5l.94-2.06 2.06-.94-2.06-.94L8.5 2.5l-.94 2.06-2.06.94zm10 10l.94 2.06.94-2.06 2.06-.94-2.06-.94-.94-2.06-.94 2.06-2.06.94z\"/><path d=\"M17.41 7.96l-1.37-1.37c-.4-.4-.92-.59-1.43-.59-.52 0-1.04.2-1.43.59L10.3 9.45l-7.72 7.72c-.78.78-.78 2.05 0 2.83L4 21.41c.39.39.9.59 1.41.59.51 0 1.02-.2 1.41-.59l7.78-7.78 2.81-2.81c.8-.78.8-2.07 0-2.86zM5.41 20L4 18.59l7.72-7.72 1.47 1.35L5.41 20z\"/>\n",
              "  </svg>\n",
              "      </button>\n",
              "      \n",
              "  <style>\n",
              "    .colab-df-container {\n",
              "      display:flex;\n",
              "      flex-wrap:wrap;\n",
              "      gap: 12px;\n",
              "    }\n",
              "\n",
              "    .colab-df-convert {\n",
              "      background-color: #E8F0FE;\n",
              "      border: none;\n",
              "      border-radius: 50%;\n",
              "      cursor: pointer;\n",
              "      display: none;\n",
              "      fill: #1967D2;\n",
              "      height: 32px;\n",
              "      padding: 0 0 0 0;\n",
              "      width: 32px;\n",
              "    }\n",
              "\n",
              "    .colab-df-convert:hover {\n",
              "      background-color: #E2EBFA;\n",
              "      box-shadow: 0px 1px 2px rgba(60, 64, 67, 0.3), 0px 1px 3px 1px rgba(60, 64, 67, 0.15);\n",
              "      fill: #174EA6;\n",
              "    }\n",
              "\n",
              "    [theme=dark] .colab-df-convert {\n",
              "      background-color: #3B4455;\n",
              "      fill: #D2E3FC;\n",
              "    }\n",
              "\n",
              "    [theme=dark] .colab-df-convert:hover {\n",
              "      background-color: #434B5C;\n",
              "      box-shadow: 0px 1px 3px 1px rgba(0, 0, 0, 0.15);\n",
              "      filter: drop-shadow(0px 1px 2px rgba(0, 0, 0, 0.3));\n",
              "      fill: #FFFFFF;\n",
              "    }\n",
              "  </style>\n",
              "\n",
              "      <script>\n",
              "        const buttonEl =\n",
              "          document.querySelector('#df-7809603a-818f-45e9-8205-b8dd81a605cc button.colab-df-convert');\n",
              "        buttonEl.style.display =\n",
              "          google.colab.kernel.accessAllowed ? 'block' : 'none';\n",
              "\n",
              "        async function convertToInteractive(key) {\n",
              "          const element = document.querySelector('#df-7809603a-818f-45e9-8205-b8dd81a605cc');\n",
              "          const dataTable =\n",
              "            await google.colab.kernel.invokeFunction('convertToInteractive',\n",
              "                                                     [key], {});\n",
              "          if (!dataTable) return;\n",
              "\n",
              "          const docLinkHtml = 'Like what you see? Visit the ' +\n",
              "            '<a target=\"_blank\" href=https://colab.research.google.com/notebooks/data_table.ipynb>data table notebook</a>'\n",
              "            + ' to learn more about interactive tables.';\n",
              "          element.innerHTML = '';\n",
              "          dataTable['output_type'] = 'display_data';\n",
              "          await google.colab.output.renderOutput(dataTable, element);\n",
              "          const docLink = document.createElement('div');\n",
              "          docLink.innerHTML = docLinkHtml;\n",
              "          element.appendChild(docLink);\n",
              "        }\n",
              "      </script>\n",
              "    </div>\n",
              "  </div>\n",
              "  "
            ]
          },
          "metadata": {}
        }
      ],
      "source": [
        "threshold = 0.5\n",
        "binary_predictions = np.where(predictions >= threshold, 1, 0)\n",
        "output_kaggle_test(test_df, binary_predictions)"
      ]
    },
    {
      "cell_type": "markdown",
      "metadata": {
        "id": "rnNEv2ZkjxfE"
      },
      "source": [
        "#### Error Analysis"
      ]
    },
    {
      "cell_type": "markdown",
      "source": [
        "##### Finding F1 for the validation and Kaggle Test set"
      ],
      "metadata": {
        "id": "-wqq7E72ELlC"
      }
    },
    {
      "cell_type": "code",
      "execution_count": null,
      "metadata": {
        "id": "uSoWWxG6wNjv",
        "colab": {
          "base_uri": "https://localhost:8080/"
        },
        "outputId": "cc7a1263-6c48-40a4-8b2f-89f55b2ae232"
      },
      "outputs": [
        {
          "output_type": "stream",
          "name": "stdout",
          "text": [
            "96/96 [==============================] - 10s 88ms/step\n"
          ]
        }
      ],
      "source": [
        "# Get the validation dataset predictions\n",
        "validation_predictions = classifier_model.predict(val_ds)\n",
        "\n",
        "# Threshold to get valid binary outputs\n",
        "threshold = 0.5\n",
        "validation_binary_predictions = np.where(validation_predictions >= threshold, 1, 0)"
      ]
    },
    {
      "cell_type": "code",
      "source": [
        "# Find the validation set F1\n",
        "print('For the validation set:')\n",
        "# Find the validation set F1\n",
        "f1 = f1_score(validation_labels, validation_binary_predictions)\n",
        "\n",
        "print('Validation set F1:', f1)\n",
        "print()\n",
        "\n",
        "# Display the kaggle F1\n",
        "print('The Kaggle test F1 score : 0.84737')"
      ],
      "metadata": {
        "colab": {
          "base_uri": "https://localhost:8080/"
        },
        "id": "1nb-HvwP9gRJ",
        "outputId": "ad3892eb-4660-41a7-9259-89402ed4a285"
      },
      "execution_count": null,
      "outputs": [
        {
          "output_type": "stream",
          "name": "stdout",
          "text": [
            "For the validation set:\n",
            "Validation set F1: 0.8026101141924961\n",
            "\n",
            "The Kaggle test F1 score : 0.84737\n"
          ]
        }
      ]
    },
    {
      "cell_type": "markdown",
      "metadata": {
        "id": "N6qywm8Tv-XV"
      },
      "source": [
        "##### Confusion Matrix"
      ]
    },
    {
      "cell_type": "code",
      "execution_count": null,
      "metadata": {
        "id": "JBx1Iv2ExgCJ",
        "colab": {
          "base_uri": "https://localhost:8080/",
          "height": 480
        },
        "outputId": "72c96752-50ba-4b57-f4be-9cd5b97a7c1e"
      },
      "outputs": [
        {
          "output_type": "display_data",
          "data": {
            "text/plain": [
              "<Figure size 640x480 with 1 Axes>"
            ],
            "image/png": "[encoded data removed]"
          },
          "metadata": {}
        }
      ],
      "source": [
        "# Create the confustion_matrix and display\n",
        "conf_matrix = confusion_matrix(validation_df['manual_relabeled'], validation_binary_predictions)\n",
        "\n",
        "# Use the sns heatmap as before\n",
        "sns.heatmap(conf_matrix, annot=True, fmt='d', cmap='Blues', cbar=False)\n",
        "plt.xlabel('Predicted')\n",
        "plt.ylabel('True')\n",
        "plt.title('BERT: Confusion Matrix')\n",
        "plt.show()"
      ]
    },
    {
      "cell_type": "markdown",
      "source": [
        "##### ROC Curve"
      ],
      "metadata": {
        "id": "dQNHmqe2EbVL"
      }
    },
    {
      "cell_type": "code",
      "source": [
        "# Calculate the fpr and tpr values using the roc_curve function\n",
        "fpr, tpr, thresholds = roc_curve(validation_labels, validation_binary_predictions)\n",
        "\n",
        "# Plot the ROC curve\n",
        "plt.plot(fpr, tpr)\n",
        "plt.xlabel('False Positive Rate')\n",
        "plt.ylabel('True Positive Rate')\n",
        "plt.title('ROC Curve')\n",
        "plt.show()"
      ],
      "metadata": {
        "colab": {
          "base_uri": "https://localhost:8080/",
          "height": 480
        },
        "id": "cu4TdgsFNfTb",
        "outputId": "5c548634-4804-4037-91c5-bd58a9e58d44"
      },
      "execution_count": null,
      "outputs": [
        {
          "output_type": "display_data",
          "data": {
            "text/plain": [
              "<Figure size 640x480 with 1 Axes>"
            ],
            "image/png": "[encoded data removed]"
          },
          "metadata": {}
        }
      ]
    },
    {
      "cell_type": "markdown",
      "source": [
        "##### Area Under the ROC curve (AUC-ROC)"
      ],
      "metadata": {
        "id": "2BiUdEdmPf3j"
      }
    },
    {
      "cell_type": "code",
      "source": [
        "# Calculate AUC score\n",
        "auc_score = roc_auc_score(validation_labels, validation_binary_predictions)\n",
        "\n",
        "# Calculate fpr, tpr values using roc_curve function\n",
        "fpr, tpr, thresholds = roc_curve(validation_labels, validation_binary_predictions)\n",
        "\n",
        "# Plot ROC curve\n",
        "plt.plot(fpr, tpr, label='AUC = {:.2f}'.format(auc_score))\n",
        "plt.plot([0, 1], [0, 1], 'k--')\n",
        "plt.xlim([0.0, 1.0])\n",
        "plt.ylim([0.0, 1.0])\n",
        "plt.xlabel('False Positive Rate')\n",
        "plt.ylabel('True Positive Rate')\n",
        "plt.title('ROC Curve')\n",
        "plt.legend(loc='lower right')\n",
        "plt.show()"
      ],
      "metadata": {
        "colab": {
          "base_uri": "https://localhost:8080/",
          "height": 480
        },
        "id": "JmjfE2N6Po9V",
        "outputId": "da73a378-953e-4e10-ec3a-89d3e837e7c7"
      },
      "execution_count": null,
      "outputs": [
        {
          "output_type": "display_data",
          "data": {
            "text/plain": [
              "<Figure size 640x480 with 1 Axes>"
            ],
            "image/png": "[encoded data removed]"
          },
          "metadata": {}
        }
      ]
    },
    {
      "cell_type": "markdown",
      "metadata": {
        "id": "cqBCKd6txIwT"
      },
      "source": [
        "##### Example Errors\n",
        "To gain insight into why our model may be misclassifying tweets, we opted to showcase five examples of false positives and false negatives."
      ]
    },
    {
      "cell_type": "code",
      "execution_count": null,
      "metadata": {
        "id": "ysEyrzLCxLZ3",
        "colab": {
          "base_uri": "https://localhost:8080/"
        },
        "outputId": "5398f079-a3d7-40d7-bd8a-6eb52ee88b08"
      },
      "outputs": [
        {
          "output_type": "stream",
          "name": "stdout",
          "text": [
            "Text: photo lavenderpoetrycafe trauma memories are encoded in images as trauma is a more sensory than cognitive \n",
            "True label: 1, Predicted label: [0]\n",
            "\n",
            "\n",
            "Text: û÷good samaritansûª shot in horror hijacking  chat twimbos zimpapersviews\n",
            "True label: 1, Predicted label: [0]\n",
            "\n",
            "\n",
            "Text:  what alternatives legal alternatives protesting rioting may not be the most peaceful thing but its a demonstration of how\n",
            "True label: 0, Predicted label: [1]\n",
            "\n",
            "\n",
            "Text:  no prob\n",
            "True label: 1, Predicted label: [0]\n",
            "\n",
            "\n",
            "Text: ûï yo forreal we need to have like an emergency action plan incase donald trump becomes presidentû\n",
            "whipe that lil baby\n",
            "True label: 1, Predicted label: [0]\n",
            "\n",
            "\n",
            "Text: i scored  points in punch quest stopped when a squeaky bat collided into my skull \n",
            "True label: 1, Predicted label: [0]\n",
            "\n",
            "\n",
            "Text:  efs  star wars and star trek collide on pluto moon charon pluto\n",
            "True label: 0, Predicted label: [1]\n",
            "\n",
            "\n",
            "Text:  you said they are terrorist because of babri so was it ok if you demolish my house todayhave i right to take revenge\n",
            "True label: 0, Predicted label: [1]\n",
            "\n",
            "\n",
            "Text: people with netflix theres a really good documentary about hiroshima narrated by john hurt  parter that interviews pilots  survivors\n",
            "True label: 0, Predicted label: [1]\n",
            "\n",
            "\n",
            "Text: does wipp facility in nm investigating a site filter radiation reading has activated its emergency ops center says no offsite release\n",
            "True label: 0, Predicted label: [1]\n",
            "\n",
            "\n"
          ]
        }
      ],
      "source": [
        "# Get the indices for wrong predictions\n",
        "error_indices = np.where(validation_df['manual_relabeled'] != validation_binary_predictions.reshape(-1))\n",
        "\n",
        "# Get the indices for wrong predictions\n",
        "error_indices = np.where(validation_df['manual_relabeled'] != validation_binary_predictions.reshape(-1))\n",
        "\n",
        "fp_count, fn_count = 0, 0\n",
        "i = 0\n",
        "# Get five fp and fn\n",
        "while fp_count < 5 or fn_count < 5:\n",
        "    index = error_indices[0][i]\n",
        "    true_label = validation_df.iloc[index]['manual_relabeled']\n",
        "    predicted_label = binary_predictions[index]\n",
        "    \n",
        "    if true_label == 0 and predicted_label == 1 and fp_count < 5:\n",
        "        print(f\"Text: {validation_df.iloc[index]['text']}\")\n",
        "        print(f\"True label: {true_label}, Predicted label: {predicted_label}\")\n",
        "        print(\"\\n\")\n",
        "        fp_count += 1\n",
        "    \n",
        "    if true_label == 1 and predicted_label == 0 and fn_count < 5:\n",
        "        print(f\"Text: {validation_df.iloc[index]['text']}\")\n",
        "        print(f\"True label: {true_label}, Predicted label: {predicted_label}\")\n",
        "        print(\"\\n\")\n",
        "        fn_count += 1\n",
        "        \n",
        "    i += 1\n"
      ]
    },
    {
      "cell_type": "markdown",
      "source": [
        "##### Discussion\n",
        "The Kaggle F1 score is notably higher than the validation set, possibly due to the larger size of the test dataset, allowing the model to generalize better. However, the confusion matrix reveals that the model predicts more false negatives than false positives, possibly because of the class imbalance in the training dataset. To address this issue, we would recommend augmenting the dataset with more disaster-related tweets.\n",
        "<br/>\n",
        "<br/>\n",
        "The ROC curve provides a graphical representation of the trade-off between the true positive rate (TPR) and the false positive rate (FPR), enabling us to determine the optimal threshold value for our model. The optimal threshold value is the point on the curve closest to the upper left corner, which represents high TPR and low FPR. However, even after identifying the optimal threshold value, which appeared to be approximately 0.8, we found that using a threshold value of 0.5 resulted in higher accuracy for our model. This suggests that the threshold value is not the only factor influencing the model's performance, and that other factors, such as the choice of hyperparameters, may also be important.\n",
        "<br/>\n",
        "<br/>\n",
        "The AUC ROC curve, similarly to the ROC curve, provides a visual representation of the trade-off between the true positive rate (TPR) and the false positive rate (FPR). It measures the ability of the model to distinguish between positive and negative classes, regardless of the threshold value used to classify the data.\n",
        "\n",
        "Our AUC ROC score was identified as 0.83, demonstrating quite a powerful model.\n",
        "<br/>\n",
        "<br/>\n",
        "Upon examining the errors, it appears that the model's incorrect predictions are due to the noise and ambiguity present in the text data and the class imbalance in the dataset. The model may struggle to accurately identify disaster-related tweets, while the bias towards the majority class (non-disaster tweets) further complicates the issue, especially given the synonymous keywords in the text.\n",
        "<br/>\n",
        "<br/>\n",
        "Moreover, the model's training process portrays overfitting to the training data and not generalizing well to new data. The model's hyperparameters, such as the learning rate and batch size, may have also played a role in its performance, although we emperically chose these.\n",
        "<br/>\n",
        "<br/>\n",
        "Please note that while we achieved better results with a previous BERT model, we encountered difficulty in identifying the correct timestamp in our notebook. As a result, we reverted to the closest available version from our memory."
      ],
      "metadata": {
        "id": "1b4S6vdaKZf0"
      }
    },
    {
      "cell_type": "markdown",
      "source": [
        "##### Analysis\n",
        "Possible ways to improve the model's performance involve augmenting the training dataset with more disaster-related tweets to address the bias towards the non-disaster class highlighted in the error analysis. One approach to increase the size of the dataset is to use techniques like data synthesis and phrase replacement to generate new training examples.\n",
        "\n",
        "Moreover, there is a BERT model trained specifically on Twitter data, which may capture more contextual relationships. However, due to unfamiliarity with PyTorch, we decided not to pursue this option.\n",
        "\n",
        "It may also be worth exploring different model architectures and ensemble methods to further enhance the performance of the model."
      ],
      "metadata": {
        "id": "ZthPQpPHRVu1"
      }
    },
    {
      "cell_type": "markdown",
      "source": [
        "### Implementing a Bag of Words model"
      ],
      "metadata": {
        "id": "xAIJidxWxyro"
      }
    },
    {
      "cell_type": "markdown",
      "source": [
        "In addition to implementing a BERT model, we also chose to incorporate a bag of words model into our project, as it represents a classic and straightforward approach to text classification that has been used extensively in the field. Our aim with this choice was to showcase the effectiveness of a basic yet powerful model, which could provide an instructive contrast to the complexity of the BERT model.\n",
        "\n",
        "The bag of words model operates by representing each input text as a collection of individual words or tokens, without any consideration for the sequence or context in which they appear. This approach has been shown to be highly effective in many text classification tasks, particularly those involving relatively simple classification problems with limited variability in the input data.\n",
        "\n",
        "By using a bag of words model alongside a cutting-edge model such as BERT, we were able to provide a more comprehensive and informative picture of the trade-offs between simplicity and complexity in text classification. Furthermore, this approach allowed us to more thoroughly explore the characteristics and limitations of each model type, and to make more informed decisions regarding which model to use in different contexts."
      ],
      "metadata": {
        "id": "RuM1iJAM6m9P"
      }
    },
    {
      "cell_type": "markdown",
      "source": [
        "#### Building a vocabulary"
      ],
      "metadata": {
        "id": "4Ytd4pkcyG0j"
      }
    },
    {
      "cell_type": "markdown",
      "source": [
        "Let's make a dictionary mapping words to IDs."
      ],
      "metadata": {
        "id": "kFVEnHPvXfzj"
      }
    },
    {
      "cell_type": "code",
      "source": [
        "def build_vocab(text):\n",
        "  words = []\n",
        "  for i in range(len(text)):\n",
        "    tweet = text[i].split()\n",
        "    for word in tweet:\n",
        "      if word not in words:\n",
        "        words.append(word)\n",
        "  \n",
        "  # Assigning an index to each word\n",
        "  vocab = dict([(words[i], i+1) for i in range(len(words))]) \n",
        "\n",
        "  vocab['#'] = 0 # In the case words of outside of the vocab\n",
        "\n",
        "  return vocab\n",
        "\n",
        "\n",
        "vocab = build_vocab(train_df['text'])\n",
        "index = dict([(value, key) for (key, value) in vocab.items()])\n",
        "\n",
        "print(len(vocab))"
      ],
      "metadata": {
        "id": "V11uZgG-x72S",
        "colab": {
          "base_uri": "https://localhost:8080/"
        },
        "outputId": "67acb428-3a0f-44be-d4e6-35e7b66be0c6"
      },
      "execution_count": null,
      "outputs": [
        {
          "output_type": "stream",
          "name": "stdout",
          "text": [
            "15041\n"
          ]
        }
      ]
    },
    {
      "cell_type": "markdown",
      "source": [
        "#### Feature Representation"
      ],
      "metadata": {
        "id": "J61oHAzJyRxL"
      }
    },
    {
      "cell_type": "markdown",
      "source": [
        "A tweet has a variable number of ordered tokens (up to 145 in the training examples). Each token occurs in a particular position. Some of the trailing positions are empty, since tweet lengths vary.  At each token position, there is a single token, one of the 15041 entries in the vocabulary. So we can think of a tweet as a (145, 15041) matrix: At each of ~145 token positions, we have 1 of ~15041 token ids.\n",
        "<br/>\n",
        "<br/>\n",
        "This representation would have 145 * 15041 = 2.18 million features -- which is a lot of complexity, though as you'll see below, we will make some simplifying assumptions, reducing both the number of token positions and the number of vocabulary items."
      ],
      "metadata": {
        "id": "DsFkRUUcWpwV"
      }
    },
    {
      "cell_type": "markdown",
      "source": [
        "##### Encoding the text"
      ],
      "metadata": {
        "id": "jwgYkv9Lyib6"
      }
    },
    {
      "cell_type": "markdown",
      "source": [
        "Using our newly-made vocabulary, let's encode the tweets so that each word in each tweet is now it's vocabulary ID."
      ],
      "metadata": {
        "id": "2zAYJ0ZcXvwO"
      }
    },
    {
      "cell_type": "code",
      "source": [
        "def encode(tweet):\n",
        "  encoded = []\n",
        "  for word in tweet.split():\n",
        "    if word in vocab.keys():\n",
        "      encoded.append(vocab[word])\n",
        "    else:\n",
        "      encoded.append(vocab['#'])\n",
        "  return encoded\n",
        "\n",
        "\n",
        "encoded_train_df_text = train_df['text'].apply(encode)\n",
        "print(encoded_train_df_text[0])\n",
        "train_df_90_encoded_text = train_df_split['text'].apply(encode)"
      ],
      "metadata": {
        "id": "MAzXk_ZsylUP",
        "colab": {
          "base_uri": "https://localhost:8080/"
        },
        "outputId": "7bb3f263-7647-49f7-b445-9e9f52d8ace0"
      },
      "execution_count": null,
      "outputs": [
        {
          "output_type": "stream",
          "name": "stdout",
          "text": [
            "[1, 2, 3, 4, 5, 6, 7, 8, 9, 10, 11, 12, 13]\n"
          ]
        }
      ]
    },
    {
      "cell_type": "markdown",
      "source": [
        "Here is a decoding function to show the difference between the encoded tweet and the original tweet. This will not be in use in our model."
      ],
      "metadata": {
        "id": "nrItjC2KYCGc"
      }
    },
    {
      "cell_type": "code",
      "source": [
        "def decode(token_ids):\n",
        "  \"\"\"Return a string with the decoded text given a list of token ids.\"\"\"\n",
        "  # Try looking up each id in the index, but return '#' (for OOV) if not found.\n",
        "  tokens = [index.get(i, \"#\") for i in token_ids]\n",
        "\n",
        "  # Connect the string tokens with a space.\n",
        "  return ' '.join(tokens)\n",
        "\n",
        "print(decode(encoded_train_df_text[0]))"
      ],
      "metadata": {
        "id": "BkYVHX9SynaI",
        "colab": {
          "base_uri": "https://localhost:8080/"
        },
        "outputId": "02a1a01e-3d91-4ef6-b111-e0256993c2d1"
      },
      "execution_count": null,
      "outputs": [
        {
          "output_type": "stream",
          "name": "stdout",
          "text": [
            "our deeds are the reason of this earthquake may allah forgive us all\n"
          ]
        }
      ]
    },
    {
      "cell_type": "markdown",
      "source": [
        "##### Padding and Reducing the Length"
      ],
      "metadata": {
        "id": "PJ7h9DgTzFDx"
      }
    },
    {
      "cell_type": "markdown",
      "source": [
        "As is clear from the length histogram in the <b>Finding Tweet Lengths</b> section, the current representation of the tweet text is a variable-length array. Since fixed-length arrays are easier to work with in Tensorflow, let's add special padding tokens at the end of each tweet until they are all the same length.\n",
        "\n",
        "Since the tweets are each only 145 length, we will make the length for all of our tweets 145."
      ],
      "metadata": {
        "id": "ppetStsJYeVE"
      }
    },
    {
      "cell_type": "code",
      "source": [
        "def pad_data(sequences, max_length):\n",
        "  # Keras has a convenient utility for padding a sequence.\n",
        "  # Also make sure we get a numpy array rather than an array of lists.\n",
        "  sequences_np = sequences.to_numpy()\n",
        "  return np.array(list(\n",
        "      tf.keras.preprocessing.sequence.pad_sequences(\n",
        "          sequences_np, maxlen=max_length, padding='post', value=0)))\n",
        "\n",
        "# Pad and truncate to 145 tokens\n",
        "train_df_90_padded = pad_data(train_df_90_encoded_text, max_length=145)\n",
        "\n",
        "# Check the padded output.\n",
        "print('Length of train_df_90_encoded_text[0]:', len(train_df_90_encoded_text[1]))\n",
        "print('Length of train_df_90_padded[0]:', len(train_df_90_padded[1]))\n",
        "print(train_df_90_padded[1])"
      ],
      "metadata": {
        "id": "PaLGbVO3zZGO",
        "colab": {
          "base_uri": "https://localhost:8080/"
        },
        "outputId": "af1327de-ba4b-4307-b16e-375cfb1ad1d1"
      },
      "execution_count": null,
      "outputs": [
        {
          "output_type": "stream",
          "name": "stdout",
          "text": [
            "Length of train_df_90_encoded_text[0]: 7\n",
            "Length of train_df_90_padded[0]: 145\n",
            "[   37    16   694 11696   613   276   666   235    23   111    25  2875\n",
            "    77   492  1102     3   251    52 11697 11698     0     0     0     0\n",
            "     0     0     0     0     0     0     0     0     0     0     0     0\n",
            "     0     0     0     0     0     0     0     0     0     0     0     0\n",
            "     0     0     0     0     0     0     0     0     0     0     0     0\n",
            "     0     0     0     0     0     0     0     0     0     0     0     0\n",
            "     0     0     0     0     0     0     0     0     0     0     0     0\n",
            "     0     0     0     0     0     0     0     0     0     0     0     0\n",
            "     0     0     0     0     0     0     0     0     0     0     0     0\n",
            "     0     0     0     0     0     0     0     0     0     0     0     0\n",
            "     0     0     0     0     0     0     0     0     0     0     0     0\n",
            "     0     0     0     0     0     0     0     0     0     0     0     0\n",
            "     0]\n"
          ]
        }
      ]
    },
    {
      "cell_type": "markdown",
      "source": [
        "##### Reduced Vocabulary\n",
        "We also want to be able to limit the vocabulary size. Since our padding function produces fixed-length sequences in a numpy matrix, we can use clever numpy indexing to efficiently replace all token ids larger than some value with the designated out-of-vocabulary (OOV) id.\n",
        "\n",
        "In the code below, as an example, we'll keep just token ids less than 1000, replacing all others with OOV."
      ],
      "metadata": {
        "id": "ME2g4vxHZDRA"
      }
    },
    {
      "cell_type": "code",
      "source": [
        "def limit_vocab(sequences, max_token_id, oov_id=0):\n",
        "  \"\"\"Replace token ids greater than or equal to max_token_id with the oov_id.\"\"\"\n",
        "  reduced_sequences = np.copy(sequences)\n",
        "  reduced_sequences[reduced_sequences >= max_token_id] = oov_id\n",
        "  return reduced_sequences\n",
        "\n",
        "# Reduce vocabulary to 1000 tokens\n",
        "train_df_90_reduced = limit_vocab(train_df_90_padded, max_token_id=1000)\n",
        "print(train_df_90_reduced[1])\n",
        "print(decode(train_df_90_reduced[1]))"
      ],
      "metadata": {
        "id": "nupeF1Tlzsjt",
        "colab": {
          "base_uri": "https://localhost:8080/"
        },
        "outputId": "0d8b4912-ac05-4aa8-daa6-5791a3ac194e"
      },
      "execution_count": null,
      "outputs": [
        {
          "output_type": "stream",
          "name": "stdout",
          "text": [
            "[ 37  16 694   0 613 276 666 235  23 111  25   0  77 492   0   3 251  52\n",
            "   0   0   0   0   0   0   0   0   0   0   0   0   0   0   0   0   0   0\n",
            "   0   0   0   0   0   0   0   0   0   0   0   0   0   0   0   0   0   0\n",
            "   0   0   0   0   0   0   0   0   0   0   0   0   0   0   0   0   0   0\n",
            "   0   0   0   0   0   0   0   0   0   0   0   0   0   0   0   0   0   0\n",
            "   0   0   0   0   0   0   0   0   0   0   0   0   0   0   0   0   0   0\n",
            "   0   0   0   0   0   0   0   0   0   0   0   0   0   0   0   0   0   0\n",
            "   0   0   0   0   0   0   0   0   0   0   0   0   0   0   0   0   0   0\n",
            "   0]\n",
            "people near meltdown # who have free time to wait in # on sunday # are not a # # # # # # # # # # # # # # # # # # # # # # # # # # # # # # # # # # # # # # # # # # # # # # # # # # # # # # # # # # # # # # # # # # # # # # # # # # # # # # # # # # # # # # # # # # # # # # # # # # # # # # # # # # # # # # # # # # # # # # # # # # # # # # #\n"
          ]
        }
      ]
    },
    {
      "cell_type": "markdown",
      "source": [
        "##### Applying to validation set"
      ],
      "metadata": {
        "id": "9y_6TDlZzufS"
      }
    },
    {
      "cell_type": "code",
      "source": [
        "validation_train_df_encoded_text = validation_df['text'].apply(encode)\n",
        "validation_train_df_padded = pad_data(validation_train_df_encoded_text, max_length=145)\n",
        "validation_train_df_reduced = limit_vocab(validation_train_df_padded, max_token_id=1000)"
      ],
      "metadata": {
        "id": "JcNB0e26z7aA"
      },
      "execution_count": null,
      "outputs": []
    },
    {
      "cell_type": "markdown",
      "source": [
        "#### Building the Bag of Words Model"
      ],
      "metadata": {
        "id": "7PhG9pA40Dgx"
      }
    },
    {
      "cell_type": "markdown",
      "source": [
        "To build our Bag of Words model, we implemented a feed-forward neural network model that expects the padded sequence of token ids and for each id, looks up the corresponding embedding vector. Then we average them to produce a single vector. Then we'll train a logistic regression with that vector as input to predict the binary label.\n",
        "<br/>\n",
        "<br/>\n",
        "In addition to the embedding layer and the output layer, we added 5 hidden layers, each with relu activation, for added complexity and to achieve better performance."
      ],
      "metadata": {
        "id": "MTIY-Xl6jG1R"
      }
    },
    {
      "cell_type": "markdown",
      "source": [
        "Building with FFNN as a baseline"
      ],
      "metadata": {
        "id": "20ufff920qS1"
      }
    },
    {
      "cell_type": "markdown",
      "source": [
        "As this is a binary classification problem, we utilized binary cross-entropy as our loss function. We set the number of epochs for training emperically.\n",
        "Additionally, an `adam` optimizer is used by specifizing the optimizer type.\n",
        "<br/>\n",
        "<br/>\n",
        "The `adam` optimizer failed when we tried to adjust it's learning rate. However, in comparison to other optimizer's it;s one of the best with its momentum effect to prevent taking too long to converge to an optimum."
      ],
      "metadata": {
        "id": "M9E3y4LDFWNO"
      }
    },
    {
      "cell_type": "code",
      "source": [
        "def build_bow_model(vocab_size=1000,\n",
        "                    sequence_length=145,\n",
        "                    embedding_dim=2):\n",
        "  model = tf.keras.Sequential()\n",
        "  model.add(tf.keras.layers.Embedding(\n",
        "      input_dim=vocab_size,\n",
        "      output_dim=embedding_dim,\n",
        "      input_length=sequence_length)\n",
        "  )\n",
        "  model.add(tf.keras.layers.GlobalAveragePooling1D())\n",
        "  model.add(tf.keras.layers.Dense(units=120, activation='relu'))\n",
        "  model.add(tf.keras.layers.Dense(units=120, activation='relu'))\n",
        "  model.add(tf.keras.layers.Dense(units=120, activation='relu'))\n",
        "  model.add(tf.keras.layers.Dense(units=32, activation='relu'))\n",
        "  model.add(tf.keras.layers.Dense(units=16, activation='relu'))\n",
        "  model.add(tf.keras.layers.Dense(\n",
        "      units=1,                     # output dim (for binary classification)\n",
        "      activation='sigmoid'         # apply the sigmoid function!\n",
        "  ))\n",
        "\n",
        "  model.compile(loss='binary_crossentropy', optimizer='adam',\n",
        "                metrics=['accuracy'])\n",
        "  return model"
      ],
      "metadata": {
        "id": "4aYEiD8O0tVE"
      },
      "execution_count": null,
      "outputs": []
    },
    {
      "cell_type": "markdown",
      "source": [
        "Building and Plotting the model"
      ],
      "metadata": {
        "id": "yJ0KHXWynPeS"
      }
    },
    {
      "cell_type": "code",
      "source": [
        "bow_model = build_bow_model(\n",
        "    vocab_size=20000, sequence_length=145, embedding_dim=16)\n",
        "tf.keras.utils.plot_model(bow_model, show_shapes=True)"
      ],
      "metadata": {
        "id": "uOOsLlja0wPE",
        "colab": {
          "base_uri": "https://localhost:8080/",
          "height": 976
        },
        "outputId": "d126f8d8-f61f-492a-93f7-2be862c3ec27"
      },
      "execution_count": null,
      "outputs": [
        {
          "output_type": "execute_result",
          "data": {
            "image/png": "[encoded data removed]",
            "text/plain": [
              "<IPython.core.display.Image object>"
            ]
          },
          "metadata": {},
          "execution_count": 22
        }
      ]
    },
    {
      "cell_type": "markdown",
      "source": [
        "#### Model Training"
      ],
      "metadata": {
        "id": "QOfvaQoX06qj"
      }
    },
    {
      "cell_type": "code",
      "source": [
        "train_df_90_labels = train_df_split['manual_relabeled']\n",
        "\n",
        "# Reshaping the validation data to be able to fit to the model\n",
        "val_data = (validation_train_df_reduced, validation_labels.reshape((-1,1)))"
      ],
      "metadata": {
        "id": "P7qs0WHE09pv"
      },
      "execution_count": null,
      "outputs": []
    },
    {
      "cell_type": "code",
      "source": [
        "# Clear session and remove randomness.\n",
        "tf.keras.backend.clear_session()\n",
        "tf.keras.utils.set_random_seed(0)\n",
        "\n",
        "history = bow_model.fit(\n",
        "  x = train_df_90_reduced,\n",
        "  y = train_df_90_labels,          # corresponding binary labels\n",
        "  epochs=8,             # number of passes through the training data\n",
        "  batch_size=16,        # mini-batch size\n",
        "  validation_data = val_data, # passing in the validation data we sectioned\n",
        "  verbose=1,            # display some progress output during training\n",
        "  )\n",
        "\n",
        "plot_history(history)\n",
        "display(history)"
      ],
      "metadata": {
        "id": "2KBsVWl-1DYO",
        "colab": {
          "base_uri": "https://localhost:8080/",
          "height": 804
        },
        "outputId": "b5d9a19f-fd4b-41cd-e68e-f182e8c0c8d3"
      },
      "execution_count": null,
      "outputs": [
        {
          "output_type": "stream",
          "name": "stdout",
          "text": [
            "Epoch 1/8\n",
            "429/429 [==============================] - 5s 7ms/step - loss: 0.6806 - accuracy: 0.5720 - val_loss: 0.6454 - val_accuracy: 0.7021\n",
            "Epoch 2/8\n",
            "429/429 [==============================] - 3s 7ms/step - loss: 0.5795 - accuracy: 0.7040 - val_loss: 0.5790 - val_accuracy: 0.7139\n",
            "Epoch 3/8\n",
            "429/429 [==============================] - 3s 6ms/step - loss: 0.5396 - accuracy: 0.7380 - val_loss: 0.5482 - val_accuracy: 0.7310\n",
            "Epoch 4/8\n",
            "429/429 [==============================] - 3s 6ms/step - loss: 0.5115 - accuracy: 0.7584 - val_loss: 0.5856 - val_accuracy: 0.6982\n",
            "Epoch 5/8\n",
            "429/429 [==============================] - 2s 6ms/step - loss: 0.4995 - accuracy: 0.7698 - val_loss: 0.5873 - val_accuracy: 0.6850\n",
            "Epoch 6/8\n",
            "429/429 [==============================] - 3s 6ms/step - loss: 0.4959 - accuracy: 0.7705 - val_loss: 0.5389 - val_accuracy: 0.7480\n",
            "Epoch 7/8\n",
            "429/429 [==============================] - 3s 6ms/step - loss: 0.4867 - accuracy: 0.7748 - val_loss: 0.5487 - val_accuracy: 0.7402\n",
            "Epoch 8/8\n",
            "429/429 [==============================] - 3s 8ms/step - loss: 0.4825 - accuracy: 0.7739 - val_loss: 0.5567 - val_accuracy: 0.7467\n"
          ]
        },
        {
          "output_type": "display_data",
          "data": {
            "text/plain": [
              "<Figure size 640x480 with 1 Axes>"
            ],
            "image/png": "[encoded data removed]"
          },
          "metadata": {}
        },
        {
          "output_type": "display_data",
          "data": {
            "text/plain": [
              "<keras.callbacks.History at 0x7fba547c8340>"
            ]
          },
          "metadata": {}
        }
      ]
    },
    {
      "cell_type": "markdown",
      "source": [
        "#### Get test predictions"
      ],
      "metadata": {
        "id": "Y60ssd_n1N0T"
      }
    },
    {
      "cell_type": "code",
      "source": [
        "test_df_encoded_text = test_df['text'].apply(encode)\n",
        "test_df_padded = pad_data(test_df_encoded_text, max_length=145)\n",
        "test_df_reduced = limit_vocab(test_df_padded, max_token_id=1000)"
      ],
      "metadata": {
        "id": "KAcbgi6p1Qe_"
      },
      "execution_count": null,
      "outputs": []
    },
    {
      "cell_type": "markdown",
      "source": [
        "##### Thresholding and output to Kaggle"
      ],
      "metadata": {
        "id": "H1PGrXoo1uir"
      }
    },
    {
      "cell_type": "code",
      "source": [
        "bow_model_predictions = bow_model.predict(test_df_reduced)\n",
        "threshold = 0.5\n",
        "bow_model_binary_predictions = np.where(bow_model_predictions >= threshold, 1, 0)\n",
        "output_kaggle_test(test_df, bow_model_binary_predictions)"
      ],
      "metadata": {
        "id": "Mekat91u1dhw",
        "colab": {
          "base_uri": "https://localhost:8080/",
          "height": 459
        },
        "outputId": "85e61ac5-d11a-4285-cb0d-edae10259506"
      },
      "execution_count": null,
      "outputs": [
        {
          "output_type": "stream",
          "name": "stdout",
          "text": [
            "102/102 [==============================] - 0s 2ms/step\n",
            "(3263, 2)\n"
          ]
        },
        {
          "output_type": "display_data",
          "data": {
            "text/plain": [
              "         id  target\n",
              "0         0       1\n",
              "1         2       1\n",
              "2         3       1\n",
              "3         9       1\n",
              "4        11       1\n",
              "...     ...     ...\n",
              "3258  10861       1\n",
              "3259  10865       0\n",
              "3260  10868       1\n",
              "3261  10874       1\n",
              "3262  10875       0\n",
              "\n",
              "[3263 rows x 2 columns]"
            ],
            "text/html": [
              "\n",
              "  <div id=\"df-d25eccb1-2b0c-4507-bf0f-d60fdf512cd8\">\n",
              "    <div class=\"colab-df-container\">\n",
              "      <div>\n",
              "<style scoped>\n",
              "    .dataframe tbody tr th:only-of-type {\n",
              "        vertical-align: middle;\n",
              "    }\n",
              "\n",
              "    .dataframe tbody tr th {\n",
              "        vertical-align: top;\n",
              "    }\n",
              "\n",
              "    .dataframe thead th {\n",
              "        text-align: right;\n",
              "    }\n",
              "</style>\n",
              "<table border=\"1\" class=\"dataframe\">\n",
              "  <thead>\n",
              "    <tr style=\"text-align: right;\">\n",
              "      <th></th>\n",
              "      <th>id</th>\n",
              "      <th>target</th>\n",
              "    </tr>\n",
              "  </thead>\n",
              "  <tbody>\n",
              "    <tr>\n",
              "      <th>0</th>\n",
              "      <td>0</td>\n",
              "      <td>1</td>\n",
              "    </tr>\n",
              "    <tr>\n",
              "      <th>1</th>\n",
              "      <td>2</td>\n",
              "      <td>1</td>\n",
              "    </tr>\n",
              "    <tr>\n",
              "      <th>2</th>\n",
              "      <td>3</td>\n",
              "      <td>1</td>\n",
              "    </tr>\n",
              "    <tr>\n",
              "      <th>3</th>\n",
              "      <td>9</td>\n",
              "      <td>1</td>\n",
              "    </tr>\n",
              "    <tr>\n",
              "      <th>4</th>\n",
              "      <td>11</td>\n",
              "      <td>1</td>\n",
              "    </tr>\n",
              "    <tr>\n",
              "      <th>...</th>\n",
              "      <td>...</td>\n",
              "      <td>...</td>\n",
              "    </tr>\n",
              "    <tr>\n",
              "      <th>3258</th>\n",
              "      <td>10861</td>\n",
              "      <td>1</td>\n",
              "    </tr>\n",
              "    <tr>\n",
              "      <th>3259</th>\n",
              "      <td>10865</td>\n",
              "      <td>0</td>\n",
              "    </tr>\n",
              "    <tr>\n",
              "      <th>3260</th>\n",
              "      <td>10868</td>\n",
              "      <td>1</td>\n",
              "    </tr>\n",
              "    <tr>\n",
              "      <th>3261</th>\n",
              "      <td>10874</td>\n",
              "      <td>1</td>\n",
              "    </tr>\n",
              "    <tr>\n",
              "      <th>3262</th>\n",
              "      <td>10875</td>\n",
              "      <td>0</td>\n",
              "    </tr>\n",
              "  </tbody>\n",
              "</table>\n",
              "<p>3263 rows × 2 columns</p>\n",
              "</div>\n",
              "      <button class=\"colab-df-convert\" onclick=\"convertToInteractive('df-d25eccb1-2b0c-4507-bf0f-d60fdf512cd8')\"\n",
              "              title=\"Convert this dataframe to an interactive table.\"\n",
              "              style=\"display:none;\">\n",
              "        \n",
              "  <svg xmlns=\"http://www.w3.org/2000/svg\" height=\"24px\"viewBox=\"0 0 24 24\"\n",
              "       width=\"24px\">\n",
              "    <path d=\"M0 0h24v24H0V0z\" fill=\"none\"/>\n",
              "    <path d=\"M18.56 5.44l.94 2.06.94-2.06 2.06-.94-2.06-.94-.94-2.06-.94 2.06-2.06.94zm-11 1L8.5 8.5l.94-2.06 2.06-.94-2.06-.94L8.5 2.5l-.94 2.06-2.06.94zm10 10l.94 2.06.94-2.06 2.06-.94-2.06-.94-.94-2.06-.94 2.06-2.06.94z\"/><path d=\"M17.41 7.96l-1.37-1.37c-.4-.4-.92-.59-1.43-.59-.52 0-1.04.2-1.43.59L10.3 9.45l-7.72 7.72c-.78.78-.78 2.05 0 2.83L4 21.41c.39.39.9.59 1.41.59.51 0 1.02-.2 1.41-.59l7.78-7.78 2.81-2.81c.8-.78.8-2.07 0-2.86zM5.41 20L4 18.59l7.72-7.72 1.47 1.35L5.41 20z\"/>\n",
              "  </svg>\n",
              "      </button>\n",
              "      \n",
              "  <style>\n",
              "    .colab-df-container {\n",
              "      display:flex;\n",
              "      flex-wrap:wrap;\n",
              "      gap: 12px;\n",
              "    }\n",
              "\n",
              "    .colab-df-convert {\n",
              "      background-color: #E8F0FE;\n",
              "      border: none;\n",
              "      border-radius: 50%;\n",
              "      cursor: pointer;\n",
              "      display: none;\n",
              "      fill: #1967D2;\n",
              "      height: 32px;\n",
              "      padding: 0 0 0 0;\n",
              "      width: 32px;\n",
              "    }\n",
              "\n",
              "    .colab-df-convert:hover {\n",
              "      background-color: #E2EBFA;\n",
              "      box-shadow: 0px 1px 2px rgba(60, 64, 67, 0.3), 0px 1px 3px 1px rgba(60, 64, 67, 0.15);\n",
              "      fill: #174EA6;\n",
              "    }\n",
              "\n",
              "    [theme=dark] .colab-df-convert {\n",
              "      background-color: #3B4455;\n",
              "      fill: #D2E3FC;\n",
              "    }\n",
              "\n",
              "    [theme=dark] .colab-df-convert:hover {\n",
              "      background-color: #434B5C;\n",
              "      box-shadow: 0px 1px 3px 1px rgba(0, 0, 0, 0.15);\n",
              "      filter: drop-shadow(0px 1px 2px rgba(0, 0, 0, 0.3));\n",
              "      fill: #FFFFFF;\n",
              "    }\n",
              "  </style>\n",
              "\n",
              "      <script>\n",
              "        const buttonEl =\n",
              "          document.querySelector('#df-d25eccb1-2b0c-4507-bf0f-d60fdf512cd8 button.colab-df-convert');\n",
              "        buttonEl.style.display =\n",
              "          google.colab.kernel.accessAllowed ? 'block' : 'none';\n",
              "\n",
              "        async function convertToInteractive(key) {\n",
              "          const element = document.querySelector('#df-d25eccb1-2b0c-4507-bf0f-d60fdf512cd8');\n",
              "          const dataTable =\n",
              "            await google.colab.kernel.invokeFunction('convertToInteractive',\n",
              "                                                     [key], {});\n",
              "          if (!dataTable) return;\n",
              "\n",
              "          const docLinkHtml = 'Like what you see? Visit the ' +\n",
              "            '<a target=\"_blank\" href=https://colab.research.google.com/notebooks/data_table.ipynb>data table notebook</a>'\n",
              "            + ' to learn more about interactive tables.';\n",
              "          element.innerHTML = '';\n",
              "          dataTable['output_type'] = 'display_data';\n",
              "          await google.colab.output.renderOutput(dataTable, element);\n",
              "          const docLink = document.createElement('div');\n",
              "          docLink.innerHTML = docLinkHtml;\n",
              "          element.appendChild(docLink);\n",
              "        }\n",
              "      </script>\n",
              "    </div>\n",
              "  </div>\n",
              "  "
            ]
          },
          "metadata": {}
        }
      ]
    },
    {
      "cell_type": "markdown",
      "source": [
        "#### Error Analysis"
      ],
      "metadata": {
        "id": "tKx-jz0R1yNI"
      }
    },
    {
      "cell_type": "markdown",
      "source": [
        "##### Finding F1 for the validation and Kaggle Test set"
      ],
      "metadata": {
        "id": "Fg9-Egpw17Z9"
      }
    },
    {
      "cell_type": "code",
      "source": [
        "bow_validation_predictions = bow_model.predict(validation_train_df_reduced)\n",
        "threshold = 0.5\n",
        "bow_validation_binary_predictions = np.where(bow_validation_predictions >= threshold, 1, 0)"
      ],
      "metadata": {
        "id": "Yq14ZdoG13L9",
        "colab": {
          "base_uri": "https://localhost:8080/"
        },
        "outputId": "0b8ff0b8-de80-4d8a-ed0d-3e74e1df08df"
      },
      "execution_count": null,
      "outputs": [
        {
          "output_type": "stream",
          "name": "stdout",
          "text": [
            "24/24 [==============================] - 0s 2ms/step\n"
          ]
        }
      ]
    },
    {
      "cell_type": "code",
      "source": [
        "# Find the validation set F1\n",
        "print('For the validation set:')\n",
        "bow_validation_f1 = calc_F1(bow_validation_binary_predictions, validation_labels)\n",
        "print()\n",
        "\n",
        "# Display the kaggle F1\n",
        "print('The Kaggle test F1 score : 0.74103')"
      ],
      "metadata": {
        "id": "HKAWCwAo2EeK",
        "colab": {
          "base_uri": "https://localhost:8080/"
        },
        "outputId": "063c79f5-effb-4923-dc3f-aa1f8c7515ed"
      },
      "execution_count": null,
      "outputs": [
        {
          "output_type": "stream",
          "name": "stdout",
          "text": [
            "For the validation set:\n",
            "Accuracy: 0.7467191601049868\n",
            "Precision: 0.7298245614035088\n",
            "Recall: 0.6419753086419753\n",
            "\n",
            "\n",
            "F1: 0.6830870279146142\n",
            "\n",
            "The Kaggle test F1 score : 0.74103\n"
          ]
        }
      ]
    },
    {
      "cell_type": "markdown",
      "source": [
        "##### Confusion Matrix"
      ],
      "metadata": {
        "id": "wIY1UPsd2Lee"
      }
    },
    {
      "cell_type": "code",
      "source": [
        "# Create the confustion_matrix and display\n",
        "conf_matrix = confusion_matrix(validation_labels, bow_validation_binary_predictions)\n",
        "\n",
        "# Use the sns heatmap as before\n",
        "sns.heatmap(conf_matrix, annot=True, fmt='d', cmap='Blues', cbar=False)\n",
        "plt.xlabel('Predicted')\n",
        "plt.ylabel('True')\n",
        "plt.title('Bag of Words: Confusion Matrix')\n",
        "plt.show()"
      ],
      "metadata": {
        "colab": {
          "base_uri": "https://localhost:8080/",
          "height": 480
        },
        "id": "RFc0KO0JMTS7",
        "outputId": "a8bbe8af-db06-4128-8ac8-099849590ace"
      },
      "execution_count": null,
      "outputs": [
        {
          "output_type": "display_data",
          "data": {
            "text/plain": [
              "<Figure size 640x480 with 1 Axes>"
            ],
            "image/png": "[encoded data removed]"
          },
          "metadata": {}
        }
      ]
    },
    {
      "cell_type": "markdown",
      "source": [
        "##### ROC Curve"
      ],
      "metadata": {
        "id": "-2s06fEw2NgO"
      }
    },
    {
      "cell_type": "code",
      "source": [
        "# Calculate the fpr and tpr values using the roc_curve function\n",
        "fpr, tpr, thresholds = roc_curve(validation_labels, bow_validation_binary_predictions)\n",
        "\n",
        "# Plot the ROC curve\n",
        "plt.plot(fpr, tpr)\n",
        "plt.xlabel('False Positive Rate')\n",
        "plt.ylabel('True Positive Rate')\n",
        "plt.title('ROC Curve')\n",
        "plt.show()"
      ],
      "metadata": {
        "id": "of6s6fB1qAS9",
        "colab": {
          "base_uri": "https://localhost:8080/",
          "height": 480
        },
        "outputId": "ade2e71e-b010-4ce1-beb9-5b6e2e02df05"
      },
      "execution_count": null,
      "outputs": [
        {
          "output_type": "display_data",
          "data": {
            "text/plain": [
              "<Figure size 640x480 with 1 Axes>"
            ],
            "image/png": "[encoded data removed]"
          },
          "metadata": {}
        }
      ]
    },
    {
      "cell_type": "markdown",
      "source": [
        "##### Area Under the ROC curve"
      ],
      "metadata": {
        "id": "Zm_KRwBLOv_A"
      }
    },
    {
      "cell_type": "code",
      "source": [
        "# Calculate AUC score\n",
        "auc_score = roc_auc_score(validation_labels, bow_validation_binary_predictions)\n",
        "\n",
        "# Calculate fpr, tpr values using roc_curve function\n",
        "fpr, tpr, thresholds = roc_curve(validation_labels, bow_validation_binary_predictions)\n",
        "\n",
        "# Plot ROC curve\n",
        "plt.plot(fpr, tpr, label='AUC = {:.2f}'.format(auc_score))\n",
        "plt.plot([0, 1], [0, 1], 'k--')\n",
        "plt.xlim([0.0, 1.0])\n",
        "plt.ylim([0.0, 1.0])\n",
        "plt.xlabel('False Positive Rate')\n",
        "plt.ylabel('True Positive Rate')\n",
        "plt.title('ROC Curve')\n",
        "plt.legend(loc='lower right')\n",
        "plt.show()"
      ],
      "metadata": {
        "colab": {
          "base_uri": "https://localhost:8080/",
          "height": 480
        },
        "id": "NAd5vHY3O0qM",
        "outputId": "1ac85c51-0121-425c-9b92-54fa7d3363da"
      },
      "execution_count": null,
      "outputs": [
        {
          "output_type": "display_data",
          "data": {
            "text/plain": [
              "<Figure size 640x480 with 1 Axes>"
            ],
            "image/png": "[encoded data removed]"
          },
          "metadata": {}
        }
      ]
    },
    {
      "cell_type": "markdown",
      "source": [
        "##### Example Errors\n",
        "To gain insight into why our model may be misclassifying tweets, we opted to showcase five examples of false positives and false negatives."
      ],
      "metadata": {
        "id": "gzH8yENl2Pmz"
      }
    },
    {
      "cell_type": "code",
      "source": [
        "# Get the indices for wrong predictions\n",
        "error_indices = np.where(validation_labels != bow_validation_binary_predictions.reshape(-1))\n",
        "\n",
        "fp_count, fn_count = 0, 0\n",
        "i = 0\n",
        "\n",
        "while fp_count < 5 or fn_count < 5:\n",
        "    index = error_indices[0][i]\n",
        "    true_label = validation_labels[index]\n",
        "    predicted_label = bow_validation_binary_predictions[index]\n",
        "    \n",
        "    if true_label == 0 and predicted_label == 1 and fp_count < 5:\n",
        "        print(f\"Text: {validation_df.iloc[index]['text']}\")\n",
        "        print(f\"True label: {true_label}, Predicted label: {predicted_label}\")\n",
        "        print(\"\\n\")\n",
        "        fp_count += 1\n",
        "    \n",
        "    if true_label == 1 and predicted_label == 0 and fn_count < 5:\n",
        "        print(f\"Text: {validation_df.iloc[index]['text']}\")\n",
        "        print(f\"True label: {true_label}, Predicted label: {predicted_label}\")\n",
        "        print(\"\\n\")\n",
        "        fn_count += 1\n",
        "        \n",
        "    i += 1\n"
      ],
      "metadata": {
        "colab": {
          "base_uri": "https://localhost:8080/"
        },
        "id": "G1C-DWuKMV5R",
        "outputId": "5fc4477a-3676-4c69-fad9-a42d2fee71f9"
      },
      "execution_count": null,
      "outputs": [
        {
          "output_type": "stream",
          "name": "stdout",
          "text": [
            "Text:  hell kill me instead if he survived the shot i dont exactly know i fled the scene and pulled the trigger with\n",
            "True label: 1, Predicted label: [0]\n",
            "\n",
            "\n",
            "Text: hot  reddits new content policy goes into effect many horrible subreddits banned or quarantined  prebreak best\n",
            "True label: 1, Predicted label: [0]\n",
            "\n",
            "\n",
            "Text: the sinking ship  scarlet lane lenore  is on replacing stone saison \n",
            "True label: 0, Predicted label: [1]\n",
            "\n",
            "\n",
            "Text: nearly had a heart attack just now loud bang against window next to meûturns out it was two birds flying into the glass\n",
            "True label: 1, Predicted label: [0]\n",
            "\n",
            "\n",
            "Text: listen live  author interview beth underwood of gravity on military mom talkradio\n",
            "True label: 0, Predicted label: [1]\n",
            "\n",
            "\n",
            "Text: i may have gotten a little too exited over my home made lava lamp \n",
            "True label: 0, Predicted label: [1]\n",
            "\n",
            "\n",
            "Text: cartoon bears without them we would qave no knowlddge of forest fires or toilet paper\n",
            "True label: 0, Predicted label: [1]\n",
            "\n",
            "\n",
            "Text: three days off from work and theyve pretty much all been wrecked hahaha shoutout to my family for that one\n",
            "True label: 0, Predicted label: [1]\n",
            "\n",
            "\n",
            "Text:  and when will you be commenting on ian taylors dealings with mass  murderer arkan\n",
            "True label: 1, Predicted label: [0]\n",
            "\n",
            "\n",
            "Text:  lets try to do our best to prevent another outbreak of violence by talking to each other both the people and the politics\n",
            "True label: 1, Predicted label: [0]\n",
            "\n",
            "\n"
          ]
        }
      ]
    },
    {
      "cell_type": "markdown",
      "source": [
        "##### Discussion\n",
        "Like the BERT model, The Kaggle F1 score for the Bag of Words model is notably higher than the validation set, possibly due to the larger size of the test dataset, allowing the model to generalize better. However, the confusion matrix reveals that the model predicts more false negatives than false positives (even more so than the BERT model), possibly because of the class imbalance in the training dataset. To address this issue, we would recommend augmenting the dataset with more disaster-related tweets.\n",
        "<br/>\n",
        "<br/>\n",
        "The ROC curve provides a graphical representation of the trade-off between the true positive rate (TPR) and the false positive rate (FPR), enabling us to determine the optimal threshold value for our model. The optimal threshold value is the point on the curve closest to the upper left corner, which represents high TPR and low FPR. However, even after identifying the optimal threshold value, which appeared to be approximately 0.7 for Bag of Words, we found that using a threshold value of 0.5 resulted in higher accuracy for the model. This suggests that the threshold value is not the only factor influencing the model's performance, and that other factors, such as the choice of hyperparameters, may also be important.\n",
        "<br/>\n",
        "<br/>\n",
        "The AUC ROC curve, similarly to the ROC curve, provides a visual representation of the trade-off between the true positive rate (TPR) and the false positive rate (FPR). It measures the ability of the model to distinguish between positive and negative classes, regardless of the threshold value used to classify the data.\n",
        "\n",
        "The Bag of Word's AUC ROC score was identified as 0.73, demonstrating an adequate performing model.\n",
        "<br/>\n",
        "<br/>\n",
        "Upon examining the errors, it appears that the model's incorrect predictions are due to the noise and ambiguity present in the text data and the class imbalance in the dataset. The model may struggle to accurately identify disaster-related tweets, while the bias towards the majority class (non-disaster tweets) further complicates the issue, especially given the synonymous keywords in the text.\n",
        "<br/>\n",
        "<br/>\n",
        "Moreover, the model's training process portrays a possibly overly large learning rate, which is causing the accuracy to oscillate between getting better and worse accuracies. This is due to the adam optimizer's refusal to allow our model to be trained on a specified learning rate.\n",
        "<br/>\n",
        "<br/>\n",
        "The model's hyperparameters, such as the learning rate and batch size, may have also played a role in its performance, although the learning size was determined by the sequential keras model, and the batch size was chosen emperically.\n",
        "<br/>\n"
      ],
      "metadata": {
        "id": "bp8dcPN1O2uB"
      }
    },
    {
      "cell_type": "markdown",
      "source": [
        "##### Analysis\n",
        "Possible ways to improve the model's performance involve augmenting the training dataset with more disaster-related tweets to address the bias towards the non-disaster class highlighted in the error analysis. One approach to increase the size of the dataset is to use techniques like data synthesis and phrase replacement to generate new training examples.\n",
        "\n",
        "Moreover, there are more optimizers that could be used with the Bag of Words model, which would allow us to have better control over the learning rate, which may provide better performance, but we decided not to pursue that route due to time restrictions."
      ],
      "metadata": {
        "id": "E-A_S-twVorH"
      }
    },
    {
      "cell_type": "markdown",
      "metadata": {
        "id": "D8bEufCAfHWN"
      },
      "source": [
        "### Conclusion\n",
        "\n",
        "There are several challenges to accurately predicting whether a tweet discusses an actual disaster or not, including class imbalance, noise, and ambiguity in the text data.\n",
        "<br/>\n",
        "<br/>\n",
        "Both the BERT and Bag of Words models achieved higher F1 scores on the Kaggle test dataset than on the validation set, indicating that they were able to generalize well to new data. However, both models struggled with false negatives, potentially due to the class imbalance in the training data, and both required some tuning of the threshold value to optimize performance.\n",
        "<br/>\n",
        "<br/>\n",
        "When compared to the validation set, the F1 scores for the BERT and Bag of Words models were higher on the Kaggle test dataset, demonstrating their ability to generalize well to new data. However, both models had issues with false negatives, maybe as a result of the class imbalance in the training data, and both needed the threshold value to be adjusted to optimize performance.\n",
        "<br/>\n",
        "<br/>\n",
        "Through our analysis, we have identified several strategies to potentially improve the performance of our model. Firstly, addressing the issue of imbalanced training data by generating additional training examples could be an effective solution. Additionally, incorporating a technique such as removing stopwords in our bag of words model may aid in capturing context. It is worth noting that BERT, as a state-of-the-art model, comes equipped with its own preprocessor that is robust to a certain degree of text variability.\n",
        "\n",
        "Furthermore, we were keen on exploring the use of model ensembling as a means to further enhance our predictions. One promising approach involves ensembling multiple BERT models, each trained on a subset of the training data, or trained on different variations of the data such as unclean versus cleaned text. By leveraging the complementary strengths of different models, we may be able to achieve even better performance on our task.\n",
        "<br/>\n",
        "<br/>\n",
        "Our initial expectations for the performance of the Bag of Words model were surpassed, as we did not anticipate such strong results from a model of its relative simplicity. The resulting F1 score was quite impressive, particularly given our modest expectations at the outset.\n",
        "\n",
        "However, our optimism for the BERT model did not fully match our expectations. Despite having a large number of trainable parameters, the model did not perform as strongly as we had hoped, and fell short of the 0.90 F1 score target that was initially anticipated. This serves as a powerful reminder of the inherent complexity and ambiguity of natural language processing tasks, particularly given the intricacies of our dataset which is full of synomous textual data which is complex for a model to analyze.\n",
        "<br/>\n",
        "<br/>\n",
        "In conclusion, the project highlights the importance of carefully considering the specific challenges and nuances of the data when designing a machine learning model. While both the BERT and Bag of Words models performed reasonably well, it may be necessary to augment the training data with more disaster-related tweets in order to further improve performance. Additionally, continued exploration of different model architectures and hyperparameters may help to address some of the challenges identified in this project."
      ]
    },
    {
      "cell_type": "markdown",
      "metadata": {
        "id": "uyP8sJB_26zp"
      },
      "source": [
        "### Table of Results\n",
        "\n",
        "| Model | Validation F1 Score | Kaggle F1 Score |\n",
        "| :---: | :----------------: | :-------------: |\n",
        "| Baseline |      0.53906      |     0.63070      |\n",
        "| Bag of Words Binary Classifier |      0.68308       |     0.74103      |\n",
        "| BERT |      0.80261      |     0.84737      |\n"
      ]
    }
  ],
  "metadata": {
    "accelerator": "GPU",
    "colab": {
      "provenance": [],
      "machine_shape": "hm",
      "toc_visible": true
    },
    "gpuClass": "premium",
    "kernelspec": {
      "display_name": "Python 3",
      "name": "python3"
    },
    "language_info": {
      "name": "python"
    }
  },
  "nbformat": 4,
  "nbformat_minor": 0
}